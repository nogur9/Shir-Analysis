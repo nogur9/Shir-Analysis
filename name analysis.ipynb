{
 "cells": [
  {
   "cell_type": "code",
   "execution_count": 2,
   "id": "8f837f8b-a127-48c0-b1a3-eef4023e8c3b",
   "metadata": {},
   "outputs": [],
   "source": [
    "import pandas as pd\n",
    "import seaborn as sns\n",
    "import plotly\n",
    "import matplotlib.pyplot as plt\n",
    "import ipywidgets as widgets\n",
    "from IPython.display import display, clear_output\n"
   ]
  },
  {
   "cell_type": "code",
   "execution_count": 3,
   "id": "b0a42e89-b3c6-4322-abcf-0751a646a7c6",
   "metadata": {},
   "outputs": [],
   "source": [
    "df = pd.read_csv(\"data/subscriptions.csv\")\n",
    "email = 'Customer Email'\n",
    "name = 'Customer Name'\n",
    "c_id = 'Customer ID'"
   ]
  },
  {
   "cell_type": "code",
   "execution_count": 4,
   "id": "3fd5a24e-9baf-4ba6-8712-0f2492671afc",
   "metadata": {},
   "outputs": [],
   "source": [
    "def contains_shir(row):\n",
    "    # exception\n",
    "    if row[email] == 'kshirjarohannaik@gmail.com':\n",
    "        return False\n",
    "    elif 'shir' in row[email]:\n",
    "        return True\n",
    "    elif 'shir' in row[name]:\n",
    "        return True\n",
    "    else:\n",
    "        return False"
   ]
  },
  {
   "cell_type": "code",
   "execution_count": 5,
   "id": "e8b547b5-80db-49a2-8ed9-f3311b375a38",
   "metadata": {},
   "outputs": [],
   "source": [
    "## to detect duplicates & shirs - need to lower"
   ]
  },
  {
   "cell_type": "code",
   "execution_count": 6,
   "id": "8b8510b1-1323-4dbe-82a1-f470246d76cc",
   "metadata": {},
   "outputs": [
    {
     "name": "stdout",
     "output_type": "stream",
     "text": [
      "before removing df.shape = (283, 17)\n",
      "shir_mask.sum() = 13\n",
      "after removing df.shape = (270, 17)\n"
     ]
    }
   ],
   "source": [
    "print(f\"before removing {df.shape = }\")\n",
    "\n",
    "df[email] = df[email].str.lower()\n",
    "df[name] = df[name].str.lower()\n",
    "shir_mask = df.apply(contains_shir, axis=1)\n",
    "print(f\"{shir_mask.sum() = }\")\n",
    "df = df[~shir_mask]\n",
    "print(f\"after removing {df.shape = }\")\n",
    "\n"
   ]
  },
  {
   "cell_type": "code",
   "execution_count": 7,
   "id": "659d042c-c744-4d85-bf4a-b35e5c4d0450",
   "metadata": {},
   "outputs": [
    {
     "name": "stdout",
     "output_type": "stream",
     "text": [
      "dup_e.sum() = 85\n",
      "dup_n.sum() = 85\n",
      "dup_c.sum() = 49\n"
     ]
    }
   ],
   "source": [
    "dup_e = df[email].duplicated(keep=False)\n",
    "print(f\"{dup_e.sum() = }\")\n",
    "dup_n = df[name].duplicated(keep=False)\n",
    "print(f\"{dup_n.sum() = }\")\n",
    "dup_c = df[c_id].duplicated(keep=False)\n",
    "print(f\"{dup_c.sum() = }\")\n"
   ]
  },
  {
   "cell_type": "markdown",
   "id": "d9f4d9c7-b564-4910-8595-0d3c29737a38",
   "metadata": {},
   "source": [
    "### for duplicated names & emails, they are 1-1 unique"
   ]
  },
  {
   "cell_type": "code",
   "execution_count": 8,
   "id": "f1db0172-1139-4be5-813e-af08a1c90c4e",
   "metadata": {},
   "outputs": [
    {
     "name": "stdout",
     "output_type": "stream",
     "text": [
      "both_dup_df.shape = (80, 2)\n",
      "True\n",
      "True\n"
     ]
    }
   ],
   "source": [
    "both_dup_df = df[dup_e & dup_n][[name, email]]#.sort_values(by = identifiers[0])\n",
    "print(f\"{both_dup_df.shape = }\")\n",
    "print((both_dup_df.groupby(email)[name].nunique() == 1).all())\n",
    "print((both_dup_df.groupby(name)[email].nunique() == 1).all())"
   ]
  },
  {
   "cell_type": "code",
   "execution_count": 9,
   "id": "70c098f6-c408-4e26-9f8f-9db62281c211",
   "metadata": {},
   "outputs": [
    {
     "name": "stdout",
     "output_type": "stream",
     "text": [
      "dup_email_only.shape = (5, 2)\n",
      "dup_name_only.shape = (5, 2)\n"
     ]
    }
   ],
   "source": [
    "dup_email_only = df[dup_e & ~dup_n][[name, email]]\n",
    "print(f\"{dup_email_only.shape = }\")\n",
    "dup_name_only = df[~dup_e & dup_n][[name, email]]\n",
    "print(f\"{dup_name_only.shape = }\")"
   ]
  },
  {
   "cell_type": "code",
   "execution_count": 72,
   "id": "95331c3c-04da-4f3f-8e37-e22d568204fa",
   "metadata": {},
   "outputs": [
    {
     "data": {
      "application/vnd.jupyter.widget-view+json": {
       "model_id": "fcbc4f1e996740a89742dde3372f7e65",
       "version_major": 2,
       "version_minor": 0
      },
      "text/plain": [
       "Output()"
      ]
     },
     "metadata": {},
     "output_type": "display_data"
    }
   ],
   "source": [
    "# Wrapper Output outside the function, so it persists across calls\n",
    "output_area = widgets.Output()\n",
    "\n",
    "def review_customer(index=0):\n",
    "    if index >= len(duplicated_customers_list):\n",
    "        with output_area:\n",
    "            clear_output(wait=True)\n",
    "            print(\"✅ Done reviewing all duplicates.\")\n",
    "        return\n",
    "\n",
    "    customer = duplicated_customers_list[index]\n",
    "    df_customer = df[df[\"customer\"] == customer][times_m]\n",
    "\n",
    "\n",
    "    button = widgets.Button(description=\"next\")\n",
    "\n",
    "    def on_button_clicked(b):\n",
    "        # Clear and move to next customer\n",
    "        review_customer(index + 1)\n",
    "\n",
    "    button.on_click(on_button_clicked)\n",
    "\n",
    "    with output_area:\n",
    "        clear_output(wait=True)\n",
    "        print(f\"Reviewing customer {index + 1}/{len(duplicated_customers_list)}\")\n",
    "        print(f\"{customer = }\")\n",
    "        display(df_customer)\n",
    "\n",
    "# Start the process\n",
    "display(output_area)\n",
    "review_customer(0)\n"
   ]
  },
  {
   "cell_type": "code",
   "execution_count": 10,
   "id": "44d5d6f7-6652-41f7-83ce-4ba882c3d7ac",
   "metadata": {},
   "outputs": [],
   "source": [
    "dup_email_only.sort_values(by = email).to_csv(\"name_unique_email_duplications.csv\", index = False)\n",
    "dup_name_only.sort_values(by = name).to_csv(\"email_unique_name_duplications.csv\", index = False)"
   ]
  },
  {
   "cell_type": "code",
   "execution_count": 32,
   "id": "85886e17-4300-4011-8c2d-474e43e9cbea",
   "metadata": {},
   "outputs": [
    {
     "name": "stdout",
     "output_type": "stream",
     "text": [
      "True\n",
      "True\n"
     ]
    }
   ],
   "source": [
    "# the customer id is redundent\n",
    "print((dup_c == (dup_e & dup_c)).all())\n",
    "print((dup_c == (dup_n & dup_c)).all())\n",
    "df = df.drop(c_id, axis=1)"
   ]
  },
  {
   "cell_type": "code",
   "execution_count": 40,
   "id": "fd3f31b0-cdf8-46a9-8924-a213174aadce",
   "metadata": {},
   "outputs": [
    {
     "name": "stdout",
     "output_type": "stream",
     "text": [
      "dup_customer.sum() =  80\n"
     ]
    }
   ],
   "source": [
    "df['customer'] = df[email] + '-' + df[name]\n",
    "# duplicated \n",
    "dup_customer = df['customer'].duplicated(keep=False)\n",
    "print(f\"{dup_customer.sum() =  }\")\n",
    "duplicated_customers_list = df[dup_customer]['customer'].unique()"
   ]
  },
  {
   "cell_type": "code",
   "execution_count": 45,
   "id": "092c09fe-5e93-49bf-8a6a-e7dc85d73868",
   "metadata": {},
   "outputs": [],
   "source": [
    "# Convert relevant date columns to datetime\n",
    "df['Start Date (UTC)'] = pd.to_datetime(df['Start Date (UTC)'])\n",
    "df['Canceled At (UTC)'] = pd.to_datetime(df['Canceled At (UTC)'])\n",
    "\n",
    "# Extract the month and year\n",
    "df['start_month'] = df['Start Date (UTC)'].dt.to_period('M')\n",
    "df['cancel_month'] = df['Canceled At (UTC)'].dt.to_period('M')\n",
    "\n",
    "\n",
    "times = ['Start Date (UTC)', 'Canceled At (UTC)']\n",
    "times_m = ['start_month', 'cancel_month']\n",
    "\n",
    "resolved_rows = []"
   ]
  },
  {
   "cell_type": "code",
   "execution_count": 70,
   "id": "581e8c2f-5b79-47f8-9293-d4040188a1a7",
   "metadata": {},
   "outputs": [
    {
     "data": {
      "application/vnd.jupyter.widget-view+json": {
       "model_id": "0051aebf540743f0974cd6a389514bc7",
       "version_major": 2,
       "version_minor": 0
      },
      "text/plain": [
       "Output()"
      ]
     },
     "metadata": {},
     "output_type": "display_data"
    }
   ],
   "source": [
    "# Wrapper Output outside the function, so it persists across calls\n",
    "output_area = widgets.Output()\n",
    "\n",
    "def review_customer(index=0):\n",
    "    if index >= len(duplicated_customers_list):\n",
    "        with output_area:\n",
    "            clear_output(wait=True)\n",
    "            print(\"✅ Done reviewing all duplicates.\")\n",
    "        return\n",
    "\n",
    "    customer = duplicated_customers_list[index]\n",
    "    df_customer = df[df[\"customer\"] == customer][times_m]\n",
    "\n",
    "    # Create dropdown and button inside this function\n",
    "    dropdown = widgets.Dropdown(\n",
    "        options=df_customer.index.tolist(),\n",
    "        description='Pick index:',\n",
    "        disabled=False,\n",
    "    )\n",
    "\n",
    "    button = widgets.Button(description=\"Confirm\")\n",
    "\n",
    "    def on_button_clicked(b):\n",
    "        resolved_rows.append(df.loc[dropdown.value])\n",
    "        # Clear and move to next customer\n",
    "        review_customer(index + 1)\n",
    "\n",
    "    button.on_click(on_button_clicked)\n",
    "\n",
    "    with output_area:\n",
    "        clear_output(wait=True)\n",
    "        print(f\"Reviewing customer {index + 1}/{len(duplicated_customers_list)}\")\n",
    "        print(f\"{customer = }\")\n",
    "        display(df_customer)\n",
    "        display(dropdown, button)\n",
    "\n",
    "# Start the process\n",
    "display(output_area)\n",
    "review_customer(0)\n"
   ]
  },
  {
   "cell_type": "code",
   "execution_count": null,
   "id": "eb4fbb3b-7082-4625-abc5-ccc91e706e63",
   "metadata": {},
   "outputs": [],
   "source": []
  }
 ],
 "metadata": {
  "kernelspec": {
   "display_name": "schneider",
   "language": "python",
   "name": "schneider"
  },
  "language_info": {
   "codemirror_mode": {
    "name": "ipython",
    "version": 3
   },
   "file_extension": ".py",
   "mimetype": "text/x-python",
   "name": "python",
   "nbconvert_exporter": "python",
   "pygments_lexer": "ipython3",
   "version": "3.12.7"
  }
 },
 "nbformat": 4,
 "nbformat_minor": 5
}
