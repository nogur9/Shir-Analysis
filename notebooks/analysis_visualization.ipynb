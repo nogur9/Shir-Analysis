{
 "cells": [
  {
   "cell_type": "code",
   "execution_count": 1,
   "id": "8f837f8b-a127-48c0-b1a3-eef4023e8c3b",
   "metadata": {},
   "outputs": [],
   "source": [
    "import pandas as pd\n",
    "import seaborn as sns\n",
    "import plotly\n",
    "import matplotlib.pyplot as plt\n",
    "import datetime"
   ]
  },
  {
   "cell_type": "code",
   "execution_count": 2,
   "id": "b0a42e89-b3c6-4322-abcf-0751a646a7c6",
   "metadata": {},
   "outputs": [],
   "source": [
    "df = pd.read_csv(\"../data/subscriptions.csv\")\n",
    "pay_df = pd.read_csv(\"../data/payments.csv\")\n",
    "\n",
    "email = 'Customer Email'\n",
    "name = 'Customer Name'\n",
    "pay_df['cust_id'] = pay_df['Name'] + '-' + pay_df['Email']\n",
    "df['cust_id'] = df[name] + '-' + df[email]\n"
   ]
  },
  {
   "cell_type": "code",
   "execution_count": 3,
   "id": "673be87f-2898-4cf3-bb33-fe4d86ac0ce5",
   "metadata": {},
   "outputs": [],
   "source": [
    "sos = pay_df[['cust_id', 'Total Spend']].to_dict(orient = 'tight', index=False)\n",
    "meow = {i[0]: i[1] for i in sos['data']}\n",
    "df['spent'] = df['cust_id'].map(meow)\n",
    "df = df[df['spent'] >= 60]"
   ]
  },
  {
   "cell_type": "code",
   "execution_count": null,
   "id": "52fb612c-6150-4b04-bd16-78806f403b7e",
   "metadata": {},
   "outputs": [],
   "source": []
  },
  {
   "cell_type": "code",
   "execution_count": null,
   "id": "8e6bae36-7d5a-47b3-9d1e-18c8539e91ab",
   "metadata": {},
   "outputs": [],
   "source": []
  },
  {
   "cell_type": "code",
   "execution_count": null,
   "id": "406d2a31-214d-4a3a-a314-5d25a147c1fc",
   "metadata": {},
   "outputs": [],
   "source": []
  },
  {
   "cell_type": "code",
   "execution_count": 4,
   "id": "020a61ed-3d37-4f91-9b4d-fd7564026e28",
   "metadata": {},
   "outputs": [
    {
     "data": {
      "text/plain": [
       "(205, 19)"
      ]
     },
     "execution_count": 4,
     "metadata": {},
     "output_type": "execute_result"
    }
   ],
   "source": [
    "df.shape"
   ]
  },
  {
   "cell_type": "code",
   "execution_count": 5,
   "id": "b4a05c3f-cce9-4c5c-8527-6212cf6f3c8e",
   "metadata": {},
   "outputs": [],
   "source": [
    "def is_active(row, month):\n",
    "    started_before = row['Start Date (UTC)'] <= month.start_time\n",
    "    ended_after = row['Canceled At (UTC)'] >= month.start_time or \\\n",
    "                  pd.isnull(row['Canceled At (UTC)'])\n",
    "    \n",
    "    return started_before and ended_after"
   ]
  },
  {
   "cell_type": "code",
   "execution_count": 6,
   "id": "a496dde3-63de-454f-b98e-b2fe87689783",
   "metadata": {},
   "outputs": [],
   "source": [
    "# Convert relevant date columns to datetime\n",
    "df['Start Date (UTC)'] = pd.to_datetime(df['Start Date (UTC)'])\n",
    "df['Canceled At (UTC)'] = pd.to_datetime(df['Canceled At (UTC)'])\n",
    "\n",
    "# Extract the month and year\n",
    "df['start_month'] = df['Start Date (UTC)'].dt.to_period('M')\n",
    "df['cancel_month'] = df['Canceled At (UTC)'].dt.to_period('M')\n"
   ]
  },
  {
   "cell_type": "code",
   "execution_count": 9,
   "id": "cc0e2146-cb8e-4a3c-97c6-4405c4eddf37",
   "metadata": {},
   "outputs": [
    {
     "data": {
      "text/html": [
       "<div>\n",
       "<style scoped>\n",
       "    .dataframe tbody tr th:only-of-type {\n",
       "        vertical-align: middle;\n",
       "    }\n",
       "\n",
       "    .dataframe tbody tr th {\n",
       "        vertical-align: top;\n",
       "    }\n",
       "\n",
       "    .dataframe thead th {\n",
       "        text-align: right;\n",
       "    }\n",
       "</style>\n",
       "<table border=\"1\" class=\"dataframe\">\n",
       "  <thead>\n",
       "    <tr style=\"text-align: right;\">\n",
       "      <th></th>\n",
       "      <th>Customer Name</th>\n",
       "      <th>Customer Email</th>\n",
       "      <th>Amount</th>\n",
       "    </tr>\n",
       "  </thead>\n",
       "  <tbody>\n",
       "    <tr>\n",
       "      <th>203</th>\n",
       "      <td>Karim Kawash</td>\n",
       "      <td>kkawashk@gmail.com</td>\n",
       "      <td>150.0</td>\n",
       "    </tr>\n",
       "    <tr>\n",
       "      <th>213</th>\n",
       "      <td>Rajesh Ravindran</td>\n",
       "      <td>rajeshravindran05@gmail.com</td>\n",
       "      <td>80.0</td>\n",
       "    </tr>\n",
       "    <tr>\n",
       "      <th>214</th>\n",
       "      <td>J Chen</td>\n",
       "      <td>christinachen0130@hotmail.com</td>\n",
       "      <td>80.0</td>\n",
       "    </tr>\n",
       "    <tr>\n",
       "      <th>224</th>\n",
       "      <td>Alina Leon Kozenko</td>\n",
       "      <td>alileoko97@hotmail.com</td>\n",
       "      <td>150.0</td>\n",
       "    </tr>\n",
       "    <tr>\n",
       "      <th>241</th>\n",
       "      <td>Avinoam Gal</td>\n",
       "      <td>mertiti@gmail.com</td>\n",
       "      <td>129.0</td>\n",
       "    </tr>\n",
       "    <tr>\n",
       "      <th>246</th>\n",
       "      <td>Mrs Prita V Nair</td>\n",
       "      <td>nairprita21@gmail.com</td>\n",
       "      <td>60.0</td>\n",
       "    </tr>\n",
       "    <tr>\n",
       "      <th>253</th>\n",
       "      <td>S Markuta</td>\n",
       "      <td>ostaf05sveta@yahoo.com</td>\n",
       "      <td>99.0</td>\n",
       "    </tr>\n",
       "    <tr>\n",
       "      <th>264</th>\n",
       "      <td>Ankur Zadoo</td>\n",
       "      <td>ankurzadu@gmail.com</td>\n",
       "      <td>99.0</td>\n",
       "    </tr>\n",
       "    <tr>\n",
       "      <th>265</th>\n",
       "      <td>Ankur Zadoo</td>\n",
       "      <td>ankurzadu@gmail.com</td>\n",
       "      <td>99.0</td>\n",
       "    </tr>\n",
       "    <tr>\n",
       "      <th>268</th>\n",
       "      <td>Ying Liu</td>\n",
       "      <td>l9664@hotmail.com</td>\n",
       "      <td>60.0</td>\n",
       "    </tr>\n",
       "    <tr>\n",
       "      <th>274</th>\n",
       "      <td>Olayinka  Bello</td>\n",
       "      <td>yinkbells@gmail.com</td>\n",
       "      <td>99.0</td>\n",
       "    </tr>\n",
       "  </tbody>\n",
       "</table>\n",
       "</div>"
      ],
      "text/plain": [
       "          Customer Name                 Customer Email  Amount\n",
       "203        Karim Kawash             kkawashk@gmail.com   150.0\n",
       "213    Rajesh Ravindran    rajeshravindran05@gmail.com    80.0\n",
       "214              J Chen  christinachen0130@hotmail.com    80.0\n",
       "224  Alina Leon Kozenko         alileoko97@hotmail.com   150.0\n",
       "241         Avinoam Gal              mertiti@gmail.com   129.0\n",
       "246    Mrs Prita V Nair          nairprita21@gmail.com    60.0\n",
       "253           S Markuta         ostaf05sveta@yahoo.com    99.0\n",
       "264         Ankur Zadoo            ankurzadu@gmail.com    99.0\n",
       "265         Ankur Zadoo            ankurzadu@gmail.com    99.0\n",
       "268            Ying Liu              l9664@hotmail.com    60.0\n",
       "274     Olayinka  Bello            yinkbells@gmail.com    99.0"
      ]
     },
     "execution_count": 9,
     "metadata": {},
     "output_type": "execute_result"
    }
   ],
   "source": [
    "df[\n",
    "    (df['cancel_month'].dt.year == 2024) &\n",
    "    (df['cancel_month'].dt.month == 6) \n",
    "][[name, email, 'Amount']]"
   ]
  },
  {
   "cell_type": "code",
   "execution_count": 10,
   "id": "6a4890db-c096-47a7-9dfe-fa8adacbb4ca",
   "metadata": {},
   "outputs": [],
   "source": [
    "analysis_range = {\n",
    "    \"start\": df['start_month'].min(),\n",
    "    \"end\": df['start_month'].max()\n",
    "}\n",
    "# analysis_range\n",
    "all_months = pd.period_range(analysis_range[\"start\"], analysis_range[\"end\"])\n",
    "#all_months"
   ]
  },
  {
   "cell_type": "code",
   "execution_count": 13,
   "id": "a8035f3b-3ee0-4b06-9aa0-b7bdd34c8c1a",
   "metadata": {},
   "outputs": [
    {
     "data": {
      "text/plain": [
       "PeriodIndex(['2023-09', '2023-10', '2023-11', '2023-12', '2024-01', '2024-02',\n",
       "             '2024-03', '2024-04', '2024-05', '2024-06', '2024-07', '2024-08',\n",
       "             '2024-09', '2024-10', '2024-11', '2024-12', '2025-01', '2025-02',\n",
       "             '2025-03', '2025-04', '2025-05', '2025-06', '2025-07'],\n",
       "            dtype='period[M]')"
      ]
     },
     "execution_count": 13,
     "metadata": {},
     "output_type": "execute_result"
    }
   ],
   "source": [
    "all_months"
   ]
  },
  {
   "cell_type": "code",
   "execution_count": 11,
   "id": "f9d3caf4-9242-4075-b473-989a8a0f09e3",
   "metadata": {},
   "outputs": [],
   "source": [
    "start_hist = df.start_month.value_counts().sort_index()\n",
    "first = pd.Series(index = [pd.to_datetime('2023-09').to_period('M')], data=[0])\n",
    "cancel_hist = pd.concat([first, df.cancel_month.value_counts()]).sort_index()"
   ]
  },
  {
   "cell_type": "code",
   "execution_count": 10,
   "id": "7d193af2-b804-4fbc-97d4-8fcf652cc4f3",
   "metadata": {},
   "outputs": [],
   "source": [
    "actives = []\n",
    "for month in start_hist.index:\n",
    "    active_amount = df.apply(is_active, args=[month], axis=1)\n",
    "    actives.append(active_amount.sum())"
   ]
  },
  {
   "cell_type": "code",
   "execution_count": 19,
   "id": "2121b643-447b-4d78-b6c7-7c75e38e689f",
   "metadata": {},
   "outputs": [
    {
     "data": {
      "text/plain": [
       "(19,)"
      ]
     },
     "execution_count": 19,
     "metadata": {},
     "output_type": "execute_result"
    }
   ],
   "source": [
    " df.cancel_month.value_counts().shape"
   ]
  },
  {
   "cell_type": "code",
   "execution_count": 17,
   "id": "9f3e120f-7120-4ea6-a5c7-5ba58020887c",
   "metadata": {},
   "outputs": [
    {
     "data": {
      "text/plain": [
       "23"
      ]
     },
     "execution_count": 17,
     "metadata": {},
     "output_type": "execute_result"
    }
   ],
   "source": [
    "len(actives)"
   ]
  },
  {
   "cell_type": "code",
   "execution_count": 11,
   "id": "62a21531-2622-4fe4-a816-f332a526b567",
   "metadata": {},
   "outputs": [
    {
     "ename": "ValueError",
     "evalue": "All arrays must be of the same length",
     "output_type": "error",
     "traceback": [
      "\u001b[1;31m---------------------------------------------------------------------------\u001b[0m",
      "\u001b[1;31mValueError\u001b[0m                                Traceback (most recent call last)",
      "Cell \u001b[1;32mIn[11], line 1\u001b[0m\n\u001b[1;32m----> 1\u001b[0m counts \u001b[38;5;241m=\u001b[39m pd\u001b[38;5;241m.\u001b[39mDataFrame({\u001b[38;5;124m\"\u001b[39m\u001b[38;5;124midx\u001b[39m\u001b[38;5;124m\"\u001b[39m: start_hist\u001b[38;5;241m.\u001b[39mindex,\n\u001b[0;32m      2\u001b[0m                        \u001b[38;5;124m\"\u001b[39m\u001b[38;5;124mstart_count\u001b[39m\u001b[38;5;124m\"\u001b[39m: start_hist\u001b[38;5;241m.\u001b[39mvalues,\n\u001b[0;32m      3\u001b[0m                        \u001b[38;5;124m\"\u001b[39m\u001b[38;5;124mcancel_count\u001b[39m\u001b[38;5;124m\"\u001b[39m: cancel_hist\u001b[38;5;241m.\u001b[39mvalues,\n\u001b[0;32m      4\u001b[0m                        \u001b[38;5;124m\"\u001b[39m\u001b[38;5;124mactives\u001b[39m\u001b[38;5;124m\"\u001b[39m:actives})\n",
      "File \u001b[1;32m~\\anaconda3\\Lib\\site-packages\\pandas\\core\\frame.py:778\u001b[0m, in \u001b[0;36mDataFrame.__init__\u001b[1;34m(self, data, index, columns, dtype, copy)\u001b[0m\n\u001b[0;32m    772\u001b[0m     mgr \u001b[38;5;241m=\u001b[39m \u001b[38;5;28mself\u001b[39m\u001b[38;5;241m.\u001b[39m_init_mgr(\n\u001b[0;32m    773\u001b[0m         data, axes\u001b[38;5;241m=\u001b[39m{\u001b[38;5;124m\"\u001b[39m\u001b[38;5;124mindex\u001b[39m\u001b[38;5;124m\"\u001b[39m: index, \u001b[38;5;124m\"\u001b[39m\u001b[38;5;124mcolumns\u001b[39m\u001b[38;5;124m\"\u001b[39m: columns}, dtype\u001b[38;5;241m=\u001b[39mdtype, copy\u001b[38;5;241m=\u001b[39mcopy\n\u001b[0;32m    774\u001b[0m     )\n\u001b[0;32m    776\u001b[0m \u001b[38;5;28;01melif\u001b[39;00m \u001b[38;5;28misinstance\u001b[39m(data, \u001b[38;5;28mdict\u001b[39m):\n\u001b[0;32m    777\u001b[0m     \u001b[38;5;66;03m# GH#38939 de facto copy defaults to False only in non-dict cases\u001b[39;00m\n\u001b[1;32m--> 778\u001b[0m     mgr \u001b[38;5;241m=\u001b[39m dict_to_mgr(data, index, columns, dtype\u001b[38;5;241m=\u001b[39mdtype, copy\u001b[38;5;241m=\u001b[39mcopy, typ\u001b[38;5;241m=\u001b[39mmanager)\n\u001b[0;32m    779\u001b[0m \u001b[38;5;28;01melif\u001b[39;00m \u001b[38;5;28misinstance\u001b[39m(data, ma\u001b[38;5;241m.\u001b[39mMaskedArray):\n\u001b[0;32m    780\u001b[0m     \u001b[38;5;28;01mfrom\u001b[39;00m \u001b[38;5;21;01mnumpy\u001b[39;00m\u001b[38;5;21;01m.\u001b[39;00m\u001b[38;5;21;01mma\u001b[39;00m \u001b[38;5;28;01mimport\u001b[39;00m mrecords\n",
      "File \u001b[1;32m~\\anaconda3\\Lib\\site-packages\\pandas\\core\\internals\\construction.py:503\u001b[0m, in \u001b[0;36mdict_to_mgr\u001b[1;34m(data, index, columns, dtype, typ, copy)\u001b[0m\n\u001b[0;32m    499\u001b[0m     \u001b[38;5;28;01melse\u001b[39;00m:\n\u001b[0;32m    500\u001b[0m         \u001b[38;5;66;03m# dtype check to exclude e.g. range objects, scalars\u001b[39;00m\n\u001b[0;32m    501\u001b[0m         arrays \u001b[38;5;241m=\u001b[39m [x\u001b[38;5;241m.\u001b[39mcopy() \u001b[38;5;28;01mif\u001b[39;00m \u001b[38;5;28mhasattr\u001b[39m(x, \u001b[38;5;124m\"\u001b[39m\u001b[38;5;124mdtype\u001b[39m\u001b[38;5;124m\"\u001b[39m) \u001b[38;5;28;01melse\u001b[39;00m x \u001b[38;5;28;01mfor\u001b[39;00m x \u001b[38;5;129;01min\u001b[39;00m arrays]\n\u001b[1;32m--> 503\u001b[0m \u001b[38;5;28;01mreturn\u001b[39;00m arrays_to_mgr(arrays, columns, index, dtype\u001b[38;5;241m=\u001b[39mdtype, typ\u001b[38;5;241m=\u001b[39mtyp, consolidate\u001b[38;5;241m=\u001b[39mcopy)\n",
      "File \u001b[1;32m~\\anaconda3\\Lib\\site-packages\\pandas\\core\\internals\\construction.py:114\u001b[0m, in \u001b[0;36marrays_to_mgr\u001b[1;34m(arrays, columns, index, dtype, verify_integrity, typ, consolidate)\u001b[0m\n\u001b[0;32m    111\u001b[0m \u001b[38;5;28;01mif\u001b[39;00m verify_integrity:\n\u001b[0;32m    112\u001b[0m     \u001b[38;5;66;03m# figure out the index, if necessary\u001b[39;00m\n\u001b[0;32m    113\u001b[0m     \u001b[38;5;28;01mif\u001b[39;00m index \u001b[38;5;129;01mis\u001b[39;00m \u001b[38;5;28;01mNone\u001b[39;00m:\n\u001b[1;32m--> 114\u001b[0m         index \u001b[38;5;241m=\u001b[39m _extract_index(arrays)\n\u001b[0;32m    115\u001b[0m     \u001b[38;5;28;01melse\u001b[39;00m:\n\u001b[0;32m    116\u001b[0m         index \u001b[38;5;241m=\u001b[39m ensure_index(index)\n",
      "File \u001b[1;32m~\\anaconda3\\Lib\\site-packages\\pandas\\core\\internals\\construction.py:677\u001b[0m, in \u001b[0;36m_extract_index\u001b[1;34m(data)\u001b[0m\n\u001b[0;32m    675\u001b[0m lengths \u001b[38;5;241m=\u001b[39m \u001b[38;5;28mlist\u001b[39m(\u001b[38;5;28mset\u001b[39m(raw_lengths))\n\u001b[0;32m    676\u001b[0m \u001b[38;5;28;01mif\u001b[39;00m \u001b[38;5;28mlen\u001b[39m(lengths) \u001b[38;5;241m>\u001b[39m \u001b[38;5;241m1\u001b[39m:\n\u001b[1;32m--> 677\u001b[0m     \u001b[38;5;28;01mraise\u001b[39;00m \u001b[38;5;167;01mValueError\u001b[39;00m(\u001b[38;5;124m\"\u001b[39m\u001b[38;5;124mAll arrays must be of the same length\u001b[39m\u001b[38;5;124m\"\u001b[39m)\n\u001b[0;32m    679\u001b[0m \u001b[38;5;28;01mif\u001b[39;00m have_dicts:\n\u001b[0;32m    680\u001b[0m     \u001b[38;5;28;01mraise\u001b[39;00m \u001b[38;5;167;01mValueError\u001b[39;00m(\n\u001b[0;32m    681\u001b[0m         \u001b[38;5;124m\"\u001b[39m\u001b[38;5;124mMixing dicts with non-Series may lead to ambiguous ordering.\u001b[39m\u001b[38;5;124m\"\u001b[39m\n\u001b[0;32m    682\u001b[0m     )\n",
      "\u001b[1;31mValueError\u001b[0m: All arrays must be of the same length"
     ]
    }
   ],
   "source": [
    "counts = pd.DataFrame({\"idx\": start_hist.index,\n",
    "                       \"start_count\": start_hist.values,\n",
    "                       \"cancel_count\": cancel_hist.values,\n",
    "                       \"actives\":actives})"
   ]
  },
  {
   "cell_type": "code",
   "execution_count": null,
   "id": "4b0ba25e-d005-49a2-8c17-4378ff21cbff",
   "metadata": {},
   "outputs": [],
   "source": []
  },
  {
   "cell_type": "code",
   "execution_count": null,
   "id": "4f9c8939-e256-4967-a9f3-a905e46f029a",
   "metadata": {},
   "outputs": [],
   "source": [
    "counts['churn'] = (counts[\"cancel_count\"] / counts[\"actives\"])"
   ]
  },
  {
   "cell_type": "code",
   "execution_count": null,
   "id": "4fefea68-538e-4bba-842a-a7295af5347c",
   "metadata": {},
   "outputs": [],
   "source": [
    "plt.plot(counts[\"idx\"].astype(str),counts[\"cancel_count\"], marker='o', linestyle='dashed',color = 'r', label=\"cancel\")\n",
    "plt.plot(counts[\"idx\"].astype(str),counts[\"start_count\"], marker='o', linestyle='dashed',color = 'b', label=\"started\")\n",
    "plt.plot(counts[\"idx\"].astype(str),counts[\"actives\"], marker='o', linestyle='dashed',color = 'g', label=\"active\")\n",
    "plt.legend()\n",
    "# plt.xlabel(\"treatment_start_year\")\n",
    "# plt.ylabel(\"waiting_duration_weeks\")\n",
    "# plt.title(\"treatment_start_year X waiting_duration_weeks\")\n",
    "plt.show()"
   ]
  },
  {
   "cell_type": "code",
   "execution_count": null,
   "id": "fd3f31b0-cdf8-46a9-8924-a213174aadce",
   "metadata": {},
   "outputs": [],
   "source": [
    "counts.describe()"
   ]
  },
  {
   "cell_type": "code",
   "execution_count": null,
   "id": "ecf4fac9-ba49-46be-bf23-4c760b4b9022",
   "metadata": {},
   "outputs": [],
   "source": []
  }
 ],
 "metadata": {
  "kernelspec": {
   "display_name": "schneider",
   "language": "python",
   "name": "schneider"
  },
  "language_info": {
   "codemirror_mode": {
    "name": "ipython",
    "version": 3
   },
   "file_extension": ".py",
   "mimetype": "text/x-python",
   "name": "python",
   "nbconvert_exporter": "python",
   "pygments_lexer": "ipython3",
   "version": "3.12.7"
  }
 },
 "nbformat": 4,
 "nbformat_minor": 5
}
