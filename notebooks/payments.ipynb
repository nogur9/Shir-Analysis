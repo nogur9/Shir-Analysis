{
 "cells": [
  {
   "cell_type": "code",
   "execution_count": 5,
   "id": "9ad2e182-f1d3-4d1d-8465-1ab0fca01abb",
   "metadata": {},
   "outputs": [],
   "source": [
    "import pandas as pd\n",
    "import seaborn as sns\n",
    "import plotly\n",
    "import matplotlib.pyplot as plt\n",
    "import datetime\n",
    "from enum import Enum"
   ]
  },
  {
   "cell_type": "code",
   "execution_count": 6,
   "id": "a640dac5-8c67-49ef-a760-457c208cdfa3",
   "metadata": {},
   "outputs": [],
   "source": [
    "df = pd.read_csv(\"../subscriptions.csv\")\n",
    "pay_df = pd.read_csv(\"../data/subscriptions_new.csv\")\n",
    "\n",
    "email = 'Customer Email'\n",
    "name = 'Customer Name'\n",
    "pay_df['cust_id'] = pay_df[name] + '-' + pay_df[email]\n",
    "df['cust_id'] = df[name] + '-' + df[email]\n",
    "\n",
    "pay_dict = pay_df[['cust_id', 'Amount']].to_dict(orient='tight', index=False)\n",
    "pay_map = {i[0]: i[1] for i in pay_dict['data']}\n",
    "# df['amount'] = df['cust_id'].map(pay_map)\n",
    "# df = df.dropna(subset = \"amount\")"
   ]
  },
  {
   "cell_type": "code",
   "execution_count": 10,
   "id": "3748c842-b45c-4214-a4df-98cf23285c8d",
   "metadata": {},
   "outputs": [
    {
     "data": {
      "text/plain": [
       "Index(['id', 'Customer ID', 'Customer Description', 'Customer Email', 'Plan',\n",
       "       'Product', 'Product ID', 'Quantity', 'Currency', 'Cancellation Reason',\n",
       "       'Interval', 'Amount', 'Status', 'Created (UTC)', 'Start (UTC)',\n",
       "       'Start Date (UTC)', 'Current Period Start (UTC)',\n",
       "       'Current Period End (UTC)', 'Trial Start (UTC)', 'Trial End (UTC)',\n",
       "       'Application Fee Percent', 'Coupon', 'Tax Percent', 'Canceled At (UTC)',\n",
       "       'Cancel At Period End', 'Ended At (UTC)', 'Exclusive Tax Rate',\n",
       "       'Inclusive Tax Rate', 'Customer Name', 'Automatic Tax Enabled',\n",
       "       'Tax Location Recognized', 'cust_id'],\n",
       "      dtype='object')"
      ]
     },
     "execution_count": 10,
     "metadata": {},
     "output_type": "execute_result"
    }
   ],
   "source": [
    "pay_df.columns"
   ]
  },
  {
   "cell_type": "code",
   "execution_count": 19,
   "id": "00f34651-a730-4e21-9dc5-960cb8244422",
   "metadata": {},
   "outputs": [
    {
     "data": {
      "text/plain": [
       "6"
      ]
     },
     "execution_count": 19,
     "metadata": {},
     "output_type": "execute_result"
    }
   ],
   "source": [
    "import datetime\n",
    "canceled_at_col = \"Canceled At (UTC)\"\n",
    "ended_at_col = \"Ended At (UTC)\"\n",
    "start_at_col = \"Start Date (UTC)\"\n",
    "\n",
    "col = start_at_col\n",
    "df[col] = pd.to_datetime(df[col], errors=\"coerce\")\n",
    "(df[col] > datetime.datetime.strptime(\"01/7/2025\", \"%d/%m/%Y\")).sum()"
   ]
  },
  {
   "cell_type": "code",
   "execution_count": 8,
   "id": "25cd14c6-ec1e-48b2-bf3c-e67e0204cc2e",
   "metadata": {},
   "outputs": [
    {
     "data": {
      "text/html": [
       "<div>\n",
       "<style scoped>\n",
       "    .dataframe tbody tr th:only-of-type {\n",
       "        vertical-align: middle;\n",
       "    }\n",
       "\n",
       "    .dataframe tbody tr th {\n",
       "        vertical-align: top;\n",
       "    }\n",
       "\n",
       "    .dataframe thead th {\n",
       "        text-align: right;\n",
       "    }\n",
       "</style>\n",
       "<table border=\"1\" class=\"dataframe\">\n",
       "  <thead>\n",
       "    <tr style=\"text-align: right;\">\n",
       "      <th></th>\n",
       "      <th>id</th>\n",
       "      <th>Customer ID</th>\n",
       "      <th>Customer Description</th>\n",
       "      <th>Customer Email</th>\n",
       "      <th>Plan</th>\n",
       "      <th>Product</th>\n",
       "      <th>Product ID</th>\n",
       "      <th>Quantity</th>\n",
       "      <th>Currency</th>\n",
       "      <th>Cancellation Reason</th>\n",
       "      <th>...</th>\n",
       "      <th>Tax Percent</th>\n",
       "      <th>Canceled At (UTC)</th>\n",
       "      <th>Cancel At Period End</th>\n",
       "      <th>Ended At (UTC)</th>\n",
       "      <th>Exclusive Tax Rate</th>\n",
       "      <th>Inclusive Tax Rate</th>\n",
       "      <th>Customer Name</th>\n",
       "      <th>Automatic Tax Enabled</th>\n",
       "      <th>Tax Location Recognized</th>\n",
       "      <th>cust_id</th>\n",
       "    </tr>\n",
       "  </thead>\n",
       "  <tbody>\n",
       "    <tr>\n",
       "      <th>95</th>\n",
       "      <td>sub_1QkBeNLLDYopDCcGJcklJl6f</td>\n",
       "      <td>cus_RdSZzUbP9eXGBb</td>\n",
       "      <td>NaN</td>\n",
       "      <td>alexjward79@gmail.com</td>\n",
       "      <td>price_1OH7q7LLDYopDCcGlwcnPAq2</td>\n",
       "      <td>Standard Membership: Group Lessons</td>\n",
       "      <td>prod_P5IQZ53aUYwioI</td>\n",
       "      <td>1</td>\n",
       "      <td>gbp</td>\n",
       "      <td>cancellation_requested</td>\n",
       "      <td>...</td>\n",
       "      <td>NaN</td>\n",
       "      <td>2025-01-31 19:11</td>\n",
       "      <td>False</td>\n",
       "      <td>2025-01-31 19:11</td>\n",
       "      <td>NaN</td>\n",
       "      <td>NaN</td>\n",
       "      <td>Mrs Alexandra J Ward</td>\n",
       "      <td>False</td>\n",
       "      <td>True</td>\n",
       "      <td>Mrs Alexandra J Ward-alexjward79@gmail.com</td>\n",
       "    </tr>\n",
       "    <tr>\n",
       "      <th>276</th>\n",
       "      <td>sub_1OH8fdLLDYopDCcGG78ZzjBf</td>\n",
       "      <td>cus_P5JIQv0vju3cGN</td>\n",
       "      <td>NaN</td>\n",
       "      <td>ningning77@hotmail.com</td>\n",
       "      <td>price_1OH7q7LLDYopDCcGlwcnPAq2</td>\n",
       "      <td>Standard Membership: Group Lessons</td>\n",
       "      <td>prod_P5IQZ53aUYwioI</td>\n",
       "      <td>1</td>\n",
       "      <td>gbp</td>\n",
       "      <td>NaN</td>\n",
       "      <td>...</td>\n",
       "      <td>NaN</td>\n",
       "      <td>2023-11-28 16:34</td>\n",
       "      <td>False</td>\n",
       "      <td>2023-11-28 16:34</td>\n",
       "      <td>NaN</td>\n",
       "      <td>NaN</td>\n",
       "      <td>Matthew  Ward</td>\n",
       "      <td>False</td>\n",
       "      <td>True</td>\n",
       "      <td>Matthew  Ward-ningning77@hotmail.com</td>\n",
       "    </tr>\n",
       "  </tbody>\n",
       "</table>\n",
       "<p>2 rows × 32 columns</p>\n",
       "</div>"
      ],
      "text/plain": [
       "                               id         Customer ID Customer Description  \\\n",
       "95   sub_1QkBeNLLDYopDCcGJcklJl6f  cus_RdSZzUbP9eXGBb                  NaN   \n",
       "276  sub_1OH8fdLLDYopDCcGG78ZzjBf  cus_P5JIQv0vju3cGN                  NaN   \n",
       "\n",
       "             Customer Email                            Plan  \\\n",
       "95    alexjward79@gmail.com  price_1OH7q7LLDYopDCcGlwcnPAq2   \n",
       "276  ningning77@hotmail.com  price_1OH7q7LLDYopDCcGlwcnPAq2   \n",
       "\n",
       "                                Product           Product ID  Quantity  \\\n",
       "95   Standard Membership: Group Lessons  prod_P5IQZ53aUYwioI         1   \n",
       "276  Standard Membership: Group Lessons  prod_P5IQZ53aUYwioI         1   \n",
       "\n",
       "    Currency     Cancellation Reason  ... Tax Percent  Canceled At (UTC)  \\\n",
       "95       gbp  cancellation_requested  ...         NaN   2025-01-31 19:11   \n",
       "276      gbp                     NaN  ...         NaN   2023-11-28 16:34   \n",
       "\n",
       "    Cancel At Period End    Ended At (UTC) Exclusive Tax Rate  \\\n",
       "95                 False  2025-01-31 19:11                NaN   \n",
       "276                False  2023-11-28 16:34                NaN   \n",
       "\n",
       "    Inclusive Tax Rate         Customer Name Automatic Tax Enabled  \\\n",
       "95                 NaN  Mrs Alexandra J Ward                 False   \n",
       "276                NaN         Matthew  Ward                 False   \n",
       "\n",
       "    Tax Location Recognized                                     cust_id  \n",
       "95                     True  Mrs Alexandra J Ward-alexjward79@gmail.com  \n",
       "276                    True        Matthew  Ward-ningning77@hotmail.com  \n",
       "\n",
       "[2 rows x 32 columns]"
      ]
     },
     "execution_count": 8,
     "metadata": {},
     "output_type": "execute_result"
    }
   ],
   "source": [
    "pay_df[pay_df[name].str.contains('Ward')]"
   ]
  },
  {
   "cell_type": "code",
   "execution_count": 9,
   "id": "daf7ab27-9dbc-4120-813c-f05bb7eecbc7",
   "metadata": {},
   "outputs": [
    {
     "data": {
      "text/html": [
       "<div>\n",
       "<style scoped>\n",
       "    .dataframe tbody tr th:only-of-type {\n",
       "        vertical-align: middle;\n",
       "    }\n",
       "\n",
       "    .dataframe tbody tr th {\n",
       "        vertical-align: top;\n",
       "    }\n",
       "\n",
       "    .dataframe thead th {\n",
       "        text-align: right;\n",
       "    }\n",
       "</style>\n",
       "<table border=\"1\" class=\"dataframe\">\n",
       "  <thead>\n",
       "    <tr style=\"text-align: right;\">\n",
       "      <th></th>\n",
       "      <th>id</th>\n",
       "      <th>Customer ID</th>\n",
       "      <th>Customer Email</th>\n",
       "      <th>Quantity</th>\n",
       "      <th>Amount</th>\n",
       "      <th>Status</th>\n",
       "      <th>Created (UTC)</th>\n",
       "      <th>Start (UTC)</th>\n",
       "      <th>Start Date (UTC)</th>\n",
       "      <th>Current Period Start (UTC)</th>\n",
       "      <th>Current Period End (UTC)</th>\n",
       "      <th>Trial Start (UTC)</th>\n",
       "      <th>Trial End (UTC)</th>\n",
       "      <th>Canceled At (UTC)</th>\n",
       "      <th>Cancel At Period End</th>\n",
       "      <th>Ended At (UTC)</th>\n",
       "      <th>Customer Name</th>\n",
       "      <th>cust_id</th>\n",
       "    </tr>\n",
       "  </thead>\n",
       "  <tbody>\n",
       "  </tbody>\n",
       "</table>\n",
       "</div>"
      ],
      "text/plain": [
       "Empty DataFrame\n",
       "Columns: [id, Customer ID, Customer Email, Quantity, Amount, Status, Created (UTC), Start (UTC), Start Date (UTC), Current Period Start (UTC), Current Period End (UTC), Trial Start (UTC), Trial End (UTC), Canceled At (UTC), Cancel At Period End, Ended At (UTC), Customer Name, cust_id]\n",
       "Index: []"
      ]
     },
     "execution_count": 9,
     "metadata": {},
     "output_type": "execute_result"
    }
   ],
   "source": [
    "df[~df['cust_id'].isin(pay_df.cust_id)]"
   ]
  },
  {
   "cell_type": "code",
   "execution_count": 38,
   "id": "b8e192c2-d38d-4284-8978-41fe2af50069",
   "metadata": {},
   "outputs": [
    {
     "data": {
      "text/plain": [
       "0                   Azlina Yeo-azlinayeo@googlemail.com\n",
       "1                        Azlina Yeo-azlinayeo@gmail.com\n",
       "2                      Yingshi Ji-yingshijinb@gmail.com\n",
       "3                     Moshe Dabach-moshed88@hotmail.com\n",
       "4                              y luk-lukyip27@gmail.com\n",
       "                             ...                       \n",
       "278                     Ankur Zadoo-ankurzadu@gmail.com\n",
       "279      Bleine E D S Andrade-bleineandrade07@gmail.com\n",
       "280            Sarah-Jane  Gamble -spiffymiss@gmail.com\n",
       "281           Venkatesh Ramasamy-tutor4ruchit@gmail.com\n",
       "282    Jayapriya Thanaraj-jayapriyathanaraj@hotmail.com\n",
       "Name: cust_id, Length: 283, dtype: object"
      ]
     },
     "execution_count": 38,
     "metadata": {},
     "output_type": "execute_result"
    }
   ],
   "source": [
    "df['cust_id']"
   ]
  },
  {
   "cell_type": "code",
   "execution_count": 34,
   "id": "0a2e1640-eb45-4a27-b8f4-bdc0c549993f",
   "metadata": {},
   "outputs": [
    {
     "data": {
      "text/plain": [
       "cust_id\n",
       "80.0      75\n",
       "NaN       62\n",
       "220.0     46\n",
       "99.0      34\n",
       "150.0     16\n",
       "1080.0     8\n",
       "139.0      7\n",
       "149.0      5\n",
       "129.0      4\n",
       "180.0      4\n",
       "1.0        4\n",
       "225.0      3\n",
       "110.0      3\n",
       "60.0       3\n",
       "420.0      2\n",
       "540.0      2\n",
       "200.0      2\n",
       "1920.0     1\n",
       "534.0      1\n",
       "120.0      1\n",
       "Name: count, dtype: int64"
      ]
     },
     "execution_count": 34,
     "metadata": {},
     "output_type": "execute_result"
    }
   ],
   "source": [
    "df['cust_id'].map(pay_map).value_counts(dropna=False)"
   ]
  },
  {
   "cell_type": "code",
   "execution_count": 13,
   "id": "227cd6e3-8e2b-4953-ab90-582d3f23f48a",
   "metadata": {},
   "outputs": [],
   "source": [
    "class PrivateLesson(Enum):\n",
    "    Private_Month = 'Private-Month', 'Private', 1, 1, [129, 150, 160, 180, 220]\n",
    "    # 110 - twice\n",
    "    Private_Three_Months = 'Private_3_Months', 'Private', 3, 1, [504, 540]\n",
    "    Private_Three_Months_Twice = 'Private_3_Months_Twice_week', 'Private', 3, 2, [1080]\n",
    "    Private_Six_Months = 'Private_6_Months', 'Private', 6, 1, [1080, 840, 960]\n",
    "    Private_Six_Months_Twice = 'Private_6_Months_Twice_week', 'Private', 6, 2, [1920, 2180]\n",
    "\n",
    "    Group_Month = 'Group-Month', 'Group', 1, 1, [60, 80, 160, 240]\n",
    "    Group_Month_Twice = 'Group-Month_Twice_week', 'Group',1, 2, [99]\n",
    "    Group_Six_Months = 'Group_6_Months', 'Group', 6, 1, [420]\n",
    "    Group_Six_Months_Twice = 'Group_6_Months_Twice_week', 'Group', 6, 2, [534]\n",
    "\n",
    "    def __init__(self, label: str, class_type: str, months: int, times: int, cost_options: list):\n",
    "        self.label = label\n",
    "        self.class_type = class_type\n",
    "        self.months = months\n",
    "        self.times = times\n",
    "        self.cost_options = cost_options\n",
    "\n",
    "    def include(self, x:int):\n",
    "        return x in self.cost_options\n",
    "\n",
    "\n",
    "    @classmethod\n",
    "    def from_label(cls, label):\n",
    "        for item in cls:\n",
    "            if item.label == label:\n",
    "                return item\n"
   ]
  },
  {
   "cell_type": "code",
   "execution_count": 14,
   "id": "9a7d5870-df15-49eb-9e6b-ab481a1fbf56",
   "metadata": {},
   "outputs": [],
   "source": [
    "def find_class_type(x):\n",
    "    lesson_types = [\n",
    "    PrivateLesson.Private_Month,\n",
    "    PrivateLesson.Private_Three_Months,\n",
    "    PrivateLesson. Private_Three_Months_Twice,\n",
    "    PrivateLesson.Private_Six_Months,\n",
    "    PrivateLesson.Private_Six_Months_Twice,\n",
    "    PrivateLesson.Group_Month,\n",
    "    PrivateLesson.Group_Month_Twice,\n",
    "    PrivateLesson.Group_Six_Months,\n",
    "    PrivateLesson.Group_Six_Months_Twice\n",
    "    ]\n",
    "    for lesson in lesson_types:\n",
    "        if lesson.include(x):\n",
    "            return lesson\n",
    "    print(f\"missing amount {x}\")\n",
    " "
   ]
  },
  {
   "cell_type": "code",
   "execution_count": null,
   "id": "c20648ac-0498-4e29-bdaf-7b777bf16605",
   "metadata": {},
   "outputs": [],
   "source": []
  },
  {
   "cell_type": "code",
   "execution_count": 16,
   "id": "350069c4-b3f4-407e-a861-d0f572080c55",
   "metadata": {},
   "outputs": [],
   "source": [
    "# missing amount 110.0  = twice 1 month\n",
    "# missing amount 225.0  = 420 \n",
    "# missing amount 139.0  = remove\n",
    "# missing amount 120.0  = 129\n",
    "# missing amount 149.0  = Group - 1 month\n",
    "\n",
    "# missing amount 1.0 = remove\n",
    "\n",
    "\n"
   ]
  },
  {
   "cell_type": "code",
   "execution_count": 23,
   "id": "543564c9-774d-4d7e-b926-09b02e0e3d08",
   "metadata": {},
   "outputs": [
    {
     "data": {
      "text/html": [
       "<div>\n",
       "<style scoped>\n",
       "    .dataframe tbody tr th:only-of-type {\n",
       "        vertical-align: middle;\n",
       "    }\n",
       "\n",
       "    .dataframe tbody tr th {\n",
       "        vertical-align: top;\n",
       "    }\n",
       "\n",
       "    .dataframe thead th {\n",
       "        text-align: right;\n",
       "    }\n",
       "</style>\n",
       "<table border=\"1\" class=\"dataframe\">\n",
       "  <thead>\n",
       "    <tr style=\"text-align: right;\">\n",
       "      <th></th>\n",
       "      <th>id</th>\n",
       "      <th>Customer ID</th>\n",
       "      <th>Customer Description</th>\n",
       "      <th>Customer Email</th>\n",
       "      <th>Plan</th>\n",
       "      <th>Product</th>\n",
       "      <th>Product ID</th>\n",
       "      <th>Quantity</th>\n",
       "      <th>Currency</th>\n",
       "      <th>Cancellation Reason</th>\n",
       "      <th>...</th>\n",
       "      <th>Tax Percent</th>\n",
       "      <th>Canceled At (UTC)</th>\n",
       "      <th>Cancel At Period End</th>\n",
       "      <th>Ended At (UTC)</th>\n",
       "      <th>Exclusive Tax Rate</th>\n",
       "      <th>Inclusive Tax Rate</th>\n",
       "      <th>Customer Name</th>\n",
       "      <th>Automatic Tax Enabled</th>\n",
       "      <th>Tax Location Recognized</th>\n",
       "      <th>cust_id</th>\n",
       "    </tr>\n",
       "  </thead>\n",
       "  <tbody>\n",
       "    <tr>\n",
       "      <th>275</th>\n",
       "      <td>sub_1OI9CdLLDYopDCcG7rCwHgM4</td>\n",
       "      <td>cus_P6LuEXj5ebpQhK</td>\n",
       "      <td>NaN</td>\n",
       "      <td>nadjete2003@gmail.com</td>\n",
       "      <td>price_1OHtCHLLDYopDCcGCpZuudVa</td>\n",
       "      <td>One-to-One membership, reduced hourly rate</td>\n",
       "      <td>prod_P65NUIzI9gSoLk</td>\n",
       "      <td>1</td>\n",
       "      <td>gbp</td>\n",
       "      <td>cancellation_requested</td>\n",
       "      <td>...</td>\n",
       "      <td>NaN</td>\n",
       "      <td>2024-10-07 13:45</td>\n",
       "      <td>False</td>\n",
       "      <td>2024-10-07 13:45</td>\n",
       "      <td>NaN</td>\n",
       "      <td>NaN</td>\n",
       "      <td>N HOUAIDJI</td>\n",
       "      <td>False</td>\n",
       "      <td>True</td>\n",
       "      <td>N HOUAIDJI-nadjete2003@gmail.com</td>\n",
       "    </tr>\n",
       "  </tbody>\n",
       "</table>\n",
       "<p>1 rows × 32 columns</p>\n",
       "</div>"
      ],
      "text/plain": [
       "                               id         Customer ID Customer Description  \\\n",
       "275  sub_1OI9CdLLDYopDCcG7rCwHgM4  cus_P6LuEXj5ebpQhK                  NaN   \n",
       "\n",
       "            Customer Email                            Plan  \\\n",
       "275  nadjete2003@gmail.com  price_1OHtCHLLDYopDCcGCpZuudVa   \n",
       "\n",
       "                                        Product           Product ID  \\\n",
       "275  One-to-One membership, reduced hourly rate  prod_P65NUIzI9gSoLk   \n",
       "\n",
       "     Quantity Currency     Cancellation Reason  ... Tax Percent  \\\n",
       "275         1      gbp  cancellation_requested  ...         NaN   \n",
       "\n",
       "     Canceled At (UTC) Cancel At Period End    Ended At (UTC)  \\\n",
       "275   2024-10-07 13:45                False  2024-10-07 13:45   \n",
       "\n",
       "    Exclusive Tax Rate Inclusive Tax Rate Customer Name Automatic Tax Enabled  \\\n",
       "275                NaN                NaN    N HOUAIDJI                 False   \n",
       "\n",
       "    Tax Location Recognized                           cust_id  \n",
       "275                    True  N HOUAIDJI-nadjete2003@gmail.com  \n",
       "\n",
       "[1 rows x 32 columns]"
      ]
     },
     "execution_count": 23,
     "metadata": {},
     "output_type": "execute_result"
    }
   ],
   "source": [
    "pay_df.query(\"Amount == 120\")"
   ]
  },
  {
   "cell_type": "code",
   "execution_count": 18,
   "id": "01dab25b-4d2b-4f6b-827c-e799960b289b",
   "metadata": {},
   "outputs": [
    {
     "name": "stdout",
     "output_type": "stream",
     "text": [
      "missing amount 110.0\n",
      "missing amount 225.0\n",
      "missing amount 225.0\n",
      "missing amount 1.0\n",
      "missing amount 139.0\n",
      "missing amount 149.0\n",
      "missing amount 110.0\n",
      "missing amount 149.0\n",
      "missing amount 149.0\n",
      "missing amount 139.0\n",
      "missing amount 110.0\n",
      "missing amount 139.0\n",
      "missing amount 139.0\n",
      "missing amount 139.0\n",
      "missing amount 139.0\n",
      "missing amount 225.0\n",
      "missing amount 1.0\n",
      "missing amount 1.0\n",
      "missing amount 149.0\n",
      "missing amount 139.0\n",
      "missing amount 1.0\n",
      "missing amount 200.0\n",
      "missing amount 149.0\n",
      "missing amount 120.0\n",
      "missing amount 200.0\n"
     ]
    }
   ],
   "source": [
    "df['class'] = df['amount'].apply(find_class_type)"
   ]
  },
  {
   "cell_type": "code",
   "execution_count": 22,
   "id": "a99b7140-f7bb-4371-854f-6a8f4bda18c9",
   "metadata": {},
   "outputs": [
    {
     "data": {
      "text/plain": [
       "'Private-Month'"
      ]
     },
     "execution_count": 22,
     "metadata": {},
     "output_type": "execute_result"
    }
   ],
   "source": [
    "df['class'].iloc[0].label"
   ]
  },
  {
   "cell_type": "code",
   "execution_count": 27,
   "id": "d6f88774-ba0c-46f6-8052-9f4ac0c1be55",
   "metadata": {},
   "outputs": [
    {
     "data": {
      "text/plain": [
       "Index(['id', 'Customer ID', 'Customer Description', 'Customer Email', 'Plan',\n",
       "       'Product', 'Product ID', 'Quantity', 'Currency', 'Cancellation Reason',\n",
       "       'Interval', 'Amount', 'Status', 'Created (UTC)', 'Start (UTC)',\n",
       "       'Start Date (UTC)', 'Current Period Start (UTC)',\n",
       "       'Current Period End (UTC)', 'Trial Start (UTC)', 'Trial End (UTC)',\n",
       "       'Application Fee Percent', 'Coupon', 'Tax Percent', 'Canceled At (UTC)',\n",
       "       'Cancel At Period End', 'Ended At (UTC)', 'Exclusive Tax Rate',\n",
       "       'Inclusive Tax Rate', 'Customer Name', 'Automatic Tax Enabled',\n",
       "       'Tax Location Recognized', 'cust_id'],\n",
       "      dtype='object')"
      ]
     },
     "execution_count": 27,
     "metadata": {},
     "output_type": "execute_result"
    }
   ],
   "source": [
    "pay_df.columns"
   ]
  },
  {
   "cell_type": "code",
   "execution_count": 28,
   "id": "85fa5a9a-0ce7-45a8-9c08-076c809aeb20",
   "metadata": {},
   "outputs": [],
   "source": [
    "a = [\n",
    "#0.17307692307692307,\n",
    "0.08196721311475409,\n",
    "0.09836065573770492,\n",
    "0.06944444444444445,\n",
    "0.09090909090909091,\n",
    "0.058823529411764705,\n",
    "#0.13793103448275862,\n",
    "0.036585365853658534,\n",
    "0.07407407407407407,\n",
    "0.05128205128205128,\n",
    "    \n",
    "]\n"
   ]
  },
  {
   "cell_type": "code",
   "execution_count": 29,
   "id": "899aa10d-2ce6-4f9c-a0c3-2a18e5bb93de",
   "metadata": {},
   "outputs": [
    {
     "data": {
      "text/plain": [
       "0.07018080310344287"
      ]
     },
     "execution_count": 29,
     "metadata": {},
     "output_type": "execute_result"
    }
   ],
   "source": [
    "sum(a) / len(a)"
   ]
  },
  {
   "cell_type": "code",
   "execution_count": null,
   "id": "b5325d0b-e86f-4476-a0d2-b6a9227d29eb",
   "metadata": {},
   "outputs": [],
   "source": []
  }
 ],
 "metadata": {
  "kernelspec": {
   "display_name": "schneider",
   "language": "python",
   "name": "schneider"
  },
  "language_info": {
   "codemirror_mode": {
    "name": "ipython",
    "version": 3
   },
   "file_extension": ".py",
   "mimetype": "text/x-python",
   "name": "python",
   "nbconvert_exporter": "python",
   "pygments_lexer": "ipython3",
   "version": "3.12.7"
  }
 },
 "nbformat": 4,
 "nbformat_minor": 5
}
