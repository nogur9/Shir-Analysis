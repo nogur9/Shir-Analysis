{
 "cells": [
  {
   "cell_type": "code",
   "execution_count": 17,
   "id": "8f837f8b-a127-48c0-b1a3-eef4023e8c3b",
   "metadata": {},
   "outputs": [],
   "source": [
    "import pandas as pd\n",
    "import seaborn as sns\n",
    "import plotly\n",
    "import matplotlib.pyplot as plt\n",
    "import ipywidgets as widgets\n",
    "from IPython.display import display, clear_output\n",
    "import datetime"
   ]
  },
  {
   "cell_type": "code",
   "execution_count": 18,
   "id": "b0a42e89-b3c6-4322-abcf-0751a646a7c6",
   "metadata": {},
   "outputs": [],
   "source": [
    "df = pd.read_csv(\"../data/subscriptions.csv\")\n",
    "email = 'Customer Email'\n",
    "name = 'Customer Name'\n",
    "c_id = 'Customer ID'"
   ]
  },
  {
   "cell_type": "code",
   "execution_count": 19,
   "id": "010f03af-e720-4c54-a471-213317abf77b",
   "metadata": {},
   "outputs": [],
   "source": [
    "# Convert relevant date columns to datetime\n",
    "df['Start Date (UTC)'] = pd.to_datetime(df['Start Date (UTC)'])\n",
    "df['Canceled At (UTC)'] = pd.to_datetime(df['Canceled At (UTC)'])\n",
    "\n",
    "# Extract the month and year\n",
    "df['start_month'] = df['Start Date (UTC)'].dt.to_period('M')\n",
    "df['cancel_month'] = df['Canceled At (UTC)'].dt.to_period('M')\n",
    "\n",
    "\n",
    "times = ['Start Date (UTC)', 'Canceled At (UTC)']\n",
    "times_m = ['start_month', 'cancel_month']\n",
    "\n"
   ]
  },
  {
   "cell_type": "code",
   "execution_count": 20,
   "id": "352f2ed3-4daf-4d7f-9987-81ebc3137d22",
   "metadata": {},
   "outputs": [],
   "source": [
    "df['delta'] = df['Canceled At (UTC)'] - df['Start Date (UTC)']"
   ]
  },
  {
   "cell_type": "code",
   "execution_count": 21,
   "id": "24570653-9524-4979-a04e-1a6cbf631d8a",
   "metadata": {},
   "outputs": [
    {
     "data": {
      "text/plain": [
       "Index(['id', 'Customer ID', 'Customer Email', 'Quantity', 'Amount', 'Status',\n",
       "       'Created (UTC)', 'Start (UTC)', 'Start Date (UTC)',\n",
       "       'Current Period Start (UTC)', 'Current Period End (UTC)',\n",
       "       'Trial Start (UTC)', 'Trial End (UTC)', 'Canceled At (UTC)',\n",
       "       'Cancel At Period End', 'Ended At (UTC)', 'Customer Name',\n",
       "       'start_month', 'cancel_month', 'delta'],\n",
       "      dtype='object')"
      ]
     },
     "execution_count": 21,
     "metadata": {},
     "output_type": "execute_result"
    }
   ],
   "source": [
    "df.columns"
   ]
  },
  {
   "cell_type": "code",
   "execution_count": 25,
   "id": "45ed1353-fab4-4f16-951d-ffb3fc5e2117",
   "metadata": {},
   "outputs": [
    {
     "data": {
      "text/plain": [
       "(7, 20)"
      ]
     },
     "execution_count": 25,
     "metadata": {},
     "output_type": "execute_result"
    }
   ],
   "source": [
    "df[df.Status.isin(['trialing', 'incomplete_expired'])].shape"
   ]
  },
  {
   "cell_type": "code",
   "execution_count": null,
   "id": "08c9dec0-e11d-4c19-b927-6a642e7a36b9",
   "metadata": {},
   "outputs": [],
   "source": []
  }
 ],
 "metadata": {
  "kernelspec": {
   "display_name": "schneider",
   "language": "python",
   "name": "schneider"
  },
  "language_info": {
   "codemirror_mode": {
    "name": "ipython",
    "version": 3
   },
   "file_extension": ".py",
   "mimetype": "text/x-python",
   "name": "python",
   "nbconvert_exporter": "python",
   "pygments_lexer": "ipython3",
   "version": "3.12.7"
  }
 },
 "nbformat": 4,
 "nbformat_minor": 5
}
