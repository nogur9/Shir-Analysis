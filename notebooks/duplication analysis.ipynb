{
 "cells": [
  {
   "cell_type": "code",
   "execution_count": 1,
   "id": "8f837f8b-a127-48c0-b1a3-eef4023e8c3b",
   "metadata": {},
   "outputs": [],
   "source": [
    "import pandas as pd\n",
    "import seaborn as sns\n",
    "import plotly\n",
    "import matplotlib.pyplot as plt\n",
    "import ipywidgets as widgets\n",
    "from IPython.display import display, clear_output\n"
   ]
  },
  {
   "cell_type": "code",
   "execution_count": 2,
   "id": "b0a42e89-b3c6-4322-abcf-0751a646a7c6",
   "metadata": {},
   "outputs": [],
   "source": [
    "df = pd.read_csv(\"../data/subscriptions.csv\")\n",
    "email = 'Customer Email'\n",
    "name = 'Customer Name'\n",
    "c_id = 'Customer ID'"
   ]
  },
  {
   "cell_type": "code",
   "execution_count": 3,
   "id": "3fd5a24e-9baf-4ba6-8712-0f2492671afc",
   "metadata": {},
   "outputs": [],
   "source": [
    "def contains_shir(row):\n",
    "    # exception\n",
    "    if row[email] == 'kshirjarohannaik@gmail.com':\n",
    "        return False\n",
    "    elif 'shir' in row[email]:\n",
    "        return True\n",
    "    elif 'shir' in row[name]:\n",
    "        return True\n",
    "    else:\n",
    "        return False"
   ]
  },
  {
   "cell_type": "code",
   "execution_count": 30,
   "id": "d10ec3f6-5c56-4844-a5b4-105dbb287bd6",
   "metadata": {},
   "outputs": [
    {
     "data": {
      "text/html": [
       "<div>\n",
       "<style scoped>\n",
       "    .dataframe tbody tr th:only-of-type {\n",
       "        vertical-align: middle;\n",
       "    }\n",
       "\n",
       "    .dataframe tbody tr th {\n",
       "        vertical-align: top;\n",
       "    }\n",
       "\n",
       "    .dataframe thead th {\n",
       "        text-align: right;\n",
       "    }\n",
       "</style>\n",
       "<table border=\"1\" class=\"dataframe\">\n",
       "  <thead>\n",
       "    <tr style=\"text-align: right;\">\n",
       "      <th></th>\n",
       "      <th>id</th>\n",
       "      <th>Customer ID</th>\n",
       "      <th>Customer Email</th>\n",
       "      <th>Quantity</th>\n",
       "      <th>Amount</th>\n",
       "      <th>Status</th>\n",
       "      <th>Created (UTC)</th>\n",
       "      <th>Start (UTC)</th>\n",
       "      <th>Start Date (UTC)</th>\n",
       "      <th>Current Period Start (UTC)</th>\n",
       "      <th>Current Period End (UTC)</th>\n",
       "      <th>Trial Start (UTC)</th>\n",
       "      <th>Trial End (UTC)</th>\n",
       "      <th>Canceled At (UTC)</th>\n",
       "      <th>Cancel At Period End</th>\n",
       "      <th>Ended At (UTC)</th>\n",
       "      <th>Customer Name</th>\n",
       "      <th>start_month</th>\n",
       "      <th>cancel_month</th>\n",
       "      <th>customer_id</th>\n",
       "    </tr>\n",
       "  </thead>\n",
       "  <tbody>\n",
       "    <tr>\n",
       "      <th>22</th>\n",
       "      <td>sub_1RNcYRLLDYopDCcG0wZWAKPq</td>\n",
       "      <td>cus_SICyCRA9Udae3u</td>\n",
       "      <td>kajalsharma198306@gmail.com</td>\n",
       "      <td>1</td>\n",
       "      <td>99.0</td>\n",
       "      <td>active</td>\n",
       "      <td>2025-05-11 16:16</td>\n",
       "      <td>2025-05-18 15:06</td>\n",
       "      <td>2025-05-11 16:16:00</td>\n",
       "      <td>2025-06-18 15:06</td>\n",
       "      <td>2025-07-18 15:06</td>\n",
       "      <td>2025-05-11 16:16</td>\n",
       "      <td>2025-05-18 15:06</td>\n",
       "      <td>NaT</td>\n",
       "      <td>False</td>\n",
       "      <td>NaN</td>\n",
       "      <td>kajal kiran</td>\n",
       "      <td>2025-05</td>\n",
       "      <td>NaT</td>\n",
       "      <td>kajalsharma198306@gmail.com-kajal kiran</td>\n",
       "    </tr>\n",
       "  </tbody>\n",
       "</table>\n",
       "</div>"
      ],
      "text/plain": [
       "                              id         Customer ID  \\\n",
       "22  sub_1RNcYRLLDYopDCcG0wZWAKPq  cus_SICyCRA9Udae3u   \n",
       "\n",
       "                 Customer Email  Quantity  Amount  Status     Created (UTC)  \\\n",
       "22  kajalsharma198306@gmail.com         1    99.0  active  2025-05-11 16:16   \n",
       "\n",
       "         Start (UTC)    Start Date (UTC) Current Period Start (UTC)  \\\n",
       "22  2025-05-18 15:06 2025-05-11 16:16:00           2025-06-18 15:06   \n",
       "\n",
       "   Current Period End (UTC) Trial Start (UTC)   Trial End (UTC)  \\\n",
       "22         2025-07-18 15:06  2025-05-11 16:16  2025-05-18 15:06   \n",
       "\n",
       "   Canceled At (UTC)  Cancel At Period End Ended At (UTC) Customer Name  \\\n",
       "22               NaT                 False            NaN   kajal kiran   \n",
       "\n",
       "   start_month cancel_month                              customer_id  \n",
       "22     2025-05          NaT  kajalsharma198306@gmail.com-kajal kiran  "
      ]
     },
     "execution_count": 30,
     "metadata": {},
     "output_type": "execute_result"
    }
   ],
   "source": [
    "df[df[name].str.contains('kajal')] "
   ]
  },
  {
   "cell_type": "code",
   "execution_count": 4,
   "id": "e8b547b5-80db-49a2-8ed9-f3311b375a38",
   "metadata": {},
   "outputs": [
    {
     "name": "stdout",
     "output_type": "stream",
     "text": [
      "before removing df.shape = (283, 17)\n",
      "shir_mask.sum() = 13\n",
      "after removing df.shape = (270, 17)\n"
     ]
    }
   ],
   "source": [
    "## to detect duplicates & shirs - need to lower\n",
    "\n",
    "print(f\"before removing {df.shape = }\")\n",
    "\n",
    "df[email] = df[email].str.lower()\n",
    "df[name] = df[name].str.lower()\n",
    "shir_mask = df.apply(contains_shir, axis=1)\n",
    "print(f\"{shir_mask.sum() = }\")\n",
    "df = df[~shir_mask]\n",
    "print(f\"after removing {df.shape = }\")\n",
    "\n"
   ]
  },
  {
   "cell_type": "code",
   "execution_count": null,
   "id": "8b8510b1-1323-4dbe-82a1-f470246d76cc",
   "metadata": {},
   "outputs": [],
   "source": []
  },
  {
   "cell_type": "code",
   "execution_count": 5,
   "id": "659d042c-c744-4d85-bf4a-b35e5c4d0450",
   "metadata": {},
   "outputs": [
    {
     "name": "stdout",
     "output_type": "stream",
     "text": [
      "dup_e.sum() = 85\n",
      "dup_n.sum() = 85\n",
      "dup_c.sum() = 49\n"
     ]
    }
   ],
   "source": [
    "dup_e = df[email].duplicated(keep=False)\n",
    "print(f\"{dup_e.sum() = }\")\n",
    "dup_n = df[name].duplicated(keep=False)\n",
    "print(f\"{dup_n.sum() = }\")\n",
    "dup_c = df[c_id].duplicated(keep=False)\n",
    "print(f\"{dup_c.sum() = }\")\n"
   ]
  },
  {
   "cell_type": "markdown",
   "id": "d9f4d9c7-b564-4910-8595-0d3c29737a38",
   "metadata": {},
   "source": [
    "### for duplicated names & emails, they are 1-1 unique"
   ]
  },
  {
   "cell_type": "code",
   "execution_count": 6,
   "id": "f1db0172-1139-4be5-813e-af08a1c90c4e",
   "metadata": {},
   "outputs": [
    {
     "name": "stdout",
     "output_type": "stream",
     "text": [
      "both_dup_df.shape = (80, 2)\n",
      "both_dup_df[email].nunique() = 34\n",
      "both_dup_df[name].nunique() = 34\n",
      "True\n",
      "True\n"
     ]
    }
   ],
   "source": [
    "both_dup_df = df[dup_e & dup_n][[name, email]]#.sort_values(by = identifiers[0])\n",
    "print(f\"{both_dup_df.shape = }\")\n",
    "print(f\"{both_dup_df[email].nunique() = }\")\n",
    "print(f\"{both_dup_df[name].nunique() = }\")\n",
    "print((both_dup_df.groupby(email)[name].nunique() == 1).all())\n",
    "print((both_dup_df.groupby(name)[email].nunique() == 1).all())"
   ]
  },
  {
   "cell_type": "code",
   "execution_count": 7,
   "id": "70c098f6-c408-4e26-9f8f-9db62281c211",
   "metadata": {},
   "outputs": [
    {
     "name": "stdout",
     "output_type": "stream",
     "text": [
      "dup_email_only.shape = (5, 2)\n",
      "dup_name_only.shape = (5, 2)\n"
     ]
    }
   ],
   "source": [
    "dup_email_only = df[dup_e & ~dup_n][[name, email]]\n",
    "print(f\"{dup_email_only.shape = }\")\n",
    "dup_name_only = df[~dup_e & dup_n][[name, email]]\n",
    "print(f\"{dup_name_only.shape = }\")\n",
    "\n",
    "\n",
    "dup_email_only.sort_values(by = email).to_csv(\"name_unique_email_duplications.csv\", index = False)\n",
    "dup_name_only.sort_values(by = name).to_csv(\"email_unique_name_duplications.csv\", index = False)"
   ]
  },
  {
   "cell_type": "code",
   "execution_count": 23,
   "id": "d1dec4c7-ba64-4300-8c78-216b7f04f21e",
   "metadata": {},
   "outputs": [
    {
     "data": {
      "text/html": [
       "<div>\n",
       "<style scoped>\n",
       "    .dataframe tbody tr th:only-of-type {\n",
       "        vertical-align: middle;\n",
       "    }\n",
       "\n",
       "    .dataframe tbody tr th {\n",
       "        vertical-align: top;\n",
       "    }\n",
       "\n",
       "    .dataframe thead th {\n",
       "        text-align: right;\n",
       "    }\n",
       "</style>\n",
       "<table border=\"1\" class=\"dataframe\">\n",
       "  <thead>\n",
       "    <tr style=\"text-align: right;\">\n",
       "      <th></th>\n",
       "      <th>Customer Name</th>\n",
       "      <th>Customer Email</th>\n",
       "    </tr>\n",
       "  </thead>\n",
       "  <tbody>\n",
       "    <tr>\n",
       "      <th>0</th>\n",
       "      <td>azlina yeo</td>\n",
       "      <td>azlinayeo@googlemail.com</td>\n",
       "    </tr>\n",
       "    <tr>\n",
       "      <th>171</th>\n",
       "      <td>luc zimmer</td>\n",
       "      <td>lucandioan@hotmail.co.uk</td>\n",
       "    </tr>\n",
       "    <tr>\n",
       "      <th>172</th>\n",
       "      <td>luc zimmer</td>\n",
       "      <td>themagicmidget57@gmail.com</td>\n",
       "    </tr>\n",
       "    <tr>\n",
       "      <th>181</th>\n",
       "      <td>savitha gunasekaran</td>\n",
       "      <td>misssavitha89@gmail.com</td>\n",
       "    </tr>\n",
       "    <tr>\n",
       "      <th>192</th>\n",
       "      <td>savitha gunasekaran</td>\n",
       "      <td>savitha.guna24@gmail.com</td>\n",
       "    </tr>\n",
       "  </tbody>\n",
       "</table>\n",
       "</div>"
      ],
      "text/plain": [
       "           Customer Name              Customer Email\n",
       "0             azlina yeo    azlinayeo@googlemail.com\n",
       "171           luc zimmer    lucandioan@hotmail.co.uk\n",
       "172           luc zimmer  themagicmidget57@gmail.com\n",
       "181  savitha gunasekaran     misssavitha89@gmail.com\n",
       "192  savitha gunasekaran    savitha.guna24@gmail.com"
      ]
     },
     "execution_count": 23,
     "metadata": {},
     "output_type": "execute_result"
    }
   ],
   "source": [
    "dup_name_only"
   ]
  },
  {
   "cell_type": "markdown",
   "id": "7e597425-62ba-43e9-a16d-d162ebef8afc",
   "metadata": {},
   "source": [
    "## Make duplicates analysis"
   ]
  },
  {
   "cell_type": "code",
   "execution_count": 8,
   "id": "010f03af-e720-4c54-a471-213317abf77b",
   "metadata": {},
   "outputs": [],
   "source": [
    "# Convert relevant date columns to datetime\n",
    "df['Start Date (UTC)'] = pd.to_datetime(df['Start Date (UTC)'])\n",
    "df['Canceled At (UTC)'] = pd.to_datetime(df['Canceled At (UTC)'])\n",
    "\n",
    "# Extract the month and year\n",
    "df['start_month'] = df['Start Date (UTC)'].dt.to_period('M')\n",
    "df['cancel_month'] = df['Canceled At (UTC)'].dt.to_period('M')\n",
    "\n",
    "\n",
    "times = ['Start Date (UTC)', 'Canceled At (UTC)']\n",
    "info_cols = ['start_month', 'cancel_month', \"Status\"]\n",
    "\n",
    "resolved_rows = []"
   ]
  },
  {
   "cell_type": "code",
   "execution_count": 9,
   "id": "bfdc0fcc-3864-42cb-9afb-f0ec8d56e50b",
   "metadata": {},
   "outputs": [
    {
     "name": "stdout",
     "output_type": "stream",
     "text": [
      "dup_customer.sum() =  80\n"
     ]
    }
   ],
   "source": [
    "df['customer_id'] = df[email] + '-' + df[name]\n",
    "# duplicated \n",
    "dup_customer = df['customer_id'].duplicated(keep=False)\n",
    "print(f\"{dup_customer.sum() =  }\")\n",
    "duplicated_customers_list = df[dup_customer]['customer_id'].unique()"
   ]
  },
  {
   "cell_type": "code",
   "execution_count": 14,
   "id": "92994611-4899-4263-b506-e3f3ab7c11ec",
   "metadata": {},
   "outputs": [],
   "source": [
    "info_cols = ['Start Date (UTC)', 'Canceled At (UTC)', email, name, 'customer_id']"
   ]
  },
  {
   "cell_type": "code",
   "execution_count": 15,
   "id": "95331c3c-04da-4f3f-8e37-e22d568204fa",
   "metadata": {},
   "outputs": [
    {
     "data": {
      "application/vnd.jupyter.widget-view+json": {
       "model_id": "55b0f5f3c78c4d55b35fe5c9afb458e9",
       "version_major": 2,
       "version_minor": 0
      },
      "text/plain": [
       "Output()"
      ]
     },
     "metadata": {},
     "output_type": "display_data"
    }
   ],
   "source": [
    "# Wrapper Output outside the function, so it persists across calls\n",
    "output_area = widgets.Output()\n",
    "\n",
    "def review_customer(index=0):\n",
    "    if index >= len(duplicated_customers_list):\n",
    "        with output_area:\n",
    "            clear_output(wait=True)\n",
    "            print(\"✅ Done reviewing all duplicates.\")\n",
    "        return\n",
    "\n",
    "    customer = duplicated_customers_list[index]\n",
    "    df_customer = df[df[\"customer_id\"] == customer][info_cols]\n",
    "\n",
    "    # Create dropdown and button inside this function\n",
    "    dropdown = widgets.Dropdown(\n",
    "        options=df_customer.index.tolist(),\n",
    "        description='Pick index:',\n",
    "        disabled=False,\n",
    "    )\n",
    "\n",
    "    button = widgets.Button(description=\"Confirm\")\n",
    "\n",
    "    def on_button_clicked(b):\n",
    "        resolved_rows.append(df.loc[dropdown.value])\n",
    "        # Clear and move to next customer\n",
    "        review_customer(index + 1)\n",
    "\n",
    "    button.on_click(on_button_clicked)\n",
    "\n",
    "    with output_area:\n",
    "        clear_output(wait=True)\n",
    "        print(f\"Reviewing customer {index + 1}/{len(duplicated_customers_list)}\")\n",
    "        print(f\"{customer = }\")\n",
    "        display(df_customer)\n",
    "        display(dropdown, button)\n",
    "\n",
    "# Start the process\n",
    "display(output_area)\n",
    "review_customer(0)\n"
   ]
  },
  {
   "cell_type": "code",
   "execution_count": 16,
   "id": "a9c3d1e8-8de7-4b4a-92c7-1575c96ae1e9",
   "metadata": {},
   "outputs": [
    {
     "data": {
      "text/plain": [
       "[]"
      ]
     },
     "execution_count": 16,
     "metadata": {},
     "output_type": "execute_result"
    }
   ],
   "source": [
    "resolved_rows"
   ]
  },
  {
   "cell_type": "code",
   "execution_count": null,
   "id": "4a8c2b6f-3387-4bca-b95b-a47b92758c6b",
   "metadata": {},
   "outputs": [],
   "source": []
  },
  {
   "cell_type": "code",
   "execution_count": null,
   "id": "85070ef9-59ed-44b9-9df6-24fdaf4a946a",
   "metadata": {},
   "outputs": [],
   "source": []
  },
  {
   "cell_type": "code",
   "execution_count": 32,
   "id": "44d5d6f7-6652-41f7-83ce-4ba882c3d7ac",
   "metadata": {},
   "outputs": [
    {
     "data": {
      "text/plain": [
       "customer                      azlinayeo@gmail.com-azlina yeo\n",
       "Start Date (UTC)                         2025-07-13 17:15:00\n",
       "Canceled At (UTC)                        2025-07-14 00:55:00\n",
       "customer                    yingshijinb@gmail.com-yingshi ji\n",
       "Start Date (UTC)                         2025-07-09 23:00:00\n",
       "Canceled At (UTC)                                        NaT\n",
       "customer                   moshed88@hotmail.com-moshe dabach\n",
       "Start Date (UTC)                         2025-07-06 23:00:00\n",
       "Canceled At (UTC)                                        NaT\n",
       "customer                            lukyip27@gmail.com-y luk\n",
       "Start Date (UTC)                         2025-07-06 16:40:00\n",
       "Canceled At (UTC)                                        NaT\n",
       "customer             anirudhmvr@gmail.com-anirudh manchiraju\n",
       "Start Date (UTC)                         2025-06-17 20:53:00\n",
       "Canceled At (UTC)                                        NaT\n",
       "dtype: object"
      ]
     },
     "execution_count": 32,
     "metadata": {},
     "output_type": "execute_result"
    }
   ],
   "source": [
    "pd.concat([i[info_cols] for i in resolved_rows])"
   ]
  },
  {
   "cell_type": "code",
   "execution_count": 30,
   "id": "b8017aa5-e7b0-4639-a0c9-3092da808d82",
   "metadata": {},
   "outputs": [
    {
     "data": {
      "text/plain": [
       "RangeIndex(start=0, stop=1, step=1)"
      ]
     },
     "execution_count": 30,
     "metadata": {},
     "output_type": "execute_result"
    }
   ],
   "source": [
    "pd.DataFrame(resolved_rows[0].values)"
   ]
  },
  {
   "cell_type": "code",
   "execution_count": null,
   "id": "a386472c-5d2d-4741-9470-7f039c51525a",
   "metadata": {},
   "outputs": [],
   "source": []
  },
  {
   "cell_type": "code",
   "execution_count": null,
   "id": "a16436be-af29-4eee-be9c-2627c4c8ca31",
   "metadata": {},
   "outputs": [],
   "source": []
  },
  {
   "cell_type": "code",
   "execution_count": null,
   "id": "85886e17-4300-4011-8c2d-474e43e9cbea",
   "metadata": {},
   "outputs": [],
   "source": [
    "# the customer id is redundent\n",
    "print((dup_c == (dup_e & dup_c)).all())\n",
    "print((dup_c == (dup_n & dup_c)).all())\n",
    "df = df.drop(c_id, axis=1)"
   ]
  },
  {
   "cell_type": "code",
   "execution_count": 12,
   "id": "092c09fe-5e93-49bf-8a6a-e7dc85d73868",
   "metadata": {},
   "outputs": [],
   "source": []
  },
  {
   "cell_type": "code",
   "execution_count": 38,
   "id": "c8a253cd-67d2-40d5-ac11-57fc65bac04c",
   "metadata": {},
   "outputs": [
    {
     "data": {
      "text/html": [
       "<div>\n",
       "<style scoped>\n",
       "    .dataframe tbody tr th:only-of-type {\n",
       "        vertical-align: middle;\n",
       "    }\n",
       "\n",
       "    .dataframe tbody tr th {\n",
       "        vertical-align: top;\n",
       "    }\n",
       "\n",
       "    .dataframe thead th {\n",
       "        text-align: right;\n",
       "    }\n",
       "</style>\n",
       "<table border=\"1\" class=\"dataframe\">\n",
       "  <thead>\n",
       "    <tr style=\"text-align: right;\">\n",
       "      <th></th>\n",
       "      <th>customer_id</th>\n",
       "    </tr>\n",
       "  </thead>\n",
       "  <tbody>\n",
       "    <tr>\n",
       "      <th>0</th>\n",
       "      <td>azlinayeo@gmail.com-azlina yeo</td>\n",
       "    </tr>\n",
       "    <tr>\n",
       "      <th>1</th>\n",
       "      <td>yingshijinb@gmail.com-yingshi ji</td>\n",
       "    </tr>\n",
       "    <tr>\n",
       "      <th>2</th>\n",
       "      <td>moshed88@hotmail.com-moshe dabach</td>\n",
       "    </tr>\n",
       "    <tr>\n",
       "      <th>3</th>\n",
       "      <td>lukyip27@gmail.com-y luk</td>\n",
       "    </tr>\n",
       "    <tr>\n",
       "      <th>4</th>\n",
       "      <td>anirudhmvr@gmail.com-anirudh manchiraju</td>\n",
       "    </tr>\n",
       "    <tr>\n",
       "      <th>5</th>\n",
       "      <td>svithya04@yahoo.com-srivithya  kannathasan</td>\n",
       "    </tr>\n",
       "    <tr>\n",
       "      <th>6</th>\n",
       "      <td>tinateotia@nhs.net-tina teotia das</td>\n",
       "    </tr>\n",
       "    <tr>\n",
       "      <th>7</th>\n",
       "      <td>marshacrosby@gmail.com-miss m l crosby</td>\n",
       "    </tr>\n",
       "    <tr>\n",
       "      <th>8</th>\n",
       "      <td>mcbride.alan@gmail.com-mr alan mcbride</td>\n",
       "    </tr>\n",
       "    <tr>\n",
       "      <th>9</th>\n",
       "      <td>arun1787@gmail.com-mr a thillaisundaram</td>\n",
       "    </tr>\n",
       "    <tr>\n",
       "      <th>10</th>\n",
       "      <td>jeojeo0328@hotmail.com-mrs shi zhou</td>\n",
       "    </tr>\n",
       "    <tr>\n",
       "      <th>11</th>\n",
       "      <td>marcela.bletzer@gmail.com-mrs marcela bletzer</td>\n",
       "    </tr>\n",
       "    <tr>\n",
       "      <th>12</th>\n",
       "      <td>hgajeens@hotmail.com-hilary beck</td>\n",
       "    </tr>\n",
       "    <tr>\n",
       "      <th>13</th>\n",
       "      <td>b.armendariz@ucl.ac.uk-beatriz armendariz</td>\n",
       "    </tr>\n",
       "    <tr>\n",
       "      <th>14</th>\n",
       "      <td>oana.cicalau@yahoo.com-oana cicalau</td>\n",
       "    </tr>\n",
       "    <tr>\n",
       "      <th>15</th>\n",
       "      <td>seanmaccann@gmail.com-sean mac cann</td>\n",
       "    </tr>\n",
       "    <tr>\n",
       "      <th>16</th>\n",
       "      <td>ethanhill116@gmail.com-ethan hill</td>\n",
       "    </tr>\n",
       "    <tr>\n",
       "      <th>17</th>\n",
       "      <td>jayapriyathanaraj@hotmail.com-jayapriya thanaraj</td>\n",
       "    </tr>\n",
       "    <tr>\n",
       "      <th>18</th>\n",
       "      <td>dunnioiyari@gmail.com-dunni omebere-iyari</td>\n",
       "    </tr>\n",
       "    <tr>\n",
       "      <th>19</th>\n",
       "      <td>anya@rowanmail.me-anna rowan</td>\n",
       "    </tr>\n",
       "    <tr>\n",
       "      <th>20</th>\n",
       "      <td>peravali.padma01@gmail.com-mrs p peravali</td>\n",
       "    </tr>\n",
       "    <tr>\n",
       "      <th>21</th>\n",
       "      <td>deexita.patel@gmail.com-deexita patel</td>\n",
       "    </tr>\n",
       "    <tr>\n",
       "      <th>22</th>\n",
       "      <td>guinness.tom@gmail.com-tom guinness</td>\n",
       "    </tr>\n",
       "    <tr>\n",
       "      <th>23</th>\n",
       "      <td>alexispittas@yahoo.com-mr alexis k pittas</td>\n",
       "    </tr>\n",
       "    <tr>\n",
       "      <th>24</th>\n",
       "      <td>luke.a.matthews@hotmail.co.uk-luke matthews</td>\n",
       "    </tr>\n",
       "    <tr>\n",
       "      <th>25</th>\n",
       "      <td>agustinservat@gmail.com-agustin servat</td>\n",
       "    </tr>\n",
       "    <tr>\n",
       "      <th>26</th>\n",
       "      <td>rajeshravindran05@gmail.com-rajesh ravindran</td>\n",
       "    </tr>\n",
       "    <tr>\n",
       "      <th>27</th>\n",
       "      <td>spiffymiss@gmail.com-sarah-jane gamble</td>\n",
       "    </tr>\n",
       "    <tr>\n",
       "      <th>28</th>\n",
       "      <td>gerald.preteau@gmail.com-gerald preteau</td>\n",
       "    </tr>\n",
       "    <tr>\n",
       "      <th>29</th>\n",
       "      <td>albaverde14@gmail.com-albena vasileva</td>\n",
       "    </tr>\n",
       "    <tr>\n",
       "      <th>30</th>\n",
       "      <td>lavagaje@yahoo.com-dr lavanya gajendran</td>\n",
       "    </tr>\n",
       "    <tr>\n",
       "      <th>31</th>\n",
       "      <td>mekarenmok@yahoo.com-karen guthrie</td>\n",
       "    </tr>\n",
       "    <tr>\n",
       "      <th>32</th>\n",
       "      <td>ankurzadu@gmail.com-ankur zadoo</td>\n",
       "    </tr>\n",
       "    <tr>\n",
       "      <th>33</th>\n",
       "      <td>clemence.schulenburg@gmail.com-clemence schule...</td>\n",
       "    </tr>\n",
       "  </tbody>\n",
       "</table>\n",
       "</div>"
      ],
      "text/plain": [
       "                                          customer_id\n",
       "0                      azlinayeo@gmail.com-azlina yeo\n",
       "1                    yingshijinb@gmail.com-yingshi ji\n",
       "2                   moshed88@hotmail.com-moshe dabach\n",
       "3                            lukyip27@gmail.com-y luk\n",
       "4             anirudhmvr@gmail.com-anirudh manchiraju\n",
       "5         svithya04@yahoo.com-srivithya  kannathasan \n",
       "6                  tinateotia@nhs.net-tina teotia das\n",
       "7              marshacrosby@gmail.com-miss m l crosby\n",
       "8              mcbride.alan@gmail.com-mr alan mcbride\n",
       "9             arun1787@gmail.com-mr a thillaisundaram\n",
       "10                jeojeo0328@hotmail.com-mrs shi zhou\n",
       "11      marcela.bletzer@gmail.com-mrs marcela bletzer\n",
       "12                   hgajeens@hotmail.com-hilary beck\n",
       "13          b.armendariz@ucl.ac.uk-beatriz armendariz\n",
       "14                oana.cicalau@yahoo.com-oana cicalau\n",
       "15                seanmaccann@gmail.com-sean mac cann\n",
       "16                  ethanhill116@gmail.com-ethan hill\n",
       "17   jayapriyathanaraj@hotmail.com-jayapriya thanaraj\n",
       "18          dunnioiyari@gmail.com-dunni omebere-iyari\n",
       "19                       anya@rowanmail.me-anna rowan\n",
       "20          peravali.padma01@gmail.com-mrs p peravali\n",
       "21              deexita.patel@gmail.com-deexita patel\n",
       "22                guinness.tom@gmail.com-tom guinness\n",
       "23          alexispittas@yahoo.com-mr alexis k pittas\n",
       "24        luke.a.matthews@hotmail.co.uk-luke matthews\n",
       "25             agustinservat@gmail.com-agustin servat\n",
       "26       rajeshravindran05@gmail.com-rajesh ravindran\n",
       "27             spiffymiss@gmail.com-sarah-jane gamble\n",
       "28            gerald.preteau@gmail.com-gerald preteau\n",
       "29              albaverde14@gmail.com-albena vasileva\n",
       "30            lavagaje@yahoo.com-dr lavanya gajendran\n",
       "31                 mekarenmok@yahoo.com-karen guthrie\n",
       "32                    ankurzadu@gmail.com-ankur zadoo\n",
       "33  clemence.schulenburg@gmail.com-clemence schule..."
      ]
     },
     "execution_count": 38,
     "metadata": {},
     "output_type": "execute_result"
    }
   ],
   "source": [
    "pd.DataFrame(duplicated_customers_list, columns = ['customer_id'])"
   ]
  },
  {
   "cell_type": "code",
   "execution_count": null,
   "id": "24570653-9524-4979-a04e-1a6cbf631d8a",
   "metadata": {},
   "outputs": [],
   "source": []
  }
 ],
 "metadata": {
  "kernelspec": {
   "display_name": "schneider",
   "language": "python",
   "name": "schneider"
  },
  "language_info": {
   "codemirror_mode": {
    "name": "ipython",
    "version": 3
   },
   "file_extension": ".py",
   "mimetype": "text/x-python",
   "name": "python",
   "nbconvert_exporter": "python",
   "pygments_lexer": "ipython3",
   "version": "3.12.7"
  }
 },
 "nbformat": 4,
 "nbformat_minor": 5
}
