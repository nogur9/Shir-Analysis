{
 "cells": [
  {
   "cell_type": "code",
   "execution_count": 1,
   "id": "8f837f8b-a127-48c0-b1a3-eef4023e8c3b",
   "metadata": {},
   "outputs": [],
   "source": [
    "import pandas as pd\n",
    "import seaborn as sns\n",
    "import plotly\n",
    "import matplotlib.pyplot as plt\n",
    "import ipywidgets as widgets\n",
    "from IPython.display import display, clear_output\n",
    "from collections import defaultdict\n",
    "import datetime"
   ]
  },
  {
   "cell_type": "code",
   "execution_count": 2,
   "id": "d8007b9e-b0a5-47b7-b541-5723fb99d723",
   "metadata": {},
   "outputs": [],
   "source": [
    "def contains_shir(row):\n",
    "    # exception\n",
    "    if row[email] == 'kshirjarohannaik@gmail.com':\n",
    "        return False\n",
    "    elif 'shir' in row[email]:\n",
    "        return True\n",
    "    elif 'shir' in row[name]:\n",
    "        return True\n",
    "    else:\n",
    "        return False"
   ]
  },
  {
   "cell_type": "code",
   "execution_count": 3,
   "id": "b0a42e89-b3c6-4322-abcf-0751a646a7c6",
   "metadata": {},
   "outputs": [
    {
     "name": "stdout",
     "output_type": "stream",
     "text": [
      "df[email].isna().sum() = 0\n",
      "df[name].isna().sum() = 0\n"
     ]
    }
   ],
   "source": [
    "canceled_at_col = \"Canceled At (UTC)\"\n",
    "ended_at_col = \"Ended At (UTC)\"\n",
    "start_at_col = \"Start Date (UTC)\"\n",
    "\n",
    "df = pd.read_csv(\"../data/subscriptions.csv\")\n",
    "email = 'Customer Email'\n",
    "name = 'Customer Name'\n",
    "c_id = 'Customer ID'\n",
    "\n",
    "df[email] = df[email].str.lower()\n",
    "df[name] = df[name].str.lower()\n",
    "\n",
    "\n",
    "# no empty values\n",
    "print(f\"{df[email].isna().sum() = }\")\n",
    "print(f\"{df[name].isna().sum() = }\")"
   ]
  },
  {
   "cell_type": "code",
   "execution_count": 4,
   "id": "e8b547b5-80db-49a2-8ed9-f3311b375a38",
   "metadata": {},
   "outputs": [],
   "source": [
    "shir_mask = df.apply(contains_shir, axis=1)\n",
    "df = df[~shir_mask]\n",
    "\n",
    "\n",
    "for col in [start_at_col, canceled_at_col, ended_at_col]:\n",
    "    if col in df.columns:\n",
    "        df[col] = pd.to_datetime(df[col], errors=\"coerce\")"
   ]
  },
  {
   "cell_type": "code",
   "execution_count": 5,
   "id": "8b8510b1-1323-4dbe-82a1-f470246d76cc",
   "metadata": {},
   "outputs": [],
   "source": [
    "def assign_duplicate_group_ids(df, email_col, name_col):\n",
    "    df = df.copy()  # do not mutate caller\n",
    "    # Ensure positional alignment 0..n-1\n",
    "    df = df.reset_index(drop=True)\n",
    "    n = len(df)\n",
    "\n",
    "    # Group labels as arrays (positional)\n",
    "    e_group = df.groupby(email_col).ngroup().to_numpy()\n",
    "    n_group = df.groupby(name_col).ngroup().to_numpy()\n",
    "\n",
    "    # Build adjacency by shared email OR shared name\n",
    "    email_to_rows = defaultdict(list)\n",
    "    name_to_rows  = defaultdict(list)\n",
    "    for i in range(n):\n",
    "        email_to_rows[e_group[i]].append(i)\n",
    "        name_to_rows[n_group[i]].append(i)\n",
    "\n",
    "    # DFS over rows (0..n-1), using only positional indices\n",
    "    visited = set()\n",
    "    group_id = [-1] * n\n",
    "    current_gid = 0\n",
    "\n",
    "    for start in range(n):\n",
    "        if start in visited:\n",
    "            continue\n",
    "        stack = [start]\n",
    "        while stack:\n",
    "            cur = stack.pop()\n",
    "            if cur in visited:\n",
    "                continue\n",
    "            visited.add(cur)\n",
    "            group_id[cur] = current_gid\n",
    "\n",
    "            # push all rows sharing this row's email\n",
    "            for nbr in email_to_rows[e_group[cur]]:\n",
    "                if nbr not in visited:\n",
    "                    stack.append(nbr)\n",
    "            # push all rows sharing this row's name\n",
    "            for nbr in name_to_rows[n_group[cur]]:\n",
    "                if nbr not in visited:\n",
    "                    stack.append(nbr)\n",
    "\n",
    "        current_gid += 1\n",
    "\n",
    "    df[\"group_id\"] = group_id\n",
    "    return df\n"
   ]
  },
  {
   "cell_type": "code",
   "execution_count": 6,
   "id": "e5023c8b-1eea-452d-b535-31e6d91eb8d0",
   "metadata": {},
   "outputs": [],
   "source": [
    "def collapse_duplicate_groups(\n",
    "    df: pd.DataFrame,\n",
    "    group_col: str = \"group_id\",\n",
    "    min_col: str = \"column 1\",\n",
    "    max_col: str = \"column 2\",\n",
    "    sort_keys=None,       # e.g., [\"some_priority_col\", \"created_at\"]\n",
    ") -> pd.DataFrame:\n",
    "    \"\"\"\n",
    "    For each group in `group_col`, collapse to a single row:\n",
    "      - min of `min_col`\n",
    "      - max of `max_col`\n",
    "      - first for all other columns\n",
    "    If `sort_keys` is provided, we sort before taking 'first' to make it deterministic.\n",
    "    \"\"\"\n",
    "    if sort_keys is not None:\n",
    "        df = df.sort_values(sort_keys).copy()\n",
    "    else:\n",
    "        df = df.copy()  # keep current order; 'first' will follow this order\n",
    "\n",
    "    # Build the aggregation map\n",
    "    agg_map = {min_col: \"min\", max_col: \"max\"}\n",
    "\n",
    "    for c in df.columns:\n",
    "        if c not in (group_col, min_col, max_col):\n",
    "            agg_map[c] = \"first\"\n",
    "\n",
    "    out = df.groupby(group_col, as_index=False).agg(agg_map)\n",
    "    return out\n"
   ]
  },
  {
   "cell_type": "code",
   "execution_count": 7,
   "id": "b29b4c65-9bfa-4bda-9ab2-fbdb64d5e12b",
   "metadata": {},
   "outputs": [],
   "source": [
    "dups = assign_duplicate_group_ids(df, email_col=email, name_col=name)"
   ]
  },
  {
   "cell_type": "code",
   "execution_count": 9,
   "id": "4e27274d-532c-457a-8e92-63b44b23124f",
   "metadata": {},
   "outputs": [],
   "source": [
    " new_df = collapse_duplicate_groups(\n",
    "    df = dups,\n",
    "    group_col = \"group_id\",\n",
    "    min_col = start_at_col,\n",
    "    max_col = canceled_at_col\n",
    ") "
   ]
  },
  {
   "cell_type": "code",
   "execution_count": 29,
   "id": "24570653-9524-4979-a04e-1a6cbf631d8a",
   "metadata": {},
   "outputs": [],
   "source": [
    "dup_handler = pd.read_excel(\"../data/handling duplicates.xlsx\")\n",
    "guide = dup_handler.groupby(\"group_id\")[\"Unnamed: 3\"]\n",
    "  .apply(lambda x: x[x != \"\"].iloc[0]).to_dict()"
   ]
  },
  {
   "cell_type": "code",
   "execution_count": null,
   "id": "0747d696-ab60-4db6-9457-fab99bc6ccc2",
   "metadata": {},
   "outputs": [],
   "source": [
    "\"multiple start - end\""
   ]
  },
  {
   "cell_type": "code",
   "execution_count": 35,
   "id": "0409e7c3-7256-48c4-951f-922953dae04b",
   "metadata": {},
   "outputs": [],
   "source": [
    "non_duplicates = dups[~dups['group_id'].isin(guide.keys())]\n",
    "multiple_start_end = duplicates[duplicates['group_id'].map(guide) == \"multiple start - end\"]"
   ]
  },
  {
   "cell_type": "code",
   "execution_count": null,
   "id": "8f65ef40-1b30-44b2-ae61-438db9dc820e",
   "metadata": {},
   "outputs": [],
   "source": [
    "duplicates = dups[dups['group_id'].isin(guide.keys())]"
   ]
  },
  {
   "cell_type": "code",
   "execution_count": null,
   "id": "b5098999-92b0-443c-b914-cfaab7a81bdf",
   "metadata": {},
   "outputs": [],
   "source": []
  },
  {
   "cell_type": "code",
   "execution_count": 39,
   "id": "dcd316f0-d3dc-4bfc-a65c-309ae4761a8c",
   "metadata": {},
   "outputs": [],
   "source": [
    "didnt_quit = duplicates[duplicates['group_id'].map(guide) == \"didn't_quit\"]\n",
    "single_start_end = duplicates[duplicates['group_id'].map(guide) == \"single_start-end\"]"
   ]
  },
  {
   "cell_type": "code",
   "execution_count": 40,
   "id": "327d52f3-f4c8-4287-b0f9-718d4e8e0008",
   "metadata": {},
   "outputs": [],
   "source": [
    "clean_single_start_end = collapse_duplicate_groups(\n",
    "    df = single_start_end,\n",
    "    group_col = \"group_id\",\n",
    "    min_col = start_at_col,\n",
    "    max_col = canceled_at_col\n",
    ") "
   ]
  },
  {
   "cell_type": "code",
   "execution_count": 41,
   "id": "ff8134e9-c634-449f-bc4d-18e5a222274d",
   "metadata": {},
   "outputs": [],
   "source": [
    "clean_didnt_quit = collapse_duplicate_groups(\n",
    "    df = didnt_quit,\n",
    "    group_col = \"group_id\",\n",
    "    min_col = start_at_col,\n",
    "    max_col = canceled_at_col\n",
    ") "
   ]
  },
  {
   "cell_type": "code",
   "execution_count": 47,
   "id": "78cbe00b-c5b5-4895-bc8c-7b0e26dffaf9",
   "metadata": {},
   "outputs": [],
   "source": [
    "clean_didnt_quit[canceled_at_col] = pd.NaT"
   ]
  },
  {
   "cell_type": "code",
   "execution_count": 54,
   "id": "4b19d391-0852-4287-817b-af1124ec376f",
   "metadata": {},
   "outputs": [
    {
     "data": {
      "text/plain": [
       "datetime.datetime(2023, 10, 1, 0, 0)"
      ]
     },
     "execution_count": 54,
     "metadata": {},
     "output_type": "execute_result"
    }
   ],
   "source": [
    "datetime.datetime.strptime(\"10/2023\", \"%m/%Y\")"
   ]
  },
  {
   "cell_type": "code",
   "execution_count": 56,
   "id": "fb65ca2a-9657-4a23-9b7b-e424c77e1b60",
   "metadata": {},
   "outputs": [
    {
     "data": {
      "text/html": [
       "<div>\n",
       "<style scoped>\n",
       "    .dataframe tbody tr th:only-of-type {\n",
       "        vertical-align: middle;\n",
       "    }\n",
       "\n",
       "    .dataframe tbody tr th {\n",
       "        vertical-align: top;\n",
       "    }\n",
       "\n",
       "    .dataframe thead th {\n",
       "        text-align: right;\n",
       "    }\n",
       "</style>\n",
       "<table border=\"1\" class=\"dataframe\">\n",
       "  <thead>\n",
       "    <tr style=\"text-align: right;\">\n",
       "      <th></th>\n",
       "      <th>id</th>\n",
       "      <th>Customer ID</th>\n",
       "      <th>Customer Email</th>\n",
       "      <th>Quantity</th>\n",
       "      <th>Amount</th>\n",
       "      <th>Status</th>\n",
       "      <th>Created (UTC)</th>\n",
       "      <th>Start (UTC)</th>\n",
       "      <th>Start Date (UTC)</th>\n",
       "      <th>Current Period Start (UTC)</th>\n",
       "      <th>Current Period End (UTC)</th>\n",
       "      <th>Trial Start (UTC)</th>\n",
       "      <th>Trial End (UTC)</th>\n",
       "      <th>Canceled At (UTC)</th>\n",
       "      <th>Cancel At Period End</th>\n",
       "      <th>Ended At (UTC)</th>\n",
       "      <th>Customer Name</th>\n",
       "    </tr>\n",
       "  </thead>\n",
       "  <tbody>\n",
       "    <tr>\n",
       "      <th>104</th>\n",
       "      <td>sub_1QXJgCLLDYopDCcG5zm6fbVy</td>\n",
       "      <td>cus_RQA0As31wrUXFz</td>\n",
       "      <td>loredanamirea05@yahoo.com</td>\n",
       "      <td>1</td>\n",
       "      <td>1080.0</td>\n",
       "      <td>active</td>\n",
       "      <td>2024-12-18 09:36</td>\n",
       "      <td>2024-12-24 16:32</td>\n",
       "      <td>2024-12-18 09:36:00</td>\n",
       "      <td>2025-06-24 16:32</td>\n",
       "      <td>2025-12-24 16:32</td>\n",
       "      <td>2024-12-18 09:36</td>\n",
       "      <td>2024-12-24 16:32</td>\n",
       "      <td>NaT</td>\n",
       "      <td>False</td>\n",
       "      <td>NaT</td>\n",
       "      <td>gabriel amariutei</td>\n",
       "    </tr>\n",
       "  </tbody>\n",
       "</table>\n",
       "</div>"
      ],
      "text/plain": [
       "                               id         Customer ID  \\\n",
       "104  sub_1QXJgCLLDYopDCcG5zm6fbVy  cus_RQA0As31wrUXFz   \n",
       "\n",
       "                Customer Email  Quantity  Amount  Status     Created (UTC)  \\\n",
       "104  loredanamirea05@yahoo.com         1  1080.0  active  2024-12-18 09:36   \n",
       "\n",
       "          Start (UTC)    Start Date (UTC) Current Period Start (UTC)  \\\n",
       "104  2024-12-24 16:32 2024-12-18 09:36:00           2025-06-24 16:32   \n",
       "\n",
       "    Current Period End (UTC) Trial Start (UTC)   Trial End (UTC)  \\\n",
       "104         2025-12-24 16:32  2024-12-18 09:36  2024-12-24 16:32   \n",
       "\n",
       "    Canceled At (UTC)  Cancel At Period End Ended At (UTC)      Customer Name  \n",
       "104               NaT                 False            NaT  gabriel amariutei  "
      ]
     },
     "execution_count": 56,
     "metadata": {},
     "output_type": "execute_result"
    }
   ],
   "source": [
    "df[df[name] == 'gabriel amariutei']"
   ]
  },
  {
   "cell_type": "code",
   "execution_count": 58,
   "id": "6386a077-eb87-4763-a12e-ae02490cded1",
   "metadata": {},
   "outputs": [],
   "source": [
    "\n",
    "new_cust = {\n",
    "    1: 'Dominic Church',\n",
    "    2: 'dominicchurch@wacomms.co.uk',\n",
    "    3: datetime.datetime.strptime(\"01/12/2024\", \"%d/%m/%Y\"),\n",
    "    4: pd.NaT,\n",
    "    5: pd.NaT\n",
    "}"
   ]
  },
  {
   "cell_type": "code",
   "execution_count": 61,
   "id": "dbf46a2c-6938-418b-bf27-c8512c2e6576",
   "metadata": {},
   "outputs": [
    {
     "data": {
      "text/html": [
       "<div>\n",
       "<style scoped>\n",
       "    .dataframe tbody tr th:only-of-type {\n",
       "        vertical-align: middle;\n",
       "    }\n",
       "\n",
       "    .dataframe tbody tr th {\n",
       "        vertical-align: top;\n",
       "    }\n",
       "\n",
       "    .dataframe thead th {\n",
       "        text-align: right;\n",
       "    }\n",
       "</style>\n",
       "<table border=\"1\" class=\"dataframe\">\n",
       "  <thead>\n",
       "    <tr style=\"text-align: right;\">\n",
       "      <th></th>\n",
       "      <th>1</th>\n",
       "      <th>2</th>\n",
       "      <th>3</th>\n",
       "      <th>4</th>\n",
       "      <th>5</th>\n",
       "    </tr>\n",
       "  </thead>\n",
       "  <tbody>\n",
       "    <tr>\n",
       "      <th>0</th>\n",
       "      <td>Dominic Church</td>\n",
       "      <td>dominicchurch@wacomms.co.uk</td>\n",
       "      <td>2024-12-01</td>\n",
       "      <td>NaT</td>\n",
       "      <td>NaT</td>\n",
       "    </tr>\n",
       "  </tbody>\n",
       "</table>\n",
       "</div>"
      ],
      "text/plain": [
       "                1                            2          3   4   5\n",
       "0  Dominic Church  dominicchurch@wacomms.co.uk 2024-12-01 NaT NaT"
      ]
     },
     "execution_count": 61,
     "metadata": {},
     "output_type": "execute_result"
    }
   ],
   "source": [
    "pd.DataFrame([new_cust])"
   ]
  },
  {
   "cell_type": "code",
   "execution_count": null,
   "id": "076bec72-2843-4ed0-9cab-807d97b23e2d",
   "metadata": {},
   "outputs": [],
   "source": []
  }
 ],
 "metadata": {
  "kernelspec": {
   "display_name": "schneider",
   "language": "python",
   "name": "schneider"
  },
  "language_info": {
   "codemirror_mode": {
    "name": "ipython",
    "version": 3
   },
   "file_extension": ".py",
   "mimetype": "text/x-python",
   "name": "python",
   "nbconvert_exporter": "python",
   "pygments_lexer": "ipython3",
   "version": "3.12.7"
  }
 },
 "nbformat": 4,
 "nbformat_minor": 5
}
