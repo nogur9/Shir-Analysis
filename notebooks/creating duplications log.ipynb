{
 "cells": [
  {
   "cell_type": "code",
   "execution_count": 1,
   "id": "8f837f8b-a127-48c0-b1a3-eef4023e8c3b",
   "metadata": {},
   "outputs": [],
   "source": [
    "import pandas as pd\n",
    "import seaborn as sns\n",
    "import plotly\n",
    "import matplotlib.pyplot as plt\n",
    "import ipywidgets as widgets\n",
    "from IPython.display import display, clear_output\n",
    "from collections import defaultdict\n"
   ]
  },
  {
   "cell_type": "code",
   "execution_count": 2,
   "id": "d8007b9e-b0a5-47b7-b541-5723fb99d723",
   "metadata": {},
   "outputs": [],
   "source": [
    "def contains_shir(row):\n",
    "    # exception\n",
    "    if row[email] == 'kshirjarohannaik@gmail.com':\n",
    "        return False\n",
    "    elif 'shir' in row[email]:\n",
    "        return True\n",
    "    elif 'shir' in row[name]:\n",
    "        return True\n",
    "    else:\n",
    "        return False"
   ]
  },
  {
   "cell_type": "code",
   "execution_count": 3,
   "id": "b0a42e89-b3c6-4322-abcf-0751a646a7c6",
   "metadata": {},
   "outputs": [
    {
     "name": "stdout",
     "output_type": "stream",
     "text": [
      "df[email].isna().sum() = 0\n",
      "df[name].isna().sum() = 0\n"
     ]
    }
   ],
   "source": [
    "df = pd.read_csv(\"../data/subscriptions.csv\")\n",
    "email = 'Customer Email'\n",
    "name = 'Customer Name'\n",
    "c_id = 'Customer ID'\n",
    "\n",
    "df[email] = df[email].str.lower()\n",
    "df[name] = df[name].str.lower()\n",
    "\n",
    "\n",
    "# no empty values\n",
    "print(f\"{df[email].isna().sum() = }\")\n",
    "print(f\"{df[name].isna().sum() = }\")"
   ]
  },
  {
   "cell_type": "code",
   "execution_count": 4,
   "id": "e8b547b5-80db-49a2-8ed9-f3311b375a38",
   "metadata": {},
   "outputs": [],
   "source": [
    "shir_mask = df.apply(contains_shir, axis=1)\n",
    "df = df[~shir_mask]"
   ]
  },
  {
   "cell_type": "code",
   "execution_count": 9,
   "id": "8b8510b1-1323-4dbe-82a1-f470246d76cc",
   "metadata": {},
   "outputs": [],
   "source": [
    "def assign_duplicate_group_ids(df, email_col, name_col):\n",
    "    df = df.copy()  # do not mutate caller\n",
    "    # Ensure positional alignment 0..n-1\n",
    "    df = df.reset_index(drop=True)\n",
    "    n = len(df)\n",
    "\n",
    "    # Group labels as arrays (positional)\n",
    "    e_group = df.groupby(email_col).ngroup().to_numpy()\n",
    "    n_group = df.groupby(name_col).ngroup().to_numpy()\n",
    "\n",
    "    # Build adjacency by shared email OR shared name\n",
    "    email_to_rows = defaultdict(list)\n",
    "    name_to_rows  = defaultdict(list)\n",
    "    for i in range(n):\n",
    "        email_to_rows[e_group[i]].append(i)\n",
    "        name_to_rows[n_group[i]].append(i)\n",
    "\n",
    "    # DFS over rows (0..n-1), using only positional indices\n",
    "    visited = set()\n",
    "    group_id = [-1] * n\n",
    "    current_gid = 0\n",
    "\n",
    "    for start in range(n):\n",
    "        if start in visited:\n",
    "            continue\n",
    "        stack = [start]\n",
    "        while stack:\n",
    "            cur = stack.pop()\n",
    "            if cur in visited:\n",
    "                continue\n",
    "            visited.add(cur)\n",
    "            group_id[cur] = current_gid\n",
    "\n",
    "            # push all rows sharing this row's email\n",
    "            for nbr in email_to_rows[e_group[cur]]:\n",
    "                if nbr not in visited:\n",
    "                    stack.append(nbr)\n",
    "            # push all rows sharing this row's name\n",
    "            for nbr in name_to_rows[n_group[cur]]:\n",
    "                if nbr not in visited:\n",
    "                    stack.append(nbr)\n",
    "\n",
    "        current_gid += 1\n",
    "\n",
    "    df[\"group_id\"] = group_id\n",
    "    return df\n"
   ]
  },
  {
   "cell_type": "code",
   "execution_count": null,
   "id": "e5023c8b-1eea-452d-b535-31e6d91eb8d0",
   "metadata": {},
   "outputs": [],
   "source": []
  },
  {
   "cell_type": "code",
   "execution_count": 12,
   "id": "b29b4c65-9bfa-4bda-9ab2-fbdb64d5e12b",
   "metadata": {},
   "outputs": [],
   "source": [
    "dups = assign_duplicate_group_ids(df, email_col=email, name_col=name)"
   ]
  },
  {
   "cell_type": "code",
   "execution_count": 34,
   "id": "4e27274d-532c-457a-8e92-63b44b23124f",
   "metadata": {},
   "outputs": [
    {
     "data": {
      "text/html": [
       "<div>\n",
       "<style scoped>\n",
       "    .dataframe tbody tr th:only-of-type {\n",
       "        vertical-align: middle;\n",
       "    }\n",
       "\n",
       "    .dataframe tbody tr th {\n",
       "        vertical-align: top;\n",
       "    }\n",
       "\n",
       "    .dataframe thead th {\n",
       "        text-align: right;\n",
       "    }\n",
       "</style>\n",
       "<table border=\"1\" class=\"dataframe\">\n",
       "  <thead>\n",
       "    <tr style=\"text-align: right;\">\n",
       "      <th></th>\n",
       "      <th>id</th>\n",
       "      <th>Customer ID</th>\n",
       "      <th>Customer Email</th>\n",
       "      <th>Quantity</th>\n",
       "      <th>Amount</th>\n",
       "      <th>Status</th>\n",
       "      <th>Created (UTC)</th>\n",
       "      <th>Start (UTC)</th>\n",
       "      <th>Start Date (UTC)</th>\n",
       "      <th>Current Period Start (UTC)</th>\n",
       "      <th>Current Period End (UTC)</th>\n",
       "      <th>Trial Start (UTC)</th>\n",
       "      <th>Trial End (UTC)</th>\n",
       "      <th>Canceled At (UTC)</th>\n",
       "      <th>Cancel At Period End</th>\n",
       "      <th>Ended At (UTC)</th>\n",
       "      <th>Customer Name</th>\n",
       "    </tr>\n",
       "  </thead>\n",
       "  <tbody>\n",
       "    <tr>\n",
       "      <th>241</th>\n",
       "      <td>sub_1Os5xVLLDYopDCcGmS9xAiVJ</td>\n",
       "      <td>cus_PhUxQjYi7GgETP</td>\n",
       "      <td>mertiti@gmail.com</td>\n",
       "      <td>1</td>\n",
       "      <td>129.0</td>\n",
       "      <td>canceled</td>\n",
       "      <td>2024-03-08 16:07</td>\n",
       "      <td>2024-03-08 16:07</td>\n",
       "      <td>2024-03-08 16:07</td>\n",
       "      <td>2024-06-08 16:07</td>\n",
       "      <td>2024-07-08 16:07</td>\n",
       "      <td>NaN</td>\n",
       "      <td>NaN</td>\n",
       "      <td>2024-06-21 21:52</td>\n",
       "      <td>False</td>\n",
       "      <td>2024-06-21 21:52</td>\n",
       "      <td>avinoam gal</td>\n",
       "    </tr>\n",
       "  </tbody>\n",
       "</table>\n",
       "</div>"
      ],
      "text/plain": [
       "                               id         Customer ID     Customer Email  \\\n",
       "241  sub_1Os5xVLLDYopDCcGmS9xAiVJ  cus_PhUxQjYi7GgETP  mertiti@gmail.com   \n",
       "\n",
       "     Quantity  Amount    Status     Created (UTC)       Start (UTC)  \\\n",
       "241         1   129.0  canceled  2024-03-08 16:07  2024-03-08 16:07   \n",
       "\n",
       "     Start Date (UTC) Current Period Start (UTC) Current Period End (UTC)  \\\n",
       "241  2024-03-08 16:07           2024-06-08 16:07         2024-07-08 16:07   \n",
       "\n",
       "    Trial Start (UTC) Trial End (UTC) Canceled At (UTC)  Cancel At Period End  \\\n",
       "241               NaN             NaN  2024-06-21 21:52                 False   \n",
       "\n",
       "       Ended At (UTC) Customer Name  \n",
       "241  2024-06-21 21:52   avinoam gal  "
      ]
     },
     "execution_count": 34,
     "metadata": {},
     "output_type": "execute_result"
    }
   ],
   "source": [
    " collapse_duplicate_groups(\n",
    "    df: pd.DataFrame,\n",
    "    group_col: str = \"group_id\",\n",
    "    min_col: str = \"column 1\",\n",
    "    max_col: str = \"column 2\",\n",
    ") "
   ]
  },
  {
   "cell_type": "code",
   "execution_count": 8,
   "id": "b9e3161b-e73a-4344-a385-c766e1ba17ff",
   "metadata": {},
   "outputs": [],
   "source": [
    "dups"
   ]
  },
  {
   "cell_type": "code",
   "execution_count": null,
   "id": "24570653-9524-4979-a04e-1a6cbf631d8a",
   "metadata": {},
   "outputs": [],
   "source": []
  }
 ],
 "metadata": {
  "kernelspec": {
   "display_name": "schneider",
   "language": "python",
   "name": "schneider"
  },
  "language_info": {
   "codemirror_mode": {
    "name": "ipython",
    "version": 3
   },
   "file_extension": ".py",
   "mimetype": "text/x-python",
   "name": "python",
   "nbconvert_exporter": "python",
   "pygments_lexer": "ipython3",
   "version": "3.12.7"
  }
 },
 "nbformat": 4,
 "nbformat_minor": 5
}
