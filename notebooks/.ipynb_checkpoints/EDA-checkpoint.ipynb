{
 "cells": [
  {
   "cell_type": "code",
   "execution_count": 1,
   "id": "0e94e865-728b-4ad2-9777-3b7c64ac2997",
   "metadata": {},
   "outputs": [
    {
     "data": {
      "text/html": [
       "\n",
       "            <div>\n",
       "                <ins><a href=\"https://ydata.ai/register\">Upgrade to ydata-sdk</a></ins>\n",
       "                <p>\n",
       "                    Improve your data and profiling with ydata-sdk, featuring data quality scoring, redundancy detection, outlier identification, text validation, and synthetic data generation.\n",
       "                </p>\n",
       "            </div>\n",
       "            "
      ],
      "text/plain": [
       "<IPython.core.display.HTML object>"
      ]
     },
     "metadata": {},
     "output_type": "display_data"
    }
   ],
   "source": [
    "from ydata_profiling import ProfileReport\n",
    "import dtale\n",
    "import pandas as pd"
   ]
  },
  {
   "cell_type": "code",
   "execution_count": 2,
   "id": "7dee8a96-fd57-4768-9d8c-49487f3b9739",
   "metadata": {},
   "outputs": [],
   "source": [
    "df = pd.read_csv(r\"data/subscriptions.csv\")\n",
    "eda_df = df.copy()"
   ]
  },
  {
   "cell_type": "code",
   "execution_count": 4,
   "id": "8c96aced-c2cf-42a8-a5d2-8e3fa6af1a46",
   "metadata": {},
   "outputs": [],
   "source": [
    "info_cols = ['id', 'Status']\n",
    "dates_cols = ['Created (UTC)', 'Start (UTC)', 'Start Date (UTC)',\n",
    "       'Current Period Start (UTC)', 'Current Period End (UTC)',\n",
    "       'Trial Start (UTC)', 'Trial End (UTC)', 'Canceled At (UTC)',\n",
    "       'Cancel At Period End', 'Ended At (UTC)']\n",
    "\n",
    "eda_df = eda_df[info_cols + dates_cols]"
   ]
  },
  {
   "cell_type": "code",
   "execution_count": 6,
   "id": "62b1cd66-c5f6-4a07-9789-16c6071791e9",
   "metadata": {},
   "outputs": [],
   "source": [
    "# Convert relevant date columns to datetime\n",
    "for col in dates_cols:\n",
    "    eda_df[col] = pd.to_datetime(eda_df[col], errors='coerce')\n"
   ]
  },
  {
   "cell_type": "code",
   "execution_count": 9,
   "id": "000f2ac7-e621-4c09-a1e2-b4ffa5a53957",
   "metadata": {},
   "outputs": [
    {
     "name": "stderr",
     "output_type": "stream",
     "text": [
      "C:\\Users\\USER\\anaconda3\\Lib\\site-packages\\dtale\\column_analysis.py:402: FutureWarning:\n",
      "\n",
      "pandas.value_counts is deprecated and will be removed in a future version. Use pd.Series(obj).value_counts() instead.\n",
      "\n",
      "C:\\Users\\USER\\anaconda3\\Lib\\site-packages\\dtale\\column_analysis.py:402: FutureWarning:\n",
      "\n",
      "pandas.value_counts is deprecated and will be removed in a future version. Use pd.Series(obj).value_counts() instead.\n",
      "\n"
     ]
    }
   ],
   "source": [
    "d = dtale.show(eda_df)\n",
    "d.open_browser()"
   ]
  },
  {
   "cell_type": "code",
   "execution_count": 41,
   "id": "aa827778-8de6-4e15-8c9e-593bd33258e7",
   "metadata": {},
   "outputs": [],
   "source": [
    "ss = eda_df[~eda_df['Canceled At (UTC)'].isna()]\n",
    "mask  = (ss['Canceled At (UTC)'] == ss['Ended At (UTC)'])\n"
   ]
  },
  {
   "cell_type": "code",
   "execution_count": 46,
   "id": "9e22fac9-99a8-497b-b82b-5293dd4fd9db",
   "metadata": {},
   "outputs": [
    {
     "data": {
      "text/plain": [
       "Status\n",
       "canceled              196\n",
       "incomplete_expired      6\n",
       "Name: count, dtype: int64"
      ]
     },
     "execution_count": 46,
     "metadata": {},
     "output_type": "execute_result"
    }
   ],
   "source": [
    "ss['Status'].value_counts()"
   ]
  },
  {
   "cell_type": "code",
   "execution_count": 33,
   "id": "1db0a0c5-a1a6-430f-b50c-73ece25260e4",
   "metadata": {},
   "outputs": [
    {
     "data": {
      "text/html": [
       "<div>\n",
       "<style scoped>\n",
       "    .dataframe tbody tr th:only-of-type {\n",
       "        vertical-align: middle;\n",
       "    }\n",
       "\n",
       "    .dataframe tbody tr th {\n",
       "        vertical-align: top;\n",
       "    }\n",
       "\n",
       "    .dataframe thead th {\n",
       "        text-align: right;\n",
       "    }\n",
       "</style>\n",
       "<table border=\"1\" class=\"dataframe\">\n",
       "  <thead>\n",
       "    <tr style=\"text-align: right;\">\n",
       "      <th></th>\n",
       "      <th>Canceled At (UTC)</th>\n",
       "      <th>Cancel At Period End</th>\n",
       "      <th>Ended At (UTC)</th>\n",
       "    </tr>\n",
       "  </thead>\n",
       "  <tbody>\n",
       "    <tr>\n",
       "      <th>0</th>\n",
       "      <td>NaT</td>\n",
       "      <td>NaT</td>\n",
       "      <td>NaT</td>\n",
       "    </tr>\n",
       "    <tr>\n",
       "      <th>1</th>\n",
       "      <td>2025-07-14 00:55:00</td>\n",
       "      <td>NaT</td>\n",
       "      <td>2025-07-14 00:55:00</td>\n",
       "    </tr>\n",
       "    <tr>\n",
       "      <th>2</th>\n",
       "      <td>NaT</td>\n",
       "      <td>NaT</td>\n",
       "      <td>NaT</td>\n",
       "    </tr>\n",
       "    <tr>\n",
       "      <th>3</th>\n",
       "      <td>NaT</td>\n",
       "      <td>NaT</td>\n",
       "      <td>NaT</td>\n",
       "    </tr>\n",
       "    <tr>\n",
       "      <th>4</th>\n",
       "      <td>NaT</td>\n",
       "      <td>NaT</td>\n",
       "      <td>NaT</td>\n",
       "    </tr>\n",
       "    <tr>\n",
       "      <th>...</th>\n",
       "      <td>...</td>\n",
       "      <td>...</td>\n",
       "      <td>...</td>\n",
       "    </tr>\n",
       "    <tr>\n",
       "      <th>278</th>\n",
       "      <td>2023-11-24 20:23:00</td>\n",
       "      <td>NaT</td>\n",
       "      <td>2023-11-24 20:23:00</td>\n",
       "    </tr>\n",
       "    <tr>\n",
       "      <th>279</th>\n",
       "      <td>2024-07-05 17:38:00</td>\n",
       "      <td>NaT</td>\n",
       "      <td>2024-07-05 17:38:00</td>\n",
       "    </tr>\n",
       "    <tr>\n",
       "      <th>280</th>\n",
       "      <td>2024-01-23 18:26:00</td>\n",
       "      <td>NaT</td>\n",
       "      <td>2024-01-23 18:26:00</td>\n",
       "    </tr>\n",
       "    <tr>\n",
       "      <th>281</th>\n",
       "      <td>2025-05-12 10:58:00</td>\n",
       "      <td>NaT</td>\n",
       "      <td>2025-05-12 10:58:00</td>\n",
       "    </tr>\n",
       "    <tr>\n",
       "      <th>282</th>\n",
       "      <td>2024-10-07 13:46:00</td>\n",
       "      <td>NaT</td>\n",
       "      <td>2024-10-07 13:46:00</td>\n",
       "    </tr>\n",
       "  </tbody>\n",
       "</table>\n",
       "<p>283 rows × 3 columns</p>\n",
       "</div>"
      ],
      "text/plain": [
       "      Canceled At (UTC) Cancel At Period End      Ended At (UTC)\n",
       "0                   NaT                  NaT                 NaT\n",
       "1   2025-07-14 00:55:00                  NaT 2025-07-14 00:55:00\n",
       "2                   NaT                  NaT                 NaT\n",
       "3                   NaT                  NaT                 NaT\n",
       "4                   NaT                  NaT                 NaT\n",
       "..                  ...                  ...                 ...\n",
       "278 2023-11-24 20:23:00                  NaT 2023-11-24 20:23:00\n",
       "279 2024-07-05 17:38:00                  NaT 2024-07-05 17:38:00\n",
       "280 2024-01-23 18:26:00                  NaT 2024-01-23 18:26:00\n",
       "281 2025-05-12 10:58:00                  NaT 2025-05-12 10:58:00\n",
       "282 2024-10-07 13:46:00                  NaT 2024-10-07 13:46:00\n",
       "\n",
       "[283 rows x 3 columns]"
      ]
     },
     "execution_count": 33,
     "metadata": {},
     "output_type": "execute_result"
    }
   ],
   "source": [
    "eda_df[[ 'Canceled At (UTC)', 'Cancel At Period End', 'Ended At (UTC)']]#.to_csv(\"Created_VS_Start.csv\", index = 0)"
   ]
  },
  {
   "cell_type": "code",
   "execution_count": 27,
   "id": "dbda29ad-2772-4f7e-9d89-ee355f9120ab",
   "metadata": {},
   "outputs": [
    {
     "data": {
      "text/plain": [
       "True     187\n",
       "False     96\n",
       "Name: count, dtype: int64"
      ]
     },
     "execution_count": 27,
     "metadata": {},
     "output_type": "execute_result"
    }
   ],
   "source": [
    "(eda_df['Start (UTC)'] == eda_df['Start Date (UTC)']).value_counts()\n"
   ]
  },
  {
   "cell_type": "code",
   "execution_count": 25,
   "id": "31b94023-f997-4f38-b95e-6bc9ea8e99e7",
   "metadata": {},
   "outputs": [
    {
     "data": {
      "text/html": [
       "<div>\n",
       "<style scoped>\n",
       "    .dataframe tbody tr th:only-of-type {\n",
       "        vertical-align: middle;\n",
       "    }\n",
       "\n",
       "    .dataframe tbody tr th {\n",
       "        vertical-align: top;\n",
       "    }\n",
       "\n",
       "    .dataframe thead th {\n",
       "        text-align: right;\n",
       "    }\n",
       "</style>\n",
       "<table border=\"1\" class=\"dataframe\">\n",
       "  <thead>\n",
       "    <tr style=\"text-align: right;\">\n",
       "      <th></th>\n",
       "      <th>Created (UTC)</th>\n",
       "      <th>Start (UTC)</th>\n",
       "      <th>Start Date (UTC)</th>\n",
       "      <th>Current Period Start (UTC)</th>\n",
       "    </tr>\n",
       "  </thead>\n",
       "  <tbody>\n",
       "    <tr>\n",
       "      <th>0</th>\n",
       "      <td>2025-07-13 17:22:00</td>\n",
       "      <td>2025-07-13 17:22:00</td>\n",
       "      <td>2025-07-13 17:22:00</td>\n",
       "      <td>2025-07-13 17:22:00</td>\n",
       "    </tr>\n",
       "    <tr>\n",
       "      <th>1</th>\n",
       "      <td>2025-07-13 17:15:00</td>\n",
       "      <td>2025-07-13 17:15:00</td>\n",
       "      <td>2025-07-13 17:15:00</td>\n",
       "      <td>2025-07-13 17:15:00</td>\n",
       "    </tr>\n",
       "    <tr>\n",
       "      <th>2</th>\n",
       "      <td>2025-07-09 23:00:00</td>\n",
       "      <td>2025-07-09 23:00:00</td>\n",
       "      <td>2025-07-09 23:00:00</td>\n",
       "      <td>2025-07-09 23:00:00</td>\n",
       "    </tr>\n",
       "    <tr>\n",
       "      <th>3</th>\n",
       "      <td>2025-07-06 23:00:00</td>\n",
       "      <td>2025-07-06 23:00:00</td>\n",
       "      <td>2025-07-06 23:00:00</td>\n",
       "      <td>2025-07-06 23:00:00</td>\n",
       "    </tr>\n",
       "    <tr>\n",
       "      <th>4</th>\n",
       "      <td>2025-07-06 16:40:00</td>\n",
       "      <td>2025-07-06 16:40:00</td>\n",
       "      <td>2025-07-06 16:40:00</td>\n",
       "      <td>2025-07-06 16:40:00</td>\n",
       "    </tr>\n",
       "    <tr>\n",
       "      <th>...</th>\n",
       "      <td>...</td>\n",
       "      <td>...</td>\n",
       "      <td>...</td>\n",
       "      <td>...</td>\n",
       "    </tr>\n",
       "    <tr>\n",
       "      <th>278</th>\n",
       "      <td>2023-10-03 19:12:00</td>\n",
       "      <td>2023-10-03 19:12:00</td>\n",
       "      <td>2023-10-03 19:12:00</td>\n",
       "      <td>2023-11-03 19:12:00</td>\n",
       "    </tr>\n",
       "    <tr>\n",
       "      <th>279</th>\n",
       "      <td>2023-10-03 09:39:00</td>\n",
       "      <td>2023-10-03 09:39:00</td>\n",
       "      <td>2023-10-03 09:39:00</td>\n",
       "      <td>2024-07-03 09:39:00</td>\n",
       "    </tr>\n",
       "    <tr>\n",
       "      <th>280</th>\n",
       "      <td>2023-10-02 17:23:00</td>\n",
       "      <td>2023-10-02 17:23:00</td>\n",
       "      <td>2023-10-02 17:23:00</td>\n",
       "      <td>2024-01-02 17:23:00</td>\n",
       "    </tr>\n",
       "    <tr>\n",
       "      <th>281</th>\n",
       "      <td>2023-10-01 19:14:00</td>\n",
       "      <td>2025-03-01 12:35:00</td>\n",
       "      <td>2023-10-01 19:14:00</td>\n",
       "      <td>2025-05-01 12:35:00</td>\n",
       "    </tr>\n",
       "    <tr>\n",
       "      <th>282</th>\n",
       "      <td>2023-09-30 18:32:00</td>\n",
       "      <td>2023-09-30 18:32:00</td>\n",
       "      <td>2023-09-30 18:32:00</td>\n",
       "      <td>2024-09-30 18:32:00</td>\n",
       "    </tr>\n",
       "  </tbody>\n",
       "</table>\n",
       "<p>283 rows × 4 columns</p>\n",
       "</div>"
      ],
      "text/plain": [
       "          Created (UTC)         Start (UTC)    Start Date (UTC)  \\\n",
       "0   2025-07-13 17:22:00 2025-07-13 17:22:00 2025-07-13 17:22:00   \n",
       "1   2025-07-13 17:15:00 2025-07-13 17:15:00 2025-07-13 17:15:00   \n",
       "2   2025-07-09 23:00:00 2025-07-09 23:00:00 2025-07-09 23:00:00   \n",
       "3   2025-07-06 23:00:00 2025-07-06 23:00:00 2025-07-06 23:00:00   \n",
       "4   2025-07-06 16:40:00 2025-07-06 16:40:00 2025-07-06 16:40:00   \n",
       "..                  ...                 ...                 ...   \n",
       "278 2023-10-03 19:12:00 2023-10-03 19:12:00 2023-10-03 19:12:00   \n",
       "279 2023-10-03 09:39:00 2023-10-03 09:39:00 2023-10-03 09:39:00   \n",
       "280 2023-10-02 17:23:00 2023-10-02 17:23:00 2023-10-02 17:23:00   \n",
       "281 2023-10-01 19:14:00 2025-03-01 12:35:00 2023-10-01 19:14:00   \n",
       "282 2023-09-30 18:32:00 2023-09-30 18:32:00 2023-09-30 18:32:00   \n",
       "\n",
       "    Current Period Start (UTC)  \n",
       "0          2025-07-13 17:22:00  \n",
       "1          2025-07-13 17:15:00  \n",
       "2          2025-07-09 23:00:00  \n",
       "3          2025-07-06 23:00:00  \n",
       "4          2025-07-06 16:40:00  \n",
       "..                         ...  \n",
       "278        2023-11-03 19:12:00  \n",
       "279        2024-07-03 09:39:00  \n",
       "280        2024-01-02 17:23:00  \n",
       "281        2025-05-01 12:35:00  \n",
       "282        2024-09-30 18:32:00  \n",
       "\n",
       "[283 rows x 4 columns]"
      ]
     },
     "execution_count": 25,
     "metadata": {},
     "output_type": "execute_result"
    }
   ],
   "source": [
    "eda_df[['Created (UTC)', 'Start (UTC)', 'Start Date (UTC)', 'Current Period Start (UTC)']]"
   ]
  },
  {
   "cell_type": "code",
   "execution_count": null,
   "id": "ad54cf40-bd62-4bdc-865c-b151306f83cc",
   "metadata": {},
   "outputs": [],
   "source": []
  },
  {
   "cell_type": "code",
   "execution_count": 8,
   "id": "fbd73645-8e60-40f8-ab13-20adea6aeee3",
   "metadata": {},
   "outputs": [
    {
     "data": {
      "application/vnd.jupyter.widget-view+json": {
       "model_id": "42aca056b0ed40cd89c8e5974375e3a2",
       "version_major": 2,
       "version_minor": 0
      },
      "text/plain": [
       "Summarize dataset:   0%|          | 0/5 [00:00<?, ?it/s]"
      ]
     },
     "metadata": {},
     "output_type": "display_data"
    },
    {
     "name": "stderr",
     "output_type": "stream",
     "text": [
      "\n",
      "  0%|                                                                                           | 0/17 [00:00<?, ?it/s]\u001b[A\n",
      "  6%|████▉                                                                              | 1/17 [00:00<00:03,  4.13it/s]\u001b[A\n",
      " 12%|█████████▊                                                                         | 2/17 [00:00<00:02,  5.37it/s]\u001b[A\n",
      " 18%|██████████████▋                                                                    | 3/17 [00:00<00:02,  6.25it/s]\u001b[A\n",
      "100%|██████████████████████████████████████████████████████████████████████████████████| 17/17 [00:00<00:00, 23.65it/s]\u001b[A\n"
     ]
    },
    {
     "data": {
      "application/vnd.jupyter.widget-view+json": {
       "model_id": "5eeafbf08de249b582ce5446d975f476",
       "version_major": 2,
       "version_minor": 0
      },
      "text/plain": [
       "Generate report structure:   0%|          | 0/1 [00:00<?, ?it/s]"
      ]
     },
     "metadata": {},
     "output_type": "display_data"
    },
    {
     "data": {
      "application/vnd.jupyter.widget-view+json": {
       "model_id": "d0125338ceed45d99985f21a3971df43",
       "version_major": 2,
       "version_minor": 0
      },
      "text/plain": [
       "Render HTML:   0%|          | 0/1 [00:00<?, ?it/s]"
      ]
     },
     "metadata": {},
     "output_type": "display_data"
    },
    {
     "data": {
      "application/vnd.jupyter.widget-view+json": {
       "model_id": "73dbe3afaeea4aa3aa3273116bd1b89a",
       "version_major": 2,
       "version_minor": 0
      },
      "text/plain": [
       "Export report to file:   0%|          | 0/1 [00:00<?, ?it/s]"
      ]
     },
     "metadata": {},
     "output_type": "display_data"
    }
   ],
   "source": [
    "profile = ProfileReport(df, title=\"Dataset Descriptive Report\")\n",
    "profile.to_file(\"SCS.html\")\n"
   ]
  },
  {
   "cell_type": "code",
   "execution_count": null,
   "id": "cc42030d-6b13-48b0-ad9f-45e7161529d0",
   "metadata": {},
   "outputs": [],
   "source": []
  }
 ],
 "metadata": {
  "kernelspec": {
   "display_name": "Python 3 (ipykernel)",
   "language": "python",
   "name": "python3"
  },
  "language_info": {
   "codemirror_mode": {
    "name": "ipython",
    "version": 3
   },
   "file_extension": ".py",
   "mimetype": "text/x-python",
   "name": "python",
   "nbconvert_exporter": "python",
   "pygments_lexer": "ipython3",
   "version": "3.12.7"
  }
 },
 "nbformat": 4,
 "nbformat_minor": 5
}
