{
 "cells": [
  {
   "cell_type": "code",
   "execution_count": 1,
   "id": "8f837f8b-a127-48c0-b1a3-eef4023e8c3b",
   "metadata": {},
   "outputs": [],
   "source": [
    "import pandas as pd\n",
    "import seaborn as sns\n",
    "import plotly\n",
    "import matplotlib.pyplot as plt\n",
    "import ipywidgets as widgets\n",
    "from IPython.display import display, clear_output\n"
   ]
  },
  {
   "cell_type": "code",
   "execution_count": 2,
   "id": "b0a42e89-b3c6-4322-abcf-0751a646a7c6",
   "metadata": {},
   "outputs": [],
   "source": [
    "df = pd.read_csv(\"data/subscriptions.csv\")\n",
    "email = 'Customer Email'\n",
    "name = 'Customer Name'\n",
    "c_id = 'Customer ID'"
   ]
  },
  {
   "cell_type": "code",
   "execution_count": 3,
   "id": "3fd5a24e-9baf-4ba6-8712-0f2492671afc",
   "metadata": {},
   "outputs": [],
   "source": [
    "def contains_shir(row):\n",
    "    # exception\n",
    "    if row[email] == 'kshirjarohannaik@gmail.com':\n",
    "        return False\n",
    "    elif 'shir' in row[email]:\n",
    "        return True\n",
    "    elif 'shir' in row[name]:\n",
    "        return True\n",
    "    else:\n",
    "        return False"
   ]
  },
  {
   "cell_type": "code",
   "execution_count": 4,
   "id": "e8b547b5-80db-49a2-8ed9-f3311b375a38",
   "metadata": {},
   "outputs": [],
   "source": [
    "## to detect duplicates & shirs - need to lower"
   ]
  },
  {
   "cell_type": "code",
   "execution_count": 5,
   "id": "8b8510b1-1323-4dbe-82a1-f470246d76cc",
   "metadata": {},
   "outputs": [
    {
     "name": "stdout",
     "output_type": "stream",
     "text": [
      "before removing df.shape = (283, 17)\n",
      "shir_mask.sum() = 13\n",
      "after removing df.shape = (270, 17)\n"
     ]
    }
   ],
   "source": [
    "print(f\"before removing {df.shape = }\")\n",
    "\n",
    "df[email] = df[email].str.lower()\n",
    "df[name] = df[name].str.lower()\n",
    "shir_mask = df.apply(contains_shir, axis=1)\n",
    "print(f\"{shir_mask.sum() = }\")\n",
    "df = df[~shir_mask]\n",
    "print(f\"after removing {df.shape = }\")\n",
    "\n"
   ]
  },
  {
   "cell_type": "code",
   "execution_count": 6,
   "id": "659d042c-c744-4d85-bf4a-b35e5c4d0450",
   "metadata": {},
   "outputs": [
    {
     "name": "stdout",
     "output_type": "stream",
     "text": [
      "dup_e.sum() = 85\n",
      "dup_n.sum() = 85\n",
      "dup_c.sum() = 49\n"
     ]
    }
   ],
   "source": [
    "dup_e = df[email].duplicated(keep=False)\n",
    "print(f\"{dup_e.sum() = }\")\n",
    "dup_n = df[name].duplicated(keep=False)\n",
    "print(f\"{dup_n.sum() = }\")\n",
    "dup_c = df[c_id].duplicated(keep=False)\n",
    "print(f\"{dup_c.sum() = }\")\n"
   ]
  },
  {
   "cell_type": "markdown",
   "id": "d9f4d9c7-b564-4910-8595-0d3c29737a38",
   "metadata": {},
   "source": [
    "### for duplicated names & emails, they are 1-1 unique"
   ]
  },
  {
   "cell_type": "code",
   "execution_count": 7,
   "id": "f1db0172-1139-4be5-813e-af08a1c90c4e",
   "metadata": {},
   "outputs": [
    {
     "name": "stdout",
     "output_type": "stream",
     "text": [
      "both_dup_df.shape = (80, 2)\n",
      "True\n",
      "True\n"
     ]
    }
   ],
   "source": [
    "both_dup_df = df[dup_e & dup_n][[name, email]]#.sort_values(by = identifiers[0])\n",
    "print(f\"{both_dup_df.shape = }\")\n",
    "print((both_dup_df.groupby(email)[name].nunique() == 1).all())\n",
    "print((both_dup_df.groupby(name)[email].nunique() == 1).all())"
   ]
  },
  {
   "cell_type": "code",
   "execution_count": 8,
   "id": "70c098f6-c408-4e26-9f8f-9db62281c211",
   "metadata": {},
   "outputs": [
    {
     "name": "stdout",
     "output_type": "stream",
     "text": [
      "dup_email_only.shape = (5, 2)\n",
      "dup_name_only.shape = (5, 2)\n"
     ]
    }
   ],
   "source": [
    "dup_email_only = df[dup_e & ~dup_n][[name, email]]\n",
    "print(f\"{dup_email_only.shape = }\")\n",
    "dup_name_only = df[~dup_e & dup_n][[name, email]]\n",
    "print(f\"{dup_name_only.shape = }\")"
   ]
  },
  {
   "cell_type": "code",
   "execution_count": 11,
   "id": "95331c3c-04da-4f3f-8e37-e22d568204fa",
   "metadata": {},
   "outputs": [
    {
     "data": {
      "application/vnd.jupyter.widget-view+json": {
       "model_id": "90bdf2ae51984224b0e0920c2850e4d2",
       "version_major": 2,
       "version_minor": 0
      },
      "text/plain": [
       "Output()"
      ]
     },
     "metadata": {},
     "output_type": "display_data"
    },
    {
     "ename": "NameError",
     "evalue": "name 'times_m' is not defined",
     "output_type": "error",
     "traceback": [
      "\u001b[1;31m---------------------------------------------------------------------------\u001b[0m",
      "\u001b[1;31mNameError\u001b[0m                                 Traceback (most recent call last)",
      "Cell \u001b[1;32mIn[11], line 31\u001b[0m\n\u001b[0;32m     29\u001b[0m \u001b[38;5;66;03m# Start the process\u001b[39;00m\n\u001b[0;32m     30\u001b[0m display(output_area)\n\u001b[1;32m---> 31\u001b[0m review_customer(\u001b[38;5;241m0\u001b[39m)\n",
      "Cell \u001b[1;32mIn[11], line 12\u001b[0m, in \u001b[0;36mreview_customer\u001b[1;34m(index)\u001b[0m\n\u001b[0;32m      9\u001b[0m     \u001b[38;5;28;01mreturn\u001b[39;00m\n\u001b[0;32m     11\u001b[0m customer \u001b[38;5;241m=\u001b[39m duplicated_customers_list[index]\n\u001b[1;32m---> 12\u001b[0m df_customer \u001b[38;5;241m=\u001b[39m df[df[\u001b[38;5;124m\"\u001b[39m\u001b[38;5;124mcustomer\u001b[39m\u001b[38;5;124m\"\u001b[39m] \u001b[38;5;241m==\u001b[39m customer][times_m]\n\u001b[0;32m     15\u001b[0m button \u001b[38;5;241m=\u001b[39m widgets\u001b[38;5;241m.\u001b[39mButton(description\u001b[38;5;241m=\u001b[39m\u001b[38;5;124m\"\u001b[39m\u001b[38;5;124mnext\u001b[39m\u001b[38;5;124m\"\u001b[39m)\n\u001b[0;32m     17\u001b[0m \u001b[38;5;28;01mdef\u001b[39;00m \u001b[38;5;21mon_button_clicked\u001b[39m(b):\n\u001b[0;32m     18\u001b[0m     \u001b[38;5;66;03m# Clear and move to next customer\u001b[39;00m\n",
      "\u001b[1;31mNameError\u001b[0m: name 'times_m' is not defined"
     ]
    }
   ],
   "source": [
    "# Wrapper Output outside the function, so it persists across calls\n",
    "output_area = widgets.Output()\n",
    "\n",
    "def review_customer(index=0):\n",
    "    if index >= len(duplicated_customers_list):\n",
    "        with output_area:\n",
    "            clear_output(wait=True)\n",
    "            print(\"✅ Done reviewing all duplicates.\")\n",
    "        return\n",
    "\n",
    "    customer = duplicated_customers_list[index]\n",
    "    df_customer = df[df[\"customer\"] == customer][times_m]\n",
    "\n",
    "\n",
    "    button = widgets.Button(description=\"next\")\n",
    "\n",
    "    def on_button_clicked(b):\n",
    "        # Clear and move to next customer\n",
    "        review_customer(index + 1)\n",
    "\n",
    "    button.on_click(on_button_clicked)\n",
    "\n",
    "    with output_area:\n",
    "        clear_output(wait=True)\n",
    "        print(f\"Reviewing customer {index + 1}/{len(duplicated_customers_list)}\")\n",
    "        print(f\"{customer = }\")\n",
    "        display(df_customer)\n",
    "\n",
    "# Start the process\n",
    "display(output_area)\n",
    "review_customer(0)\n"
   ]
  },
  {
   "cell_type": "code",
   "execution_count": null,
   "id": "44d5d6f7-6652-41f7-83ce-4ba882c3d7ac",
   "metadata": {},
   "outputs": [],
   "source": [
    "dup_email_only.sort_values(by = email).to_csv(\"name_unique_email_duplications.csv\", index = False)\n",
    "dup_name_only.sort_values(by = name).to_csv(\"email_unique_name_duplications.csv\", index = False)"
   ]
  },
  {
   "cell_type": "code",
   "execution_count": null,
   "id": "85886e17-4300-4011-8c2d-474e43e9cbea",
   "metadata": {},
   "outputs": [],
   "source": [
    "# the customer id is redundent\n",
    "print((dup_c == (dup_e & dup_c)).all())\n",
    "print((dup_c == (dup_n & dup_c)).all())\n",
    "df = df.drop(c_id, axis=1)"
   ]
  },
  {
   "cell_type": "code",
   "execution_count": 10,
   "id": "fd3f31b0-cdf8-46a9-8924-a213174aadce",
   "metadata": {},
   "outputs": [
    {
     "name": "stdout",
     "output_type": "stream",
     "text": [
      "dup_customer.sum() =  80\n"
     ]
    }
   ],
   "source": [
    "df['customer'] = df[email] + '-' + df[name]\n",
    "# duplicated \n",
    "dup_customer = df['customer'].duplicated(keep=False)\n",
    "print(f\"{dup_customer.sum() =  }\")\n",
    "duplicated_customers_list = df[dup_customer]['customer'].unique()"
   ]
  },
  {
   "cell_type": "code",
   "execution_count": 12,
   "id": "092c09fe-5e93-49bf-8a6a-e7dc85d73868",
   "metadata": {},
   "outputs": [],
   "source": [
    "# Convert relevant date columns to datetime\n",
    "df['Start Date (UTC)'] = pd.to_datetime(df['Start Date (UTC)'])\n",
    "df['Canceled At (UTC)'] = pd.to_datetime(df['Canceled At (UTC)'])\n",
    "\n",
    "# Extract the month and year\n",
    "df['start_month'] = df['Start Date (UTC)'].dt.to_period('M')\n",
    "df['cancel_month'] = df['Canceled At (UTC)'].dt.to_period('M')\n",
    "\n",
    "\n",
    "times = ['Start Date (UTC)', 'Canceled At (UTC)']\n",
    "times_m = ['start_month', 'cancel_month']\n",
    "\n",
    "resolved_rows = []"
   ]
  },
  {
   "cell_type": "code",
   "execution_count": 13,
   "id": "581e8c2f-5b79-47f8-9293-d4040188a1a7",
   "metadata": {},
   "outputs": [
    {
     "data": {
      "application/vnd.jupyter.widget-view+json": {
       "model_id": "598b64713f014f58a4510d4c504799cc",
       "version_major": 2,
       "version_minor": 0
      },
      "text/plain": [
       "Output()"
      ]
     },
     "metadata": {},
     "output_type": "display_data"
    }
   ],
   "source": [
    "# Wrapper Output outside the function, so it persists across calls\n",
    "output_area = widgets.Output()\n",
    "\n",
    "def review_customer(index=0):\n",
    "    if index >= len(duplicated_customers_list):\n",
    "        with output_area:\n",
    "            clear_output(wait=True)\n",
    "            print(\"✅ Done reviewing all duplicates.\")\n",
    "        return\n",
    "\n",
    "    customer = duplicated_customers_list[index]\n",
    "    df_customer = df[df[\"customer\"] == customer][times_m]\n",
    "\n",
    "    # Create dropdown and button inside this function\n",
    "    dropdown = widgets.Dropdown(\n",
    "        options=df_customer.index.tolist(),\n",
    "        description='Pick index:',\n",
    "        disabled=False,\n",
    "    )\n",
    "\n",
    "    button = widgets.Button(description=\"Confirm\")\n",
    "\n",
    "    def on_button_clicked(b):\n",
    "        resolved_rows.append(df.loc[dropdown.value])\n",
    "        # Clear and move to next customer\n",
    "        review_customer(index + 1)\n",
    "\n",
    "    button.on_click(on_button_clicked)\n",
    "\n",
    "    with output_area:\n",
    "        clear_output(wait=True)\n",
    "        print(f\"Reviewing customer {index + 1}/{len(duplicated_customers_list)}\")\n",
    "        print(f\"{customer = }\")\n",
    "        display(df_customer)\n",
    "        display(dropdown, button)\n",
    "\n",
    "# Start the process\n",
    "display(output_area)\n",
    "review_customer(0)\n"
   ]
  },
  {
   "cell_type": "code",
   "execution_count": null,
   "id": "eb4fbb3b-7082-4625-abc5-ccc91e706e63",
   "metadata": {},
   "outputs": [],
   "source": []
  },
  {
   "cell_type": "code",
   "execution_count": 14,
   "id": "c8a253cd-67d2-40d5-ac11-57fc65bac04c",
   "metadata": {},
   "outputs": [
    {
     "data": {
      "text/plain": [
       "array(['azlinayeo@gmail.com-azlina yeo',\n",
       "       'yingshijinb@gmail.com-yingshi ji',\n",
       "       'moshed88@hotmail.com-moshe dabach', 'lukyip27@gmail.com-y luk',\n",
       "       'anirudhmvr@gmail.com-anirudh manchiraju',\n",
       "       'svithya04@yahoo.com-srivithya  kannathasan ',\n",
       "       'tinateotia@nhs.net-tina teotia das',\n",
       "       'marshacrosby@gmail.com-miss m l crosby',\n",
       "       'mcbride.alan@gmail.com-mr alan mcbride',\n",
       "       'arun1787@gmail.com-mr a thillaisundaram',\n",
       "       'jeojeo0328@hotmail.com-mrs shi zhou',\n",
       "       'marcela.bletzer@gmail.com-mrs marcela bletzer',\n",
       "       'hgajeens@hotmail.com-hilary beck',\n",
       "       'b.armendariz@ucl.ac.uk-beatriz armendariz',\n",
       "       'oana.cicalau@yahoo.com-oana cicalau',\n",
       "       'seanmaccann@gmail.com-sean mac cann',\n",
       "       'ethanhill116@gmail.com-ethan hill',\n",
       "       'jayapriyathanaraj@hotmail.com-jayapriya thanaraj',\n",
       "       'dunnioiyari@gmail.com-dunni omebere-iyari',\n",
       "       'anya@rowanmail.me-anna rowan',\n",
       "       'peravali.padma01@gmail.com-mrs p peravali',\n",
       "       'deexita.patel@gmail.com-deexita patel',\n",
       "       'guinness.tom@gmail.com-tom guinness',\n",
       "       'alexispittas@yahoo.com-mr alexis k pittas',\n",
       "       'luke.a.matthews@hotmail.co.uk-luke matthews',\n",
       "       'agustinservat@gmail.com-agustin servat',\n",
       "       'rajeshravindran05@gmail.com-rajesh ravindran',\n",
       "       'spiffymiss@gmail.com-sarah-jane gamble',\n",
       "       'gerald.preteau@gmail.com-gerald preteau',\n",
       "       'albaverde14@gmail.com-albena vasileva',\n",
       "       'lavagaje@yahoo.com-dr lavanya gajendran',\n",
       "       'mekarenmok@yahoo.com-karen guthrie',\n",
       "       'ankurzadu@gmail.com-ankur zadoo',\n",
       "       'clemence.schulenburg@gmail.com-clemence schulenburg'],\n",
       "      dtype=object)"
      ]
     },
     "execution_count": 14,
     "metadata": {},
     "output_type": "execute_result"
    }
   ],
   "source": [
    "duplicated_customers_list"
   ]
  },
  {
   "cell_type": "code",
   "execution_count": null,
   "id": "24570653-9524-4979-a04e-1a6cbf631d8a",
   "metadata": {},
   "outputs": [],
   "source": []
  }
 ],
 "metadata": {
  "kernelspec": {
   "display_name": "schneider",
   "language": "python",
   "name": "schneider"
  },
  "language_info": {
   "codemirror_mode": {
    "name": "ipython",
    "version": 3
   },
   "file_extension": ".py",
   "mimetype": "text/x-python",
   "name": "python",
   "nbconvert_exporter": "python",
   "pygments_lexer": "ipython3",
   "version": "3.12.7"
  }
 },
 "nbformat": 4,
 "nbformat_minor": 5
}
