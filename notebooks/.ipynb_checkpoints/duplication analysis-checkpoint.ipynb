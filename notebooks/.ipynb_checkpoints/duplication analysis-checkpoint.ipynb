{
 "cells": [
  {
   "cell_type": "code",
   "execution_count": 1,
   "id": "8f837f8b-a127-48c0-b1a3-eef4023e8c3b",
   "metadata": {},
   "outputs": [],
   "source": [
    "import pandas as pd\n",
    "import seaborn as sns\n",
    "import plotly\n",
    "import matplotlib.pyplot as plt\n",
    "import ipywidgets as widgets\n",
    "from IPython.display import display, clear_output\n"
   ]
  },
  {
   "cell_type": "code",
   "execution_count": 2,
   "id": "b0a42e89-b3c6-4322-abcf-0751a646a7c6",
   "metadata": {},
   "outputs": [],
   "source": [
    "df = pd.read_csv(\"../data/subscriptions.csv\")\n",
    "email = 'Customer Email'\n",
    "name = 'Customer Name'\n",
    "c_id = 'Customer ID'"
   ]
  },
  {
   "cell_type": "code",
   "execution_count": 3,
   "id": "3fd5a24e-9baf-4ba6-8712-0f2492671afc",
   "metadata": {},
   "outputs": [],
   "source": [
    "def contains_shir(row):\n",
    "    # exception\n",
    "    if row[email] == 'kshirjarohannaik@gmail.com':\n",
    "        return False\n",
    "    elif 'shir' in row[email]:\n",
    "        return True\n",
    "    elif 'shir' in row[name]:\n",
    "        return True\n",
    "    else:\n",
    "        return False"
   ]
  },
  {
   "cell_type": "code",
   "execution_count": 4,
   "id": "e8b547b5-80db-49a2-8ed9-f3311b375a38",
   "metadata": {},
   "outputs": [
    {
     "name": "stdout",
     "output_type": "stream",
     "text": [
      "before removing df.shape = (283, 17)\n",
      "shir_mask.sum() = 13\n",
      "after removing df.shape = (270, 17)\n"
     ]
    }
   ],
   "source": [
    "## to detect duplicates & shirs - need to lower\n",
    "\n",
    "print(f\"before removing {df.shape = }\")\n",
    "\n",
    "df[email] = df[email].str.lower()\n",
    "df[name] = df[name].str.lower()\n",
    "shir_mask = df.apply(contains_shir, axis=1)\n",
    "print(f\"{shir_mask.sum() = }\")\n",
    "df = df[~shir_mask]\n",
    "print(f\"after removing {df.shape = }\")\n",
    "\n"
   ]
  },
  {
   "cell_type": "code",
   "execution_count": null,
   "id": "8b8510b1-1323-4dbe-82a1-f470246d76cc",
   "metadata": {},
   "outputs": [],
   "source": []
  },
  {
   "cell_type": "code",
   "execution_count": 5,
   "id": "659d042c-c744-4d85-bf4a-b35e5c4d0450",
   "metadata": {},
   "outputs": [
    {
     "name": "stdout",
     "output_type": "stream",
     "text": [
      "dup_e.sum() = 85\n",
      "dup_n.sum() = 85\n",
      "dup_c.sum() = 49\n"
     ]
    }
   ],
   "source": [
    "dup_e = df[email].duplicated(keep=False)\n",
    "print(f\"{dup_e.sum() = }\")\n",
    "dup_n = df[name].duplicated(keep=False)\n",
    "print(f\"{dup_n.sum() = }\")\n",
    "dup_c = df[c_id].duplicated(keep=False)\n",
    "print(f\"{dup_c.sum() = }\")\n"
   ]
  },
  {
   "cell_type": "markdown",
   "id": "d9f4d9c7-b564-4910-8595-0d3c29737a38",
   "metadata": {},
   "source": [
    "### for duplicated names & emails, they are 1-1 unique"
   ]
  },
  {
   "cell_type": "code",
   "execution_count": 9,
   "id": "f1db0172-1139-4be5-813e-af08a1c90c4e",
   "metadata": {},
   "outputs": [
    {
     "name": "stdout",
     "output_type": "stream",
     "text": [
      "both_dup_df.shape = (80, 2)\n",
      "True\n",
      "True\n",
      "both_dup_df[email].nunique() = 34\n",
      "both_dup_df[name].nunique() = 34\n"
     ]
    }
   ],
   "source": [
    "both_dup_df = df[dup_e & dup_n][[name, email]]#.sort_values(by = identifiers[0])\n",
    "print(f\"{both_dup_df.shape = }\")\n",
    "print(f\"{both_dup_df[email].nunique() = }\")\n",
    "print(f\"{both_dup_df[name].nunique() = }\")\n",
    "print((both_dup_df.groupby(email)[name].nunique() == 1).all())\n",
    "print((both_dup_df.groupby(name)[email].nunique() == 1).all())\n",
    "\n"
   ]
  },
  {
   "cell_type": "code",
   "execution_count": 8,
   "id": "70c098f6-c408-4e26-9f8f-9db62281c211",
   "metadata": {},
   "outputs": [
    {
     "name": "stdout",
     "output_type": "stream",
     "text": [
      "dup_email_only.shape = (5, 2)\n",
      "dup_name_only.shape = (5, 2)\n"
     ]
    }
   ],
   "source": [
    "dup_email_only = df[dup_e & ~dup_n][[name, email]]\n",
    "print(f\"{dup_email_only.shape = }\")\n",
    "dup_name_only = df[~dup_e & dup_n][[name, email]]\n",
    "print(f\"{dup_name_only.shape = }\")\n",
    "\n",
    "\n",
    "dup_email_only.sort_values(by = email).to_csv(\"name_unique_email_duplications.csv\", index = False)\n",
    "dup_name_only.sort_values(by = name).to_csv(\"email_unique_name_duplications.csv\", index = False)"
   ]
  },
  {
   "cell_type": "code",
   "execution_count": null,
   "id": "d1dec4c7-ba64-4300-8c78-216b7f04f21e",
   "metadata": {},
   "outputs": [],
   "source": []
  },
  {
   "cell_type": "markdown",
   "id": "7e597425-62ba-43e9-a16d-d162ebef8afc",
   "metadata": {},
   "source": [
    "## Make duplicates analysis"
   ]
  },
  {
   "cell_type": "code",
   "execution_count": 10,
   "id": "010f03af-e720-4c54-a471-213317abf77b",
   "metadata": {},
   "outputs": [],
   "source": [
    "# Convert relevant date columns to datetime\n",
    "df['Start Date (UTC)'] = pd.to_datetime(df['Start Date (UTC)'])\n",
    "df['Canceled At (UTC)'] = pd.to_datetime(df['Canceled At (UTC)'])\n",
    "\n",
    "# Extract the month and year\n",
    "df['start_month'] = df['Start Date (UTC)'].dt.to_period('M')\n",
    "df['cancel_month'] = df['Canceled At (UTC)'].dt.to_period('M')\n",
    "\n",
    "\n",
    "times = ['Start Date (UTC)', 'Canceled At (UTC)']\n",
    "info_cols = ['start_month', 'cancel_month', \"Status\"]\n",
    "\n",
    "resolved_rows = []"
   ]
  },
  {
   "cell_type": "code",
   "execution_count": 11,
   "id": "bfdc0fcc-3864-42cb-9afb-f0ec8d56e50b",
   "metadata": {},
   "outputs": [
    {
     "name": "stdout",
     "output_type": "stream",
     "text": [
      "dup_customer.sum() =  80\n"
     ]
    }
   ],
   "source": [
    "df['customer_id'] = df[email] + '-' + df[name]\n",
    "# duplicated \n",
    "dup_customer = df['customer_id'].duplicated(keep=False)\n",
    "print(f\"{dup_customer.sum() =  }\")\n",
    "duplicated_customers_list = df[dup_customer]['customer_id'].unique()"
   ]
  },
  {
   "cell_type": "code",
   "execution_count": 14,
   "id": "95331c3c-04da-4f3f-8e37-e22d568204fa",
   "metadata": {},
   "outputs": [
    {
     "data": {
      "application/vnd.jupyter.widget-view+json": {
       "model_id": "6829232586bc4a87bcc6aeb712dfcc54",
       "version_major": 2,
       "version_minor": 0
      },
      "text/plain": [
       "Output()"
      ]
     },
     "metadata": {},
     "output_type": "display_data"
    }
   ],
   "source": [
    "# Wrapper Output outside the function, so it persists across calls\n",
    "output_area = widgets.Output()\n",
    "\n",
    "def review_customer(index=0):\n",
    "    if index >= len(duplicated_customers_list):\n",
    "        with output_area:\n",
    "            clear_output(wait=True)\n",
    "            print(\"✅ Done reviewing all duplicates.\")\n",
    "        return\n",
    "\n",
    "    customer = duplicated_customers_list[index]\n",
    "    df_customer = df[df[\"customer_id\"] == customer][info_cols]\n",
    "\n",
    "    # Create dropdown and button inside this function\n",
    "    dropdown = widgets.Dropdown(\n",
    "        options=df_customer.index.tolist(),\n",
    "        description='Pick index:',\n",
    "        disabled=False,\n",
    "    )\n",
    "\n",
    "    button = widgets.Button(description=\"Confirm\")\n",
    "\n",
    "    def on_button_clicked(b):\n",
    "        resolved_rows.append(df.loc[dropdown.value])\n",
    "        # Clear and move to next customer\n",
    "        review_customer(index + 1)\n",
    "\n",
    "    button.on_click(on_button_clicked)\n",
    "\n",
    "    with output_area:\n",
    "        clear_output(wait=True)\n",
    "        print(f\"Reviewing customer {index + 1}/{len(duplicated_customers_list)}\")\n",
    "        print(f\"{customer = }\")\n",
    "        display(df_customer)\n",
    "        display(dropdown, button)\n",
    "\n",
    "# Start the process\n",
    "display(output_area)\n",
    "review_customer(0)\n"
   ]
  },
  {
   "cell_type": "code",
   "execution_count": 31,
   "id": "a9c3d1e8-8de7-4b4a-92c7-1575c96ae1e9",
   "metadata": {},
   "outputs": [],
   "source": [
    "info_cols = ['customer', 'Start Date (UTC)', 'Canceled At (UTC)']"
   ]
  },
  {
   "cell_type": "code",
   "execution_count": 32,
   "id": "44d5d6f7-6652-41f7-83ce-4ba882c3d7ac",
   "metadata": {},
   "outputs": [
    {
     "data": {
      "text/plain": [
       "customer                      azlinayeo@gmail.com-azlina yeo\n",
       "Start Date (UTC)                         2025-07-13 17:15:00\n",
       "Canceled At (UTC)                        2025-07-14 00:55:00\n",
       "customer                    yingshijinb@gmail.com-yingshi ji\n",
       "Start Date (UTC)                         2025-07-09 23:00:00\n",
       "Canceled At (UTC)                                        NaT\n",
       "customer                   moshed88@hotmail.com-moshe dabach\n",
       "Start Date (UTC)                         2025-07-06 23:00:00\n",
       "Canceled At (UTC)                                        NaT\n",
       "customer                            lukyip27@gmail.com-y luk\n",
       "Start Date (UTC)                         2025-07-06 16:40:00\n",
       "Canceled At (UTC)                                        NaT\n",
       "customer             anirudhmvr@gmail.com-anirudh manchiraju\n",
       "Start Date (UTC)                         2025-06-17 20:53:00\n",
       "Canceled At (UTC)                                        NaT\n",
       "dtype: object"
      ]
     },
     "execution_count": 32,
     "metadata": {},
     "output_type": "execute_result"
    }
   ],
   "source": [
    "pd.concat([i[info_cols] for i in resolved_rows])"
   ]
  },
  {
   "cell_type": "code",
   "execution_count": 30,
   "id": "b8017aa5-e7b0-4639-a0c9-3092da808d82",
   "metadata": {},
   "outputs": [
    {
     "data": {
      "text/plain": [
       "RangeIndex(start=0, stop=1, step=1)"
      ]
     },
     "execution_count": 30,
     "metadata": {},
     "output_type": "execute_result"
    }
   ],
   "source": [
    "pd.DataFrame(resolved_rows[0].values)"
   ]
  },
  {
   "cell_type": "code",
   "execution_count": null,
   "id": "a386472c-5d2d-4741-9470-7f039c51525a",
   "metadata": {},
   "outputs": [],
   "source": []
  },
  {
   "cell_type": "code",
   "execution_count": null,
   "id": "a16436be-af29-4eee-be9c-2627c4c8ca31",
   "metadata": {},
   "outputs": [],
   "source": []
  },
  {
   "cell_type": "code",
   "execution_count": null,
   "id": "85886e17-4300-4011-8c2d-474e43e9cbea",
   "metadata": {},
   "outputs": [],
   "source": [
    "# the customer id is redundent\n",
    "print((dup_c == (dup_e & dup_c)).all())\n",
    "print((dup_c == (dup_n & dup_c)).all())\n",
    "df = df.drop(c_id, axis=1)"
   ]
  },
  {
   "cell_type": "code",
   "execution_count": 12,
   "id": "092c09fe-5e93-49bf-8a6a-e7dc85d73868",
   "metadata": {},
   "outputs": [],
   "source": []
  },
  {
   "cell_type": "code",
   "execution_count": 14,
   "id": "c8a253cd-67d2-40d5-ac11-57fc65bac04c",
   "metadata": {},
   "outputs": [
    {
     "data": {
      "text/plain": [
       "array(['azlinayeo@gmail.com-azlina yeo',\n",
       "       'yingshijinb@gmail.com-yingshi ji',\n",
       "       'moshed88@hotmail.com-moshe dabach', 'lukyip27@gmail.com-y luk',\n",
       "       'anirudhmvr@gmail.com-anirudh manchiraju',\n",
       "       'svithya04@yahoo.com-srivithya  kannathasan ',\n",
       "       'tinateotia@nhs.net-tina teotia das',\n",
       "       'marshacrosby@gmail.com-miss m l crosby',\n",
       "       'mcbride.alan@gmail.com-mr alan mcbride',\n",
       "       'arun1787@gmail.com-mr a thillaisundaram',\n",
       "       'jeojeo0328@hotmail.com-mrs shi zhou',\n",
       "       'marcela.bletzer@gmail.com-mrs marcela bletzer',\n",
       "       'hgajeens@hotmail.com-hilary beck',\n",
       "       'b.armendariz@ucl.ac.uk-beatriz armendariz',\n",
       "       'oana.cicalau@yahoo.com-oana cicalau',\n",
       "       'seanmaccann@gmail.com-sean mac cann',\n",
       "       'ethanhill116@gmail.com-ethan hill',\n",
       "       'jayapriyathanaraj@hotmail.com-jayapriya thanaraj',\n",
       "       'dunnioiyari@gmail.com-dunni omebere-iyari',\n",
       "       'anya@rowanmail.me-anna rowan',\n",
       "       'peravali.padma01@gmail.com-mrs p peravali',\n",
       "       'deexita.patel@gmail.com-deexita patel',\n",
       "       'guinness.tom@gmail.com-tom guinness',\n",
       "       'alexispittas@yahoo.com-mr alexis k pittas',\n",
       "       'luke.a.matthews@hotmail.co.uk-luke matthews',\n",
       "       'agustinservat@gmail.com-agustin servat',\n",
       "       'rajeshravindran05@gmail.com-rajesh ravindran',\n",
       "       'spiffymiss@gmail.com-sarah-jane gamble',\n",
       "       'gerald.preteau@gmail.com-gerald preteau',\n",
       "       'albaverde14@gmail.com-albena vasileva',\n",
       "       'lavagaje@yahoo.com-dr lavanya gajendran',\n",
       "       'mekarenmok@yahoo.com-karen guthrie',\n",
       "       'ankurzadu@gmail.com-ankur zadoo',\n",
       "       'clemence.schulenburg@gmail.com-clemence schulenburg'],\n",
       "      dtype=object)"
      ]
     },
     "execution_count": 14,
     "metadata": {},
     "output_type": "execute_result"
    }
   ],
   "source": [
    "duplicated_customers_list"
   ]
  },
  {
   "cell_type": "code",
   "execution_count": null,
   "id": "24570653-9524-4979-a04e-1a6cbf631d8a",
   "metadata": {},
   "outputs": [],
   "source": []
  }
 ],
 "metadata": {
  "kernelspec": {
   "display_name": "schneider",
   "language": "python",
   "name": "schneider"
  },
  "language_info": {
   "codemirror_mode": {
    "name": "ipython",
    "version": 3
   },
   "file_extension": ".py",
   "mimetype": "text/x-python",
   "name": "python",
   "nbconvert_exporter": "python",
   "pygments_lexer": "ipython3",
   "version": "3.12.7"
  }
 },
 "nbformat": 4,
 "nbformat_minor": 5
}
