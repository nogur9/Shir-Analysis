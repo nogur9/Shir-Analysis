{
 "cells": [
  {
   "cell_type": "code",
   "execution_count": 1,
   "id": "c6875134-61a0-4aa6-aa07-1a220e00fbda",
   "metadata": {},
   "outputs": [],
   "source": [
    "import pandas as pd\n",
    "import datetime\n",
    "import numpy as np"
   ]
  },
  {
   "cell_type": "code",
   "execution_count": 2,
   "id": "ed18ef07-c9a5-4cb2-9420-16d30b448a66",
   "metadata": {},
   "outputs": [],
   "source": [
    "df1 = pd.read_csv(\"../legacy/24-8/subscriptions.csv\")\n",
    "df2 = pd.read_csv(\"../legacy/24-8/subscriptions_new.csv\")\n",
    "email = 'Customer Email'\n",
    "name = 'Customer Name'"
   ]
  },
  {
   "cell_type": "code",
   "execution_count": 5,
   "id": "80d3e848-24b8-478c-8a56-5f6c1ed06d5f",
   "metadata": {},
   "outputs": [],
   "source": [
    "max_date = datetime.datetime.strptime(\"31/7/2025\", \"%d/%m/%Y\")"
   ]
  },
  {
   "cell_type": "code",
   "execution_count": 7,
   "id": "a05b39a5-566e-4f07-88f6-845066c704bd",
   "metadata": {},
   "outputs": [
    {
     "data": {
      "text/plain": [
       "0"
      ]
     },
     "execution_count": 7,
     "metadata": {},
     "output_type": "execute_result"
    }
   ],
   "source": [
    "df[df[self.config.get_column('start_date')] <= max_date]"
   ]
  },
  {
   "cell_type": "code",
   "execution_count": 10,
   "id": "a45f7869-7595-4695-b32c-07fee2a934ef",
   "metadata": {},
   "outputs": [
    {
     "data": {
      "text/plain": [
       "293"
      ]
     },
     "execution_count": 10,
     "metadata": {},
     "output_type": "execute_result"
    }
   ],
   "source": [
    "(pd.to_datetime(df2[\"Start Date (UTC)\"]) <= max_date).sum()"
   ]
  },
  {
   "cell_type": "code",
   "execution_count": 3,
   "id": "e9f8ff6b-e034-42bf-8407-4c94c039486d",
   "metadata": {},
   "outputs": [],
   "source": [
    "name, email = f\"{name}_x\", f\"{email}_x\"\n",
    "can = \"Canceled At (UTC)\"\n",
    "can_x, can_y = f\"{can}_x\", f\"{can}_y\""
   ]
  },
  {
   "cell_type": "code",
   "execution_count": 4,
   "id": "8f3be3e1-4a9a-406b-b571-0262fc8f174d",
   "metadata": {},
   "outputs": [],
   "source": [
    "in_cols = [name, email, can_x, can_y]"
   ]
  },
  {
   "cell_type": "code",
   "execution_count": 5,
   "id": "b4017acb-bb35-4aa1-a7ab-f470f9cd0d98",
   "metadata": {},
   "outputs": [],
   "source": [
    "common_cols = [i for i in df1 if i in df2]\n",
    "common_cols.remove('id')\n",
    "mrg = df1.merge(df2, on='id', how='left')"
   ]
  },
  {
   "cell_type": "code",
   "execution_count": 6,
   "id": "e007b555-bf72-4501-9766-41c5f924370f",
   "metadata": {},
   "outputs": [],
   "source": [
    "eq = []\n",
    "not_eq = []\n",
    "for col in common_cols:\n",
    "    tmp  = mrg.dropna(subset=[f\"{col}_x\", f\"{col}_y\"], how='all')\n",
    "    equal = (tmp[f\"{col}_x\"] == tmp[f\"{col}_y\"]).all()\n",
    "    if not equal:\n",
    "        not_eq.append(col)\n",
    "    else:\n",
    "        eq.append(col)"
   ]
  },
  {
   "cell_type": "code",
   "execution_count": 7,
   "id": "f1e2c6fb-3895-465f-884b-b3dbbcfbd33f",
   "metadata": {},
   "outputs": [
    {
     "data": {
      "text/plain": [
       "['Amount',\n",
       " 'Status',\n",
       " 'Start (UTC)',\n",
       " 'Current Period Start (UTC)',\n",
       " 'Current Period End (UTC)',\n",
       " 'Trial End (UTC)',\n",
       " 'Canceled At (UTC)',\n",
       " 'Ended At (UTC)']"
      ]
     },
     "execution_count": 7,
     "metadata": {},
     "output_type": "execute_result"
    }
   ],
   "source": [
    "not_eq"
   ]
  },
  {
   "cell_type": "code",
   "execution_count": 13,
   "id": "a20b1cff-e02e-444c-895d-a77f30576f22",
   "metadata": {},
   "outputs": [
    {
     "data": {
      "text/html": [
       "<div>\n",
       "<style scoped>\n",
       "    .dataframe tbody tr th:only-of-type {\n",
       "        vertical-align: middle;\n",
       "    }\n",
       "\n",
       "    .dataframe tbody tr th {\n",
       "        vertical-align: top;\n",
       "    }\n",
       "\n",
       "    .dataframe thead th {\n",
       "        text-align: right;\n",
       "    }\n",
       "</style>\n",
       "<table border=\"1\" class=\"dataframe\">\n",
       "  <thead>\n",
       "    <tr style=\"text-align: right;\">\n",
       "      <th></th>\n",
       "      <th>Customer Name_x</th>\n",
       "      <th>Customer Email_x</th>\n",
       "      <th>Canceled At (UTC)_x</th>\n",
       "      <th>Canceled At (UTC)_y</th>\n",
       "      <th>Canceled At (UTC)_x</th>\n",
       "      <th>Canceled At (UTC)_y</th>\n",
       "    </tr>\n",
       "  </thead>\n",
       "  <tbody>\n",
       "    <tr>\n",
       "      <th>0</th>\n",
       "      <td>Azlina Yeo</td>\n",
       "      <td>azlinayeo@googlemail.com</td>\n",
       "      <td>NaN</td>\n",
       "      <td>2025-07-20 13:05</td>\n",
       "      <td>NaN</td>\n",
       "      <td>2025-07-20 13:05</td>\n",
       "    </tr>\n",
       "    <tr>\n",
       "      <th>8</th>\n",
       "      <td>Muhammad Hassaan Sarwar</td>\n",
       "      <td>hassaan2312@gmail.com</td>\n",
       "      <td>NaN</td>\n",
       "      <td>2025-07-25 20:45</td>\n",
       "      <td>NaN</td>\n",
       "      <td>2025-07-25 20:45</td>\n",
       "    </tr>\n",
       "    <tr>\n",
       "      <th>10</th>\n",
       "      <td>Priya swaminathan</td>\n",
       "      <td>priya88swami@gmail.com</td>\n",
       "      <td>NaN</td>\n",
       "      <td>2025-08-02 19:59</td>\n",
       "      <td>NaN</td>\n",
       "      <td>2025-08-02 19:59</td>\n",
       "    </tr>\n",
       "    <tr>\n",
       "      <th>90</th>\n",
       "      <td>Ryan Thorne</td>\n",
       "      <td>ryan.thorne@outlook.com</td>\n",
       "      <td>NaN</td>\n",
       "      <td>2025-08-04 07:24</td>\n",
       "      <td>NaN</td>\n",
       "      <td>2025-08-04 07:24</td>\n",
       "    </tr>\n",
       "    <tr>\n",
       "      <th>104</th>\n",
       "      <td>Gabriel Amariutei</td>\n",
       "      <td>loredanamirea05@yahoo.com</td>\n",
       "      <td>NaN</td>\n",
       "      <td>2025-07-19 19:29</td>\n",
       "      <td>NaN</td>\n",
       "      <td>2025-07-19 19:29</td>\n",
       "    </tr>\n",
       "    <tr>\n",
       "      <th>114</th>\n",
       "      <td>Mrs Vanessa Goddevrind</td>\n",
       "      <td>vgoddevrind@gmail.com</td>\n",
       "      <td>NaN</td>\n",
       "      <td>2025-07-25 20:49</td>\n",
       "      <td>NaN</td>\n",
       "      <td>2025-07-25 20:49</td>\n",
       "    </tr>\n",
       "    <tr>\n",
       "      <th>131</th>\n",
       "      <td>Sara waller</td>\n",
       "      <td>sara.waller@outlook.com</td>\n",
       "      <td>NaN</td>\n",
       "      <td>2025-08-07 20:09</td>\n",
       "      <td>NaN</td>\n",
       "      <td>2025-08-07 20:09</td>\n",
       "    </tr>\n",
       "    <tr>\n",
       "      <th>252</th>\n",
       "      <td>N B GUPTA</td>\n",
       "      <td>guptneelam@gmail.com</td>\n",
       "      <td>NaN</td>\n",
       "      <td>2025-08-07 20:11</td>\n",
       "      <td>NaN</td>\n",
       "      <td>2025-08-07 20:11</td>\n",
       "    </tr>\n",
       "  </tbody>\n",
       "</table>\n",
       "</div>"
      ],
      "text/plain": [
       "             Customer Name_x           Customer Email_x Canceled At (UTC)_x  \\\n",
       "0                 Azlina Yeo   azlinayeo@googlemail.com                 NaN   \n",
       "8    Muhammad Hassaan Sarwar      hassaan2312@gmail.com                 NaN   \n",
       "10         Priya swaminathan     priya88swami@gmail.com                 NaN   \n",
       "90               Ryan Thorne    ryan.thorne@outlook.com                 NaN   \n",
       "104        Gabriel Amariutei  loredanamirea05@yahoo.com                 NaN   \n",
       "114   Mrs Vanessa Goddevrind      vgoddevrind@gmail.com                 NaN   \n",
       "131              Sara waller    sara.waller@outlook.com                 NaN   \n",
       "252                N B GUPTA       guptneelam@gmail.com                 NaN   \n",
       "\n",
       "    Canceled At (UTC)_y Canceled At (UTC)_x Canceled At (UTC)_y  \n",
       "0      2025-07-20 13:05                 NaN    2025-07-20 13:05  \n",
       "8      2025-07-25 20:45                 NaN    2025-07-25 20:45  \n",
       "10     2025-08-02 19:59                 NaN    2025-08-02 19:59  \n",
       "90     2025-08-04 07:24                 NaN    2025-08-04 07:24  \n",
       "104    2025-07-19 19:29                 NaN    2025-07-19 19:29  \n",
       "114    2025-07-25 20:49                 NaN    2025-07-25 20:49  \n",
       "131    2025-08-07 20:09                 NaN    2025-08-07 20:09  \n",
       "252    2025-08-07 20:11                 NaN    2025-08-07 20:11  "
      ]
     },
     "execution_count": 13,
     "metadata": {},
     "output_type": "execute_result"
    }
   ],
   "source": [
    "col = 'Canceled At (UTC)'\n",
    "tmp  = mrg.dropna(subset=[f\"{col}_x\", f\"{col}_y\"], how='all')\n",
    "tmp[~pd.Series.eq(tmp[f\"{col}_x\"], tmp[f\"{col}_y\"])][in_cols + [f\"{col}_x\", f\"{col}_y\"]]"
   ]
  },
  {
   "cell_type": "markdown",
   "id": "fa70830b-20a4-48ba-887d-bf3956c95ba5",
   "metadata": {},
   "source": [
    "### notes"
   ]
  },
  {
   "cell_type": "markdown",
   "id": "a86f2e01-b63d-4841-ad82-6239e35cc84e",
   "metadata": {},
   "source": [
    "#### plan changed"
   ]
  },
  {
   "cell_type": "code",
   "execution_count": 9,
   "id": "15ac32f9-427b-4315-a1ef-d478a49baf29",
   "metadata": {},
   "outputs": [
    {
     "data": {
      "text/html": [
       "<div>\n",
       "<style scoped>\n",
       "    .dataframe tbody tr th:only-of-type {\n",
       "        vertical-align: middle;\n",
       "    }\n",
       "\n",
       "    .dataframe tbody tr th {\n",
       "        vertical-align: top;\n",
       "    }\n",
       "\n",
       "    .dataframe thead th {\n",
       "        text-align: right;\n",
       "    }\n",
       "</style>\n",
       "<table border=\"1\" class=\"dataframe\">\n",
       "  <thead>\n",
       "    <tr style=\"text-align: right;\">\n",
       "      <th></th>\n",
       "      <th>Customer Name_x</th>\n",
       "      <th>Customer Email_x</th>\n",
       "      <th>Amount_x</th>\n",
       "      <th>Amount_y</th>\n",
       "    </tr>\n",
       "  </thead>\n",
       "  <tbody>\n",
       "    <tr>\n",
       "      <th>66</th>\n",
       "      <td>Tami Chuang</td>\n",
       "      <td>tamichuang@gmail.com</td>\n",
       "      <td>1080.0</td>\n",
       "      <td>1920.0</td>\n",
       "    </tr>\n",
       "  </tbody>\n",
       "</table>\n",
       "</div>"
      ],
      "text/plain": [
       "   Customer Name_x      Customer Email_x  Amount_x  Amount_y\n",
       "66     Tami Chuang  tamichuang@gmail.com    1080.0    1920.0"
      ]
     },
     "execution_count": 9,
     "metadata": {},
     "output_type": "execute_result"
    }
   ],
   "source": [
    "col = 'Amount'\n",
    "tmp  = mrg.dropna(subset=[f\"{col}_x\", f\"{col}_y\"], how='all')\n",
    "tmp[~pd.Series.eq(tmp[f\"{col}_x\"], tmp[f\"{col}_y\"])][[name, email, f\"{col}_x\", f\"{col}_y\"]]"
   ]
  },
  {
   "cell_type": "code",
   "execution_count": null,
   "id": "dbb1863b-7194-40a7-8e33-e8f880df950c",
   "metadata": {},
   "outputs": [],
   "source": []
  },
  {
   "cell_type": "markdown",
   "id": "e18e670a-b44d-48ec-8f93-d3e5e3ef727f",
   "metadata": {},
   "source": [
    "#### new canceled"
   ]
  },
  {
   "cell_type": "code",
   "execution_count": 10,
   "id": "95bbda7b-176f-4801-9e4e-3a26181d0443",
   "metadata": {},
   "outputs": [
    {
     "data": {
      "text/html": [
       "<div>\n",
       "<style scoped>\n",
       "    .dataframe tbody tr th:only-of-type {\n",
       "        vertical-align: middle;\n",
       "    }\n",
       "\n",
       "    .dataframe tbody tr th {\n",
       "        vertical-align: top;\n",
       "    }\n",
       "\n",
       "    .dataframe thead th {\n",
       "        text-align: right;\n",
       "    }\n",
       "</style>\n",
       "<table border=\"1\" class=\"dataframe\">\n",
       "  <thead>\n",
       "    <tr style=\"text-align: right;\">\n",
       "      <th></th>\n",
       "      <th>Customer Name_x</th>\n",
       "      <th>Customer Email_x</th>\n",
       "      <th>Canceled At (UTC)_x</th>\n",
       "      <th>Canceled At (UTC)_y</th>\n",
       "      <th>Status_x</th>\n",
       "      <th>Status_y</th>\n",
       "    </tr>\n",
       "  </thead>\n",
       "  <tbody>\n",
       "    <tr>\n",
       "      <th>0</th>\n",
       "      <td>Azlina Yeo</td>\n",
       "      <td>azlinayeo@googlemail.com</td>\n",
       "      <td>NaN</td>\n",
       "      <td>2025-07-20 13:05</td>\n",
       "      <td>trialing</td>\n",
       "      <td>canceled</td>\n",
       "    </tr>\n",
       "    <tr>\n",
       "      <th>8</th>\n",
       "      <td>Muhammad Hassaan Sarwar</td>\n",
       "      <td>hassaan2312@gmail.com</td>\n",
       "      <td>NaN</td>\n",
       "      <td>2025-07-25 20:45</td>\n",
       "      <td>active</td>\n",
       "      <td>canceled</td>\n",
       "    </tr>\n",
       "    <tr>\n",
       "      <th>10</th>\n",
       "      <td>Priya swaminathan</td>\n",
       "      <td>priya88swami@gmail.com</td>\n",
       "      <td>NaN</td>\n",
       "      <td>2025-08-02 19:59</td>\n",
       "      <td>active</td>\n",
       "      <td>canceled</td>\n",
       "    </tr>\n",
       "    <tr>\n",
       "      <th>90</th>\n",
       "      <td>Ryan Thorne</td>\n",
       "      <td>ryan.thorne@outlook.com</td>\n",
       "      <td>NaN</td>\n",
       "      <td>2025-08-04 07:24</td>\n",
       "      <td>active</td>\n",
       "      <td>canceled</td>\n",
       "    </tr>\n",
       "    <tr>\n",
       "      <th>104</th>\n",
       "      <td>Gabriel Amariutei</td>\n",
       "      <td>loredanamirea05@yahoo.com</td>\n",
       "      <td>NaN</td>\n",
       "      <td>2025-07-19 19:29</td>\n",
       "      <td>active</td>\n",
       "      <td>canceled</td>\n",
       "    </tr>\n",
       "    <tr>\n",
       "      <th>114</th>\n",
       "      <td>Mrs Vanessa Goddevrind</td>\n",
       "      <td>vgoddevrind@gmail.com</td>\n",
       "      <td>NaN</td>\n",
       "      <td>2025-07-25 20:49</td>\n",
       "      <td>active</td>\n",
       "      <td>canceled</td>\n",
       "    </tr>\n",
       "    <tr>\n",
       "      <th>131</th>\n",
       "      <td>Sara waller</td>\n",
       "      <td>sara.waller@outlook.com</td>\n",
       "      <td>NaN</td>\n",
       "      <td>2025-08-07 20:09</td>\n",
       "      <td>active</td>\n",
       "      <td>canceled</td>\n",
       "    </tr>\n",
       "    <tr>\n",
       "      <th>252</th>\n",
       "      <td>N B GUPTA</td>\n",
       "      <td>guptneelam@gmail.com</td>\n",
       "      <td>NaN</td>\n",
       "      <td>2025-08-07 20:11</td>\n",
       "      <td>active</td>\n",
       "      <td>canceled</td>\n",
       "    </tr>\n",
       "  </tbody>\n",
       "</table>\n",
       "</div>"
      ],
      "text/plain": [
       "             Customer Name_x           Customer Email_x Canceled At (UTC)_x  \\\n",
       "0                 Azlina Yeo   azlinayeo@googlemail.com                 NaN   \n",
       "8    Muhammad Hassaan Sarwar      hassaan2312@gmail.com                 NaN   \n",
       "10         Priya swaminathan     priya88swami@gmail.com                 NaN   \n",
       "90               Ryan Thorne    ryan.thorne@outlook.com                 NaN   \n",
       "104        Gabriel Amariutei  loredanamirea05@yahoo.com                 NaN   \n",
       "114   Mrs Vanessa Goddevrind      vgoddevrind@gmail.com                 NaN   \n",
       "131              Sara waller    sara.waller@outlook.com                 NaN   \n",
       "252                N B GUPTA       guptneelam@gmail.com                 NaN   \n",
       "\n",
       "    Canceled At (UTC)_y  Status_x  Status_y  \n",
       "0      2025-07-20 13:05  trialing  canceled  \n",
       "8      2025-07-25 20:45    active  canceled  \n",
       "10     2025-08-02 19:59    active  canceled  \n",
       "90     2025-08-04 07:24    active  canceled  \n",
       "104    2025-07-19 19:29    active  canceled  \n",
       "114    2025-07-25 20:49    active  canceled  \n",
       "131    2025-08-07 20:09    active  canceled  \n",
       "252    2025-08-07 20:11    active  canceled  "
      ]
     },
     "execution_count": 10,
     "metadata": {},
     "output_type": "execute_result"
    }
   ],
   "source": [
    "col = 'Status'\n",
    "tmp  = mrg.dropna(subset=[f\"{col}_x\", f\"{col}_y\"], how='all')\n",
    "tmp[~pd.Series.eq(tmp[f\"{col}_x\"], tmp[f\"{col}_y\"])][in_cols + [f\"{col}_x\", f\"{col}_y\"]]"
   ]
  },
  {
   "cell_type": "code",
   "execution_count": null,
   "id": "69ff36c1-b2f3-4052-86e1-ff02e1d37975",
   "metadata": {},
   "outputs": [],
   "source": []
  },
  {
   "cell_type": "markdown",
   "id": "7b5e8f61-2c37-4465-b896-06f07556b6a8",
   "metadata": {},
   "source": [
    "#### start incompatibality"
   ]
  },
  {
   "cell_type": "code",
   "execution_count": 12,
   "id": "26fae57b-136e-43a1-8ad4-88088b6b44cc",
   "metadata": {},
   "outputs": [
    {
     "data": {
      "text/html": [
       "<div>\n",
       "<style scoped>\n",
       "    .dataframe tbody tr th:only-of-type {\n",
       "        vertical-align: middle;\n",
       "    }\n",
       "\n",
       "    .dataframe tbody tr th {\n",
       "        vertical-align: top;\n",
       "    }\n",
       "\n",
       "    .dataframe thead th {\n",
       "        text-align: right;\n",
       "    }\n",
       "</style>\n",
       "<table border=\"1\" class=\"dataframe\">\n",
       "  <thead>\n",
       "    <tr style=\"text-align: right;\">\n",
       "      <th></th>\n",
       "      <th>Customer Name_x</th>\n",
       "      <th>Customer Email_x</th>\n",
       "      <th>Start (UTC)_x</th>\n",
       "      <th>Start (UTC)_y</th>\n",
       "    </tr>\n",
       "  </thead>\n",
       "  <tbody>\n",
       "    <tr>\n",
       "      <th>0</th>\n",
       "      <td>Azlina Yeo</td>\n",
       "      <td>azlinayeo@googlemail.com</td>\n",
       "      <td>2025-07-13 17:22</td>\n",
       "      <td>2025-07-20 13:05</td>\n",
       "    </tr>\n",
       "    <tr>\n",
       "      <th>66</th>\n",
       "      <td>Tami Chuang</td>\n",
       "      <td>tamichuang@gmail.com</td>\n",
       "      <td>2025-02-09 08:48</td>\n",
       "      <td>2025-08-07 16:07</td>\n",
       "    </tr>\n",
       "    <tr>\n",
       "      <th>75</th>\n",
       "      <td>Lukas Dendis</td>\n",
       "      <td>dendislukas0@gmail.com</td>\n",
       "      <td>2025-01-31 17:27</td>\n",
       "      <td>2025-07-31 16:15</td>\n",
       "    </tr>\n",
       "    <tr>\n",
       "      <th>153</th>\n",
       "      <td>Craig Petersen</td>\n",
       "      <td>craig@2deviate.com</td>\n",
       "      <td>2025-05-21 18:06</td>\n",
       "      <td>2025-08-07 19:58</td>\n",
       "    </tr>\n",
       "    <tr>\n",
       "      <th>191</th>\n",
       "      <td>Antonio Sawaya</td>\n",
       "      <td>sawaya_a@hotmail.com</td>\n",
       "      <td>2024-07-23 08:09</td>\n",
       "      <td>2025-08-04 17:54</td>\n",
       "    </tr>\n",
       "    <tr>\n",
       "      <th>207</th>\n",
       "      <td>Gerald PRETEAU</td>\n",
       "      <td>gerald.preteau@gmail.com</td>\n",
       "      <td>2025-05-04 13:53</td>\n",
       "      <td>2025-08-02 23:29</td>\n",
       "    </tr>\n",
       "  </tbody>\n",
       "</table>\n",
       "</div>"
      ],
      "text/plain": [
       "    Customer Name_x          Customer Email_x     Start (UTC)_x  \\\n",
       "0        Azlina Yeo  azlinayeo@googlemail.com  2025-07-13 17:22   \n",
       "66      Tami Chuang      tamichuang@gmail.com  2025-02-09 08:48   \n",
       "75     Lukas Dendis    dendislukas0@gmail.com  2025-01-31 17:27   \n",
       "153  Craig Petersen        craig@2deviate.com  2025-05-21 18:06   \n",
       "191  Antonio Sawaya      sawaya_a@hotmail.com  2024-07-23 08:09   \n",
       "207  Gerald PRETEAU  gerald.preteau@gmail.com  2025-05-04 13:53   \n",
       "\n",
       "        Start (UTC)_y  \n",
       "0    2025-07-20 13:05  \n",
       "66   2025-08-07 16:07  \n",
       "75   2025-07-31 16:15  \n",
       "153  2025-08-07 19:58  \n",
       "191  2025-08-04 17:54  \n",
       "207  2025-08-02 23:29  "
      ]
     },
     "execution_count": 12,
     "metadata": {},
     "output_type": "execute_result"
    }
   ],
   "source": [
    "col = 'Start (UTC)'\n",
    "tmp  = mrg.dropna(subset=[f\"{col}_x\", f\"{col}_y\"], how='all')\n",
    "tmp[~pd.Series.eq(tmp[f\"{col}_x\"], tmp[f\"{col}_y\"])][in_cols[:2] + [f\"{col}_x\", f\"{col}_y\"]]"
   ]
  },
  {
   "cell_type": "code",
   "execution_count": null,
   "id": "4186c47a-d91d-4371-ad19-feb5f6a5a21a",
   "metadata": {},
   "outputs": [],
   "source": []
  },
  {
   "cell_type": "code",
   "execution_count": null,
   "id": "b44349f0-1be7-4532-a160-3b8aa92d83d7",
   "metadata": {},
   "outputs": [],
   "source": []
  },
  {
   "cell_type": "code",
   "execution_count": null,
   "id": "7db4d238-a163-42a2-8389-2b80ed2b4625",
   "metadata": {},
   "outputs": [],
   "source": []
  }
 ],
 "metadata": {
  "kernelspec": {
   "display_name": "Python 3 (ipykernel)",
   "language": "python",
   "name": "python3"
  },
  "language_info": {
   "codemirror_mode": {
    "name": "ipython",
    "version": 3
   },
   "file_extension": ".py",
   "mimetype": "text/x-python",
   "name": "python",
   "nbconvert_exporter": "python",
   "pygments_lexer": "ipython3",
   "version": "3.12.7"
  }
 },
 "nbformat": 4,
 "nbformat_minor": 5
}
